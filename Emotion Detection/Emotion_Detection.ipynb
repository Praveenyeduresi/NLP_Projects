{
  "cells": [
    {
      "cell_type": "markdown",
      "source": [
        "**Project Title : Emotion Detection from Text**"
      ],
      "metadata": {
        "id": "zZONNQjUvG1k"
      },
      "id": "zZONNQjUvG1k"
    },
    {
      "cell_type": "markdown",
      "source": [
        "Objective : The main aim of this project is to build the effective model to predict the human emotions such as Happy, Sad, Anger etc., based on the content.   "
      ],
      "metadata": {
        "id": "I0W8Mb0LvdJI"
      },
      "id": "I0W8Mb0LvdJI"
    },
    {
      "cell_type": "code",
      "execution_count": 122,
      "id": "da4510b4",
      "metadata": {
        "id": "da4510b4"
      },
      "outputs": [],
      "source": [
        "#importing necessary libraries\n",
        "import pandas as pd\n",
        "import seaborn as sns\n",
        "import matplotlib.pyplot as plt\n",
        "import numpy as np\n",
        "\n",
        "from sklearn.model_selection import train_test_split\n",
        "from sklearn.feature_extraction.text import TfidfVectorizer\n",
        "from sklearn.preprocessing import LabelEncoder\n",
        "from sklearn.linear_model import LogisticRegression\n",
        "from sklearn.metrics import accuracy_score, classification_report\n",
        "from sklearn.naive_bayes import MultinomialNB\n",
        "from sklearn.ensemble import RandomForestClassifier\n",
        "from sklearn.svm import SVC\n",
        "from sklearn.neighbors import KNeighborsClassifier\n",
        "#!pip install xgboost\n",
        "import xgboost as xgb\n",
        "\n",
        "import tensorflow\n",
        "from tensorflow.keras.preprocessing.text import Tokenizer\n",
        "from tensorflow.keras.preprocessing.sequence import pad_sequences\n",
        "from tensorflow.keras.utils import to_categorical\n",
        "from tensorflow.keras.models import Sequential\n",
        "from tensorflow.keras.layers import LSTM, Dense, Embedding, Dropout\n",
        "\n",
        "\n",
        "import warnings\n",
        "warnings.filterwarnings('ignore')"
      ]
    },
    {
      "cell_type": "code",
      "source": [
        "from google.colab import drive\n",
        "drive.mount('/content/drive')\n"
      ],
      "metadata": {
        "colab": {
          "base_uri": "https://localhost:8080/"
        },
        "id": "gn-h-oyPbHwR",
        "outputId": "36af7587-2ea6-422a-813f-507cceedaae5"
      },
      "id": "gn-h-oyPbHwR",
      "execution_count": 2,
      "outputs": [
        {
          "output_type": "stream",
          "name": "stdout",
          "text": [
            "Mounted at /content/drive\n"
          ]
        }
      ]
    },
    {
      "cell_type": "code",
      "source": [
        "import os\n",
        "os.chdir('/content/drive/My Drive/Kaggle projects/Emotion Detection')"
      ],
      "metadata": {
        "id": "anQA1O1BbIqZ"
      },
      "id": "anQA1O1BbIqZ",
      "execution_count": 3,
      "outputs": []
    },
    {
      "cell_type": "markdown",
      "source": [
        "**Data Loading**"
      ],
      "metadata": {
        "id": "0SitdPuvxGPm"
      },
      "id": "0SitdPuvxGPm"
    },
    {
      "cell_type": "code",
      "execution_count": 147,
      "id": "72329fa4",
      "metadata": {
        "colab": {
          "base_uri": "https://localhost:8080/",
          "height": 206
        },
        "id": "72329fa4",
        "outputId": "4f265c4f-34bd-4019-dc6e-f2c3a31e316d"
      },
      "outputs": [
        {
          "output_type": "execute_result",
          "data": {
            "text/plain": [
              "     tweet_id   sentiment                                            content\n",
              "0  1956967341       empty  @tiffanylue i know  i was listenin to bad habi...\n",
              "1  1956967666     sadness  Layin n bed with a headache  ughhhh...waitin o...\n",
              "2  1956967696     sadness                Funeral ceremony...gloomy friday...\n",
              "3  1956967789  enthusiasm               wants to hang out with friends SOON!\n",
              "4  1956968416     neutral  @dannycastillo We want to trade with someone w..."
            ],
            "text/html": [
              "\n",
              "  <div id=\"df-3d89d456-6fda-49bb-9c19-f331405cc516\" class=\"colab-df-container\">\n",
              "    <div>\n",
              "<style scoped>\n",
              "    .dataframe tbody tr th:only-of-type {\n",
              "        vertical-align: middle;\n",
              "    }\n",
              "\n",
              "    .dataframe tbody tr th {\n",
              "        vertical-align: top;\n",
              "    }\n",
              "\n",
              "    .dataframe thead th {\n",
              "        text-align: right;\n",
              "    }\n",
              "</style>\n",
              "<table border=\"1\" class=\"dataframe\">\n",
              "  <thead>\n",
              "    <tr style=\"text-align: right;\">\n",
              "      <th></th>\n",
              "      <th>tweet_id</th>\n",
              "      <th>sentiment</th>\n",
              "      <th>content</th>\n",
              "    </tr>\n",
              "  </thead>\n",
              "  <tbody>\n",
              "    <tr>\n",
              "      <th>0</th>\n",
              "      <td>1956967341</td>\n",
              "      <td>empty</td>\n",
              "      <td>@tiffanylue i know  i was listenin to bad habi...</td>\n",
              "    </tr>\n",
              "    <tr>\n",
              "      <th>1</th>\n",
              "      <td>1956967666</td>\n",
              "      <td>sadness</td>\n",
              "      <td>Layin n bed with a headache  ughhhh...waitin o...</td>\n",
              "    </tr>\n",
              "    <tr>\n",
              "      <th>2</th>\n",
              "      <td>1956967696</td>\n",
              "      <td>sadness</td>\n",
              "      <td>Funeral ceremony...gloomy friday...</td>\n",
              "    </tr>\n",
              "    <tr>\n",
              "      <th>3</th>\n",
              "      <td>1956967789</td>\n",
              "      <td>enthusiasm</td>\n",
              "      <td>wants to hang out with friends SOON!</td>\n",
              "    </tr>\n",
              "    <tr>\n",
              "      <th>4</th>\n",
              "      <td>1956968416</td>\n",
              "      <td>neutral</td>\n",
              "      <td>@dannycastillo We want to trade with someone w...</td>\n",
              "    </tr>\n",
              "  </tbody>\n",
              "</table>\n",
              "</div>\n",
              "    <div class=\"colab-df-buttons\">\n",
              "\n",
              "  <div class=\"colab-df-container\">\n",
              "    <button class=\"colab-df-convert\" onclick=\"convertToInteractive('df-3d89d456-6fda-49bb-9c19-f331405cc516')\"\n",
              "            title=\"Convert this dataframe to an interactive table.\"\n",
              "            style=\"display:none;\">\n",
              "\n",
              "  <svg xmlns=\"http://www.w3.org/2000/svg\" height=\"24px\" viewBox=\"0 -960 960 960\">\n",
              "    <path d=\"M120-120v-720h720v720H120Zm60-500h600v-160H180v160Zm220 220h160v-160H400v160Zm0 220h160v-160H400v160ZM180-400h160v-160H180v160Zm440 0h160v-160H620v160ZM180-180h160v-160H180v160Zm440 0h160v-160H620v160Z\"/>\n",
              "  </svg>\n",
              "    </button>\n",
              "\n",
              "  <style>\n",
              "    .colab-df-container {\n",
              "      display:flex;\n",
              "      gap: 12px;\n",
              "    }\n",
              "\n",
              "    .colab-df-convert {\n",
              "      background-color: #E8F0FE;\n",
              "      border: none;\n",
              "      border-radius: 50%;\n",
              "      cursor: pointer;\n",
              "      display: none;\n",
              "      fill: #1967D2;\n",
              "      height: 32px;\n",
              "      padding: 0 0 0 0;\n",
              "      width: 32px;\n",
              "    }\n",
              "\n",
              "    .colab-df-convert:hover {\n",
              "      background-color: #E2EBFA;\n",
              "      box-shadow: 0px 1px 2px rgba(60, 64, 67, 0.3), 0px 1px 3px 1px rgba(60, 64, 67, 0.15);\n",
              "      fill: #174EA6;\n",
              "    }\n",
              "\n",
              "    .colab-df-buttons div {\n",
              "      margin-bottom: 4px;\n",
              "    }\n",
              "\n",
              "    [theme=dark] .colab-df-convert {\n",
              "      background-color: #3B4455;\n",
              "      fill: #D2E3FC;\n",
              "    }\n",
              "\n",
              "    [theme=dark] .colab-df-convert:hover {\n",
              "      background-color: #434B5C;\n",
              "      box-shadow: 0px 1px 3px 1px rgba(0, 0, 0, 0.15);\n",
              "      filter: drop-shadow(0px 1px 2px rgba(0, 0, 0, 0.3));\n",
              "      fill: #FFFFFF;\n",
              "    }\n",
              "  </style>\n",
              "\n",
              "    <script>\n",
              "      const buttonEl =\n",
              "        document.querySelector('#df-3d89d456-6fda-49bb-9c19-f331405cc516 button.colab-df-convert');\n",
              "      buttonEl.style.display =\n",
              "        google.colab.kernel.accessAllowed ? 'block' : 'none';\n",
              "\n",
              "      async function convertToInteractive(key) {\n",
              "        const element = document.querySelector('#df-3d89d456-6fda-49bb-9c19-f331405cc516');\n",
              "        const dataTable =\n",
              "          await google.colab.kernel.invokeFunction('convertToInteractive',\n",
              "                                                    [key], {});\n",
              "        if (!dataTable) return;\n",
              "\n",
              "        const docLinkHtml = 'Like what you see? Visit the ' +\n",
              "          '<a target=\"_blank\" href=https://colab.research.google.com/notebooks/data_table.ipynb>data table notebook</a>'\n",
              "          + ' to learn more about interactive tables.';\n",
              "        element.innerHTML = '';\n",
              "        dataTable['output_type'] = 'display_data';\n",
              "        await google.colab.output.renderOutput(dataTable, element);\n",
              "        const docLink = document.createElement('div');\n",
              "        docLink.innerHTML = docLinkHtml;\n",
              "        element.appendChild(docLink);\n",
              "      }\n",
              "    </script>\n",
              "  </div>\n",
              "\n",
              "\n",
              "<div id=\"df-5070acbc-91cf-43b0-af95-16d56ba8d0b3\">\n",
              "  <button class=\"colab-df-quickchart\" onclick=\"quickchart('df-5070acbc-91cf-43b0-af95-16d56ba8d0b3')\"\n",
              "            title=\"Suggest charts\"\n",
              "            style=\"display:none;\">\n",
              "\n",
              "<svg xmlns=\"http://www.w3.org/2000/svg\" height=\"24px\"viewBox=\"0 0 24 24\"\n",
              "     width=\"24px\">\n",
              "    <g>\n",
              "        <path d=\"M19 3H5c-1.1 0-2 .9-2 2v14c0 1.1.9 2 2 2h14c1.1 0 2-.9 2-2V5c0-1.1-.9-2-2-2zM9 17H7v-7h2v7zm4 0h-2V7h2v10zm4 0h-2v-4h2v4z\"/>\n",
              "    </g>\n",
              "</svg>\n",
              "  </button>\n",
              "\n",
              "<style>\n",
              "  .colab-df-quickchart {\n",
              "      --bg-color: #E8F0FE;\n",
              "      --fill-color: #1967D2;\n",
              "      --hover-bg-color: #E2EBFA;\n",
              "      --hover-fill-color: #174EA6;\n",
              "      --disabled-fill-color: #AAA;\n",
              "      --disabled-bg-color: #DDD;\n",
              "  }\n",
              "\n",
              "  [theme=dark] .colab-df-quickchart {\n",
              "      --bg-color: #3B4455;\n",
              "      --fill-color: #D2E3FC;\n",
              "      --hover-bg-color: #434B5C;\n",
              "      --hover-fill-color: #FFFFFF;\n",
              "      --disabled-bg-color: #3B4455;\n",
              "      --disabled-fill-color: #666;\n",
              "  }\n",
              "\n",
              "  .colab-df-quickchart {\n",
              "    background-color: var(--bg-color);\n",
              "    border: none;\n",
              "    border-radius: 50%;\n",
              "    cursor: pointer;\n",
              "    display: none;\n",
              "    fill: var(--fill-color);\n",
              "    height: 32px;\n",
              "    padding: 0;\n",
              "    width: 32px;\n",
              "  }\n",
              "\n",
              "  .colab-df-quickchart:hover {\n",
              "    background-color: var(--hover-bg-color);\n",
              "    box-shadow: 0 1px 2px rgba(60, 64, 67, 0.3), 0 1px 3px 1px rgba(60, 64, 67, 0.15);\n",
              "    fill: var(--button-hover-fill-color);\n",
              "  }\n",
              "\n",
              "  .colab-df-quickchart-complete:disabled,\n",
              "  .colab-df-quickchart-complete:disabled:hover {\n",
              "    background-color: var(--disabled-bg-color);\n",
              "    fill: var(--disabled-fill-color);\n",
              "    box-shadow: none;\n",
              "  }\n",
              "\n",
              "  .colab-df-spinner {\n",
              "    border: 2px solid var(--fill-color);\n",
              "    border-color: transparent;\n",
              "    border-bottom-color: var(--fill-color);\n",
              "    animation:\n",
              "      spin 1s steps(1) infinite;\n",
              "  }\n",
              "\n",
              "  @keyframes spin {\n",
              "    0% {\n",
              "      border-color: transparent;\n",
              "      border-bottom-color: var(--fill-color);\n",
              "      border-left-color: var(--fill-color);\n",
              "    }\n",
              "    20% {\n",
              "      border-color: transparent;\n",
              "      border-left-color: var(--fill-color);\n",
              "      border-top-color: var(--fill-color);\n",
              "    }\n",
              "    30% {\n",
              "      border-color: transparent;\n",
              "      border-left-color: var(--fill-color);\n",
              "      border-top-color: var(--fill-color);\n",
              "      border-right-color: var(--fill-color);\n",
              "    }\n",
              "    40% {\n",
              "      border-color: transparent;\n",
              "      border-right-color: var(--fill-color);\n",
              "      border-top-color: var(--fill-color);\n",
              "    }\n",
              "    60% {\n",
              "      border-color: transparent;\n",
              "      border-right-color: var(--fill-color);\n",
              "    }\n",
              "    80% {\n",
              "      border-color: transparent;\n",
              "      border-right-color: var(--fill-color);\n",
              "      border-bottom-color: var(--fill-color);\n",
              "    }\n",
              "    90% {\n",
              "      border-color: transparent;\n",
              "      border-bottom-color: var(--fill-color);\n",
              "    }\n",
              "  }\n",
              "</style>\n",
              "\n",
              "  <script>\n",
              "    async function quickchart(key) {\n",
              "      const quickchartButtonEl =\n",
              "        document.querySelector('#' + key + ' button');\n",
              "      quickchartButtonEl.disabled = true;  // To prevent multiple clicks.\n",
              "      quickchartButtonEl.classList.add('colab-df-spinner');\n",
              "      try {\n",
              "        const charts = await google.colab.kernel.invokeFunction(\n",
              "            'suggestCharts', [key], {});\n",
              "      } catch (error) {\n",
              "        console.error('Error during call to suggestCharts:', error);\n",
              "      }\n",
              "      quickchartButtonEl.classList.remove('colab-df-spinner');\n",
              "      quickchartButtonEl.classList.add('colab-df-quickchart-complete');\n",
              "    }\n",
              "    (() => {\n",
              "      let quickchartButtonEl =\n",
              "        document.querySelector('#df-5070acbc-91cf-43b0-af95-16d56ba8d0b3 button');\n",
              "      quickchartButtonEl.style.display =\n",
              "        google.colab.kernel.accessAllowed ? 'block' : 'none';\n",
              "    })();\n",
              "  </script>\n",
              "</div>\n",
              "\n",
              "    </div>\n",
              "  </div>\n"
            ],
            "application/vnd.google.colaboratory.intrinsic+json": {
              "type": "dataframe",
              "variable_name": "df",
              "summary": "{\n  \"name\": \"df\",\n  \"rows\": 40000,\n  \"fields\": [\n    {\n      \"column\": \"tweet_id\",\n      \"properties\": {\n        \"dtype\": \"number\",\n        \"std\": 118857896,\n        \"min\": 1693956175,\n        \"max\": 1966441171,\n        \"num_unique_values\": 40000,\n        \"samples\": [\n          1752414968,\n          1965295852,\n          1696219218\n        ],\n        \"semantic_type\": \"\",\n        \"description\": \"\"\n      }\n    },\n    {\n      \"column\": \"sentiment\",\n      \"properties\": {\n        \"dtype\": \"category\",\n        \"num_unique_values\": 13,\n        \"samples\": [\n          \"relief\",\n          \"happiness\",\n          \"empty\"\n        ],\n        \"semantic_type\": \"\",\n        \"description\": \"\"\n      }\n    },\n    {\n      \"column\": \"content\",\n      \"properties\": {\n        \"dtype\": \"string\",\n        \"num_unique_values\": 39827,\n        \"samples\": [\n          \"the sun is shinning! im off out!!\",\n          \"wow i must have been tired. i fell asleep @ exactly the start of the 10pm news &amp; now up as if its 8am.\",\n          \"@knobzie their loss\"\n        ],\n        \"semantic_type\": \"\",\n        \"description\": \"\"\n      }\n    }\n  ]\n}"
            }
          },
          "metadata": {},
          "execution_count": 147
        }
      ],
      "source": [
        "df=pd.read_csv(\"tweet_emotions.csv\")\n",
        "df.head()"
      ]
    },
    {
      "cell_type": "markdown",
      "source": [
        "**Data Exploration**"
      ],
      "metadata": {
        "id": "HPVELcSxxRve"
      },
      "id": "HPVELcSxxRve"
    },
    {
      "cell_type": "code",
      "execution_count": 5,
      "id": "64e7fb5a",
      "metadata": {
        "id": "64e7fb5a",
        "colab": {
          "base_uri": "https://localhost:8080/"
        },
        "outputId": "f9813580-8dfb-4503-d0dd-1e1d59ca6443"
      },
      "outputs": [
        {
          "output_type": "stream",
          "name": "stdout",
          "text": [
            "(40000, 3)\n",
            "<class 'pandas.core.frame.DataFrame'>\n",
            "RangeIndex: 40000 entries, 0 to 39999\n",
            "Data columns (total 3 columns):\n",
            " #   Column     Non-Null Count  Dtype \n",
            "---  ------     --------------  ----- \n",
            " 0   tweet_id   40000 non-null  int64 \n",
            " 1   sentiment  40000 non-null  object\n",
            " 2   content    40000 non-null  object\n",
            "dtypes: int64(1), object(2)\n",
            "memory usage: 937.6+ KB\n"
          ]
        }
      ],
      "source": [
        "print(df.shape)\n",
        "df.info()"
      ]
    },
    {
      "cell_type": "code",
      "source": [
        "df.isna().sum()"
      ],
      "metadata": {
        "colab": {
          "base_uri": "https://localhost:8080/",
          "height": 178
        },
        "id": "OKwNlgXOJ2_C",
        "outputId": "2c09089b-0627-48ea-fb11-83a14c3d2b82"
      },
      "id": "OKwNlgXOJ2_C",
      "execution_count": 6,
      "outputs": [
        {
          "output_type": "execute_result",
          "data": {
            "text/plain": [
              "tweet_id     0\n",
              "sentiment    0\n",
              "content      0\n",
              "dtype: int64"
            ],
            "text/html": [
              "<div>\n",
              "<style scoped>\n",
              "    .dataframe tbody tr th:only-of-type {\n",
              "        vertical-align: middle;\n",
              "    }\n",
              "\n",
              "    .dataframe tbody tr th {\n",
              "        vertical-align: top;\n",
              "    }\n",
              "\n",
              "    .dataframe thead th {\n",
              "        text-align: right;\n",
              "    }\n",
              "</style>\n",
              "<table border=\"1\" class=\"dataframe\">\n",
              "  <thead>\n",
              "    <tr style=\"text-align: right;\">\n",
              "      <th></th>\n",
              "      <th>0</th>\n",
              "    </tr>\n",
              "  </thead>\n",
              "  <tbody>\n",
              "    <tr>\n",
              "      <th>tweet_id</th>\n",
              "      <td>0</td>\n",
              "    </tr>\n",
              "    <tr>\n",
              "      <th>sentiment</th>\n",
              "      <td>0</td>\n",
              "    </tr>\n",
              "    <tr>\n",
              "      <th>content</th>\n",
              "      <td>0</td>\n",
              "    </tr>\n",
              "  </tbody>\n",
              "</table>\n",
              "</div><br><label><b>dtype:</b> int64</label>"
            ]
          },
          "metadata": {},
          "execution_count": 6
        }
      ]
    },
    {
      "cell_type": "code",
      "source": [
        "df[df.duplicated('tweet_id')]"
      ],
      "metadata": {
        "colab": {
          "base_uri": "https://localhost:8080/",
          "height": 53
        },
        "id": "TTn20esmKCMg",
        "outputId": "483f7e4d-d92a-45c0-f4c0-f78bcb32f1ed"
      },
      "id": "TTn20esmKCMg",
      "execution_count": 10,
      "outputs": [
        {
          "output_type": "execute_result",
          "data": {
            "text/plain": [
              "Empty DataFrame\n",
              "Columns: [tweet_id, sentiment, content]\n",
              "Index: []"
            ],
            "text/html": [
              "\n",
              "  <div id=\"df-7c8b7ac9-5e3c-4c15-830a-65edf6b83bb7\" class=\"colab-df-container\">\n",
              "    <div>\n",
              "<style scoped>\n",
              "    .dataframe tbody tr th:only-of-type {\n",
              "        vertical-align: middle;\n",
              "    }\n",
              "\n",
              "    .dataframe tbody tr th {\n",
              "        vertical-align: top;\n",
              "    }\n",
              "\n",
              "    .dataframe thead th {\n",
              "        text-align: right;\n",
              "    }\n",
              "</style>\n",
              "<table border=\"1\" class=\"dataframe\">\n",
              "  <thead>\n",
              "    <tr style=\"text-align: right;\">\n",
              "      <th></th>\n",
              "      <th>tweet_id</th>\n",
              "      <th>sentiment</th>\n",
              "      <th>content</th>\n",
              "    </tr>\n",
              "  </thead>\n",
              "  <tbody>\n",
              "  </tbody>\n",
              "</table>\n",
              "</div>\n",
              "    <div class=\"colab-df-buttons\">\n",
              "\n",
              "  <div class=\"colab-df-container\">\n",
              "    <button class=\"colab-df-convert\" onclick=\"convertToInteractive('df-7c8b7ac9-5e3c-4c15-830a-65edf6b83bb7')\"\n",
              "            title=\"Convert this dataframe to an interactive table.\"\n",
              "            style=\"display:none;\">\n",
              "\n",
              "  <svg xmlns=\"http://www.w3.org/2000/svg\" height=\"24px\" viewBox=\"0 -960 960 960\">\n",
              "    <path d=\"M120-120v-720h720v720H120Zm60-500h600v-160H180v160Zm220 220h160v-160H400v160Zm0 220h160v-160H400v160ZM180-400h160v-160H180v160Zm440 0h160v-160H620v160ZM180-180h160v-160H180v160Zm440 0h160v-160H620v160Z\"/>\n",
              "  </svg>\n",
              "    </button>\n",
              "\n",
              "  <style>\n",
              "    .colab-df-container {\n",
              "      display:flex;\n",
              "      gap: 12px;\n",
              "    }\n",
              "\n",
              "    .colab-df-convert {\n",
              "      background-color: #E8F0FE;\n",
              "      border: none;\n",
              "      border-radius: 50%;\n",
              "      cursor: pointer;\n",
              "      display: none;\n",
              "      fill: #1967D2;\n",
              "      height: 32px;\n",
              "      padding: 0 0 0 0;\n",
              "      width: 32px;\n",
              "    }\n",
              "\n",
              "    .colab-df-convert:hover {\n",
              "      background-color: #E2EBFA;\n",
              "      box-shadow: 0px 1px 2px rgba(60, 64, 67, 0.3), 0px 1px 3px 1px rgba(60, 64, 67, 0.15);\n",
              "      fill: #174EA6;\n",
              "    }\n",
              "\n",
              "    .colab-df-buttons div {\n",
              "      margin-bottom: 4px;\n",
              "    }\n",
              "\n",
              "    [theme=dark] .colab-df-convert {\n",
              "      background-color: #3B4455;\n",
              "      fill: #D2E3FC;\n",
              "    }\n",
              "\n",
              "    [theme=dark] .colab-df-convert:hover {\n",
              "      background-color: #434B5C;\n",
              "      box-shadow: 0px 1px 3px 1px rgba(0, 0, 0, 0.15);\n",
              "      filter: drop-shadow(0px 1px 2px rgba(0, 0, 0, 0.3));\n",
              "      fill: #FFFFFF;\n",
              "    }\n",
              "  </style>\n",
              "\n",
              "    <script>\n",
              "      const buttonEl =\n",
              "        document.querySelector('#df-7c8b7ac9-5e3c-4c15-830a-65edf6b83bb7 button.colab-df-convert');\n",
              "      buttonEl.style.display =\n",
              "        google.colab.kernel.accessAllowed ? 'block' : 'none';\n",
              "\n",
              "      async function convertToInteractive(key) {\n",
              "        const element = document.querySelector('#df-7c8b7ac9-5e3c-4c15-830a-65edf6b83bb7');\n",
              "        const dataTable =\n",
              "          await google.colab.kernel.invokeFunction('convertToInteractive',\n",
              "                                                    [key], {});\n",
              "        if (!dataTable) return;\n",
              "\n",
              "        const docLinkHtml = 'Like what you see? Visit the ' +\n",
              "          '<a target=\"_blank\" href=https://colab.research.google.com/notebooks/data_table.ipynb>data table notebook</a>'\n",
              "          + ' to learn more about interactive tables.';\n",
              "        element.innerHTML = '';\n",
              "        dataTable['output_type'] = 'display_data';\n",
              "        await google.colab.output.renderOutput(dataTable, element);\n",
              "        const docLink = document.createElement('div');\n",
              "        docLink.innerHTML = docLinkHtml;\n",
              "        element.appendChild(docLink);\n",
              "      }\n",
              "    </script>\n",
              "  </div>\n",
              "\n",
              "\n",
              "    </div>\n",
              "  </div>\n"
            ],
            "application/vnd.google.colaboratory.intrinsic+json": {
              "type": "dataframe",
              "repr_error": "Out of range float values are not JSON compliant: nan"
            }
          },
          "metadata": {},
          "execution_count": 10
        }
      ]
    },
    {
      "cell_type": "markdown",
      "source": [
        "**Data Preprocessing**"
      ],
      "metadata": {
        "id": "xkWMX3e1xaVh"
      },
      "id": "xkWMX3e1xaVh"
    },
    {
      "cell_type": "code",
      "execution_count": 148,
      "id": "a3d75f37",
      "metadata": {
        "colab": {
          "base_uri": "https://localhost:8080/"
        },
        "id": "a3d75f37",
        "outputId": "313af333-f02e-461b-d596-725c84bfacaa",
        "collapsed": true
      },
      "outputs": [
        {
          "output_type": "stream",
          "name": "stderr",
          "text": [
            "[nltk_data] Downloading package wordnet to /root/nltk_data...\n",
            "[nltk_data]   Package wordnet is already up-to-date!\n",
            "[nltk_data] Downloading package averaged_perceptron_tagger to\n",
            "[nltk_data]     /root/nltk_data...\n",
            "[nltk_data]   Package averaged_perceptron_tagger is already up-to-\n",
            "[nltk_data]       date!\n",
            "[nltk_data] Downloading package averaged_perceptron_tagger_eng to\n",
            "[nltk_data]     /root/nltk_data...\n",
            "[nltk_data]   Package averaged_perceptron_tagger_eng is already up-to-\n",
            "[nltk_data]       date!\n"
          ]
        }
      ],
      "source": [
        "import re\n",
        "import nltk\n",
        "from nltk.corpus import stopwords\n",
        "from nltk.tokenize import word_tokenize\n",
        "from nltk.stem import WordNetLemmatizer\n",
        "from nltk.corpus import wordnet\n",
        "\n",
        "nltk.download('wordnet')\n",
        "nltk.download('averaged_perceptron_tagger')\n",
        "nltk.download('averaged_perceptron_tagger_eng')\n",
        "\n",
        "def get_wordnet_pos(word):\n",
        "    tag = nltk.pos_tag([word])[0][1][0].upper()\n",
        "    tag_dict = {\"J\": wordnet.ADJ, \"N\": wordnet.NOUN, \"V\": wordnet.VERB, \"R\": wordnet.ADV}\n",
        "    return tag_dict.get(tag, wordnet.NOUN)\n",
        "\n",
        "# Preprocessing function with lemmatization\n",
        "def wp1(text):\n",
        "    # Lowercase conversion\n",
        "    text = str(text).lower()\n",
        "\n",
        "    # Remove URLs\n",
        "    text = re.sub(r'http\\S+|www\\S+|https\\S+', '', text, flags=re.MULTILINE)\n",
        "\n",
        "    # Remove special characters and numbers\n",
        "    text = re.sub(r'\\W+|\\d+', ' ', text)\n",
        "\n",
        "    # Tokenization\n",
        "    tokens = word_tokenize(text)\n",
        "\n",
        "    # Remove stop words\n",
        "    stop_words = set(stopwords.words('english'))\n",
        "    tokens = [word for word in tokens if word not in stop_words]\n",
        "\n",
        "    # Lemmatization\n",
        "    lemmatizer = WordNetLemmatizer()\n",
        "    tokens = [lemmatizer.lemmatize(word, get_wordnet_pos(word)) for word in tokens]\n",
        "\n",
        "    # Reconstruct text from tokens\n",
        "    lemma_cleaned_content = ' '.join(tokens)\n",
        "    return lemma_cleaned_content"
      ]
    },
    {
      "cell_type": "code",
      "source": [
        "# Apply the function\n",
        "df['lemma_cleaned_content'] = df['content'].apply(wp1)"
      ],
      "metadata": {
        "id": "zrNGDmRNJ_I8"
      },
      "id": "zrNGDmRNJ_I8",
      "execution_count": 149,
      "outputs": []
    },
    {
      "cell_type": "code",
      "execution_count": 24,
      "id": "56ea0a50",
      "metadata": {
        "colab": {
          "base_uri": "https://localhost:8080/",
          "height": 363
        },
        "id": "56ea0a50",
        "outputId": "f7eca41e-adb5-4518-a68b-0951cdd86089"
      },
      "outputs": [
        {
          "output_type": "execute_result",
          "data": {
            "text/plain": [
              "     tweet_id   sentiment                                            content  \\\n",
              "0  1956967341       empty  @tiffanylue i know  i was listenin to bad habi...   \n",
              "1  1956967666     sadness  Layin n bed with a headache  ughhhh...waitin o...   \n",
              "2  1956967696     sadness                Funeral ceremony...gloomy friday...   \n",
              "3  1956967789  enthusiasm               wants to hang out with friends SOON!   \n",
              "4  1956968416     neutral  @dannycastillo We want to trade with someone w...   \n",
              "5  1956968477       worry  Re-pinging @ghostridah14: why didn't you go to...   \n",
              "6  1956968487     sadness  I should be sleep, but im not! thinking about ...   \n",
              "7  1956968636       worry               Hmmm. http://www.djhero.com/ is down   \n",
              "8  1956969035     sadness            @charviray Charlene my love. I miss you   \n",
              "9  1956969172     sadness         @kelcouch I'm sorry  at least it's Friday?   \n",
              "\n",
              "                               lemma_cleaned_content  \n",
              "0  tiffanylue know listenin bad habit earlier sta...  \n",
              "1            layin n bed headache ughhhh waitin call  \n",
              "2                     funeral ceremony gloomy friday  \n",
              "3                              want hang friend soon  \n",
              "4  dannycastillo want trade someone houston ticke...  \n",
              "5          ping ghostridah go prom bc bf like friend  \n",
              "6  sleep im think old friend want married damn am...  \n",
              "7                                               hmmm  \n",
              "8                       charviray charlene love miss  \n",
              "9                        kelcouch sorry least friday  "
            ],
            "text/html": [
              "\n",
              "  <div id=\"df-c02dce1f-e5c2-4181-94ec-3f3541222bf4\" class=\"colab-df-container\">\n",
              "    <div>\n",
              "<style scoped>\n",
              "    .dataframe tbody tr th:only-of-type {\n",
              "        vertical-align: middle;\n",
              "    }\n",
              "\n",
              "    .dataframe tbody tr th {\n",
              "        vertical-align: top;\n",
              "    }\n",
              "\n",
              "    .dataframe thead th {\n",
              "        text-align: right;\n",
              "    }\n",
              "</style>\n",
              "<table border=\"1\" class=\"dataframe\">\n",
              "  <thead>\n",
              "    <tr style=\"text-align: right;\">\n",
              "      <th></th>\n",
              "      <th>tweet_id</th>\n",
              "      <th>sentiment</th>\n",
              "      <th>content</th>\n",
              "      <th>lemma_cleaned_content</th>\n",
              "    </tr>\n",
              "  </thead>\n",
              "  <tbody>\n",
              "    <tr>\n",
              "      <th>0</th>\n",
              "      <td>1956967341</td>\n",
              "      <td>empty</td>\n",
              "      <td>@tiffanylue i know  i was listenin to bad habi...</td>\n",
              "      <td>tiffanylue know listenin bad habit earlier sta...</td>\n",
              "    </tr>\n",
              "    <tr>\n",
              "      <th>1</th>\n",
              "      <td>1956967666</td>\n",
              "      <td>sadness</td>\n",
              "      <td>Layin n bed with a headache  ughhhh...waitin o...</td>\n",
              "      <td>layin n bed headache ughhhh waitin call</td>\n",
              "    </tr>\n",
              "    <tr>\n",
              "      <th>2</th>\n",
              "      <td>1956967696</td>\n",
              "      <td>sadness</td>\n",
              "      <td>Funeral ceremony...gloomy friday...</td>\n",
              "      <td>funeral ceremony gloomy friday</td>\n",
              "    </tr>\n",
              "    <tr>\n",
              "      <th>3</th>\n",
              "      <td>1956967789</td>\n",
              "      <td>enthusiasm</td>\n",
              "      <td>wants to hang out with friends SOON!</td>\n",
              "      <td>want hang friend soon</td>\n",
              "    </tr>\n",
              "    <tr>\n",
              "      <th>4</th>\n",
              "      <td>1956968416</td>\n",
              "      <td>neutral</td>\n",
              "      <td>@dannycastillo We want to trade with someone w...</td>\n",
              "      <td>dannycastillo want trade someone houston ticke...</td>\n",
              "    </tr>\n",
              "    <tr>\n",
              "      <th>5</th>\n",
              "      <td>1956968477</td>\n",
              "      <td>worry</td>\n",
              "      <td>Re-pinging @ghostridah14: why didn't you go to...</td>\n",
              "      <td>ping ghostridah go prom bc bf like friend</td>\n",
              "    </tr>\n",
              "    <tr>\n",
              "      <th>6</th>\n",
              "      <td>1956968487</td>\n",
              "      <td>sadness</td>\n",
              "      <td>I should be sleep, but im not! thinking about ...</td>\n",
              "      <td>sleep im think old friend want married damn am...</td>\n",
              "    </tr>\n",
              "    <tr>\n",
              "      <th>7</th>\n",
              "      <td>1956968636</td>\n",
              "      <td>worry</td>\n",
              "      <td>Hmmm. http://www.djhero.com/ is down</td>\n",
              "      <td>hmmm</td>\n",
              "    </tr>\n",
              "    <tr>\n",
              "      <th>8</th>\n",
              "      <td>1956969035</td>\n",
              "      <td>sadness</td>\n",
              "      <td>@charviray Charlene my love. I miss you</td>\n",
              "      <td>charviray charlene love miss</td>\n",
              "    </tr>\n",
              "    <tr>\n",
              "      <th>9</th>\n",
              "      <td>1956969172</td>\n",
              "      <td>sadness</td>\n",
              "      <td>@kelcouch I'm sorry  at least it's Friday?</td>\n",
              "      <td>kelcouch sorry least friday</td>\n",
              "    </tr>\n",
              "  </tbody>\n",
              "</table>\n",
              "</div>\n",
              "    <div class=\"colab-df-buttons\">\n",
              "\n",
              "  <div class=\"colab-df-container\">\n",
              "    <button class=\"colab-df-convert\" onclick=\"convertToInteractive('df-c02dce1f-e5c2-4181-94ec-3f3541222bf4')\"\n",
              "            title=\"Convert this dataframe to an interactive table.\"\n",
              "            style=\"display:none;\">\n",
              "\n",
              "  <svg xmlns=\"http://www.w3.org/2000/svg\" height=\"24px\" viewBox=\"0 -960 960 960\">\n",
              "    <path d=\"M120-120v-720h720v720H120Zm60-500h600v-160H180v160Zm220 220h160v-160H400v160Zm0 220h160v-160H400v160ZM180-400h160v-160H180v160Zm440 0h160v-160H620v160ZM180-180h160v-160H180v160Zm440 0h160v-160H620v160Z\"/>\n",
              "  </svg>\n",
              "    </button>\n",
              "\n",
              "  <style>\n",
              "    .colab-df-container {\n",
              "      display:flex;\n",
              "      gap: 12px;\n",
              "    }\n",
              "\n",
              "    .colab-df-convert {\n",
              "      background-color: #E8F0FE;\n",
              "      border: none;\n",
              "      border-radius: 50%;\n",
              "      cursor: pointer;\n",
              "      display: none;\n",
              "      fill: #1967D2;\n",
              "      height: 32px;\n",
              "      padding: 0 0 0 0;\n",
              "      width: 32px;\n",
              "    }\n",
              "\n",
              "    .colab-df-convert:hover {\n",
              "      background-color: #E2EBFA;\n",
              "      box-shadow: 0px 1px 2px rgba(60, 64, 67, 0.3), 0px 1px 3px 1px rgba(60, 64, 67, 0.15);\n",
              "      fill: #174EA6;\n",
              "    }\n",
              "\n",
              "    .colab-df-buttons div {\n",
              "      margin-bottom: 4px;\n",
              "    }\n",
              "\n",
              "    [theme=dark] .colab-df-convert {\n",
              "      background-color: #3B4455;\n",
              "      fill: #D2E3FC;\n",
              "    }\n",
              "\n",
              "    [theme=dark] .colab-df-convert:hover {\n",
              "      background-color: #434B5C;\n",
              "      box-shadow: 0px 1px 3px 1px rgba(0, 0, 0, 0.15);\n",
              "      filter: drop-shadow(0px 1px 2px rgba(0, 0, 0, 0.3));\n",
              "      fill: #FFFFFF;\n",
              "    }\n",
              "  </style>\n",
              "\n",
              "    <script>\n",
              "      const buttonEl =\n",
              "        document.querySelector('#df-c02dce1f-e5c2-4181-94ec-3f3541222bf4 button.colab-df-convert');\n",
              "      buttonEl.style.display =\n",
              "        google.colab.kernel.accessAllowed ? 'block' : 'none';\n",
              "\n",
              "      async function convertToInteractive(key) {\n",
              "        const element = document.querySelector('#df-c02dce1f-e5c2-4181-94ec-3f3541222bf4');\n",
              "        const dataTable =\n",
              "          await google.colab.kernel.invokeFunction('convertToInteractive',\n",
              "                                                    [key], {});\n",
              "        if (!dataTable) return;\n",
              "\n",
              "        const docLinkHtml = 'Like what you see? Visit the ' +\n",
              "          '<a target=\"_blank\" href=https://colab.research.google.com/notebooks/data_table.ipynb>data table notebook</a>'\n",
              "          + ' to learn more about interactive tables.';\n",
              "        element.innerHTML = '';\n",
              "        dataTable['output_type'] = 'display_data';\n",
              "        await google.colab.output.renderOutput(dataTable, element);\n",
              "        const docLink = document.createElement('div');\n",
              "        docLink.innerHTML = docLinkHtml;\n",
              "        element.appendChild(docLink);\n",
              "      }\n",
              "    </script>\n",
              "  </div>\n",
              "\n",
              "\n",
              "<div id=\"df-acd3e81d-c305-4ad8-a5e0-cd07ce9a749e\">\n",
              "  <button class=\"colab-df-quickchart\" onclick=\"quickchart('df-acd3e81d-c305-4ad8-a5e0-cd07ce9a749e')\"\n",
              "            title=\"Suggest charts\"\n",
              "            style=\"display:none;\">\n",
              "\n",
              "<svg xmlns=\"http://www.w3.org/2000/svg\" height=\"24px\"viewBox=\"0 0 24 24\"\n",
              "     width=\"24px\">\n",
              "    <g>\n",
              "        <path d=\"M19 3H5c-1.1 0-2 .9-2 2v14c0 1.1.9 2 2 2h14c1.1 0 2-.9 2-2V5c0-1.1-.9-2-2-2zM9 17H7v-7h2v7zm4 0h-2V7h2v10zm4 0h-2v-4h2v4z\"/>\n",
              "    </g>\n",
              "</svg>\n",
              "  </button>\n",
              "\n",
              "<style>\n",
              "  .colab-df-quickchart {\n",
              "      --bg-color: #E8F0FE;\n",
              "      --fill-color: #1967D2;\n",
              "      --hover-bg-color: #E2EBFA;\n",
              "      --hover-fill-color: #174EA6;\n",
              "      --disabled-fill-color: #AAA;\n",
              "      --disabled-bg-color: #DDD;\n",
              "  }\n",
              "\n",
              "  [theme=dark] .colab-df-quickchart {\n",
              "      --bg-color: #3B4455;\n",
              "      --fill-color: #D2E3FC;\n",
              "      --hover-bg-color: #434B5C;\n",
              "      --hover-fill-color: #FFFFFF;\n",
              "      --disabled-bg-color: #3B4455;\n",
              "      --disabled-fill-color: #666;\n",
              "  }\n",
              "\n",
              "  .colab-df-quickchart {\n",
              "    background-color: var(--bg-color);\n",
              "    border: none;\n",
              "    border-radius: 50%;\n",
              "    cursor: pointer;\n",
              "    display: none;\n",
              "    fill: var(--fill-color);\n",
              "    height: 32px;\n",
              "    padding: 0;\n",
              "    width: 32px;\n",
              "  }\n",
              "\n",
              "  .colab-df-quickchart:hover {\n",
              "    background-color: var(--hover-bg-color);\n",
              "    box-shadow: 0 1px 2px rgba(60, 64, 67, 0.3), 0 1px 3px 1px rgba(60, 64, 67, 0.15);\n",
              "    fill: var(--button-hover-fill-color);\n",
              "  }\n",
              "\n",
              "  .colab-df-quickchart-complete:disabled,\n",
              "  .colab-df-quickchart-complete:disabled:hover {\n",
              "    background-color: var(--disabled-bg-color);\n",
              "    fill: var(--disabled-fill-color);\n",
              "    box-shadow: none;\n",
              "  }\n",
              "\n",
              "  .colab-df-spinner {\n",
              "    border: 2px solid var(--fill-color);\n",
              "    border-color: transparent;\n",
              "    border-bottom-color: var(--fill-color);\n",
              "    animation:\n",
              "      spin 1s steps(1) infinite;\n",
              "  }\n",
              "\n",
              "  @keyframes spin {\n",
              "    0% {\n",
              "      border-color: transparent;\n",
              "      border-bottom-color: var(--fill-color);\n",
              "      border-left-color: var(--fill-color);\n",
              "    }\n",
              "    20% {\n",
              "      border-color: transparent;\n",
              "      border-left-color: var(--fill-color);\n",
              "      border-top-color: var(--fill-color);\n",
              "    }\n",
              "    30% {\n",
              "      border-color: transparent;\n",
              "      border-left-color: var(--fill-color);\n",
              "      border-top-color: var(--fill-color);\n",
              "      border-right-color: var(--fill-color);\n",
              "    }\n",
              "    40% {\n",
              "      border-color: transparent;\n",
              "      border-right-color: var(--fill-color);\n",
              "      border-top-color: var(--fill-color);\n",
              "    }\n",
              "    60% {\n",
              "      border-color: transparent;\n",
              "      border-right-color: var(--fill-color);\n",
              "    }\n",
              "    80% {\n",
              "      border-color: transparent;\n",
              "      border-right-color: var(--fill-color);\n",
              "      border-bottom-color: var(--fill-color);\n",
              "    }\n",
              "    90% {\n",
              "      border-color: transparent;\n",
              "      border-bottom-color: var(--fill-color);\n",
              "    }\n",
              "  }\n",
              "</style>\n",
              "\n",
              "  <script>\n",
              "    async function quickchart(key) {\n",
              "      const quickchartButtonEl =\n",
              "        document.querySelector('#' + key + ' button');\n",
              "      quickchartButtonEl.disabled = true;  // To prevent multiple clicks.\n",
              "      quickchartButtonEl.classList.add('colab-df-spinner');\n",
              "      try {\n",
              "        const charts = await google.colab.kernel.invokeFunction(\n",
              "            'suggestCharts', [key], {});\n",
              "      } catch (error) {\n",
              "        console.error('Error during call to suggestCharts:', error);\n",
              "      }\n",
              "      quickchartButtonEl.classList.remove('colab-df-spinner');\n",
              "      quickchartButtonEl.classList.add('colab-df-quickchart-complete');\n",
              "    }\n",
              "    (() => {\n",
              "      let quickchartButtonEl =\n",
              "        document.querySelector('#df-acd3e81d-c305-4ad8-a5e0-cd07ce9a749e button');\n",
              "      quickchartButtonEl.style.display =\n",
              "        google.colab.kernel.accessAllowed ? 'block' : 'none';\n",
              "    })();\n",
              "  </script>\n",
              "</div>\n",
              "\n",
              "    </div>\n",
              "  </div>\n"
            ],
            "application/vnd.google.colaboratory.intrinsic+json": {
              "type": "dataframe",
              "variable_name": "df",
              "summary": "{\n  \"name\": \"df\",\n  \"rows\": 40000,\n  \"fields\": [\n    {\n      \"column\": \"tweet_id\",\n      \"properties\": {\n        \"dtype\": \"number\",\n        \"std\": 118857896,\n        \"min\": 1693956175,\n        \"max\": 1966441171,\n        \"num_unique_values\": 40000,\n        \"samples\": [\n          1752414968,\n          1965295852,\n          1696219218\n        ],\n        \"semantic_type\": \"\",\n        \"description\": \"\"\n      }\n    },\n    {\n      \"column\": \"sentiment\",\n      \"properties\": {\n        \"dtype\": \"category\",\n        \"num_unique_values\": 13,\n        \"samples\": [\n          \"relief\",\n          \"happiness\",\n          \"empty\"\n        ],\n        \"semantic_type\": \"\",\n        \"description\": \"\"\n      }\n    },\n    {\n      \"column\": \"content\",\n      \"properties\": {\n        \"dtype\": \"string\",\n        \"num_unique_values\": 39827,\n        \"samples\": [\n          \"the sun is shinning! im off out!!\",\n          \"wow i must have been tired. i fell asleep @ exactly the start of the 10pm news &amp; now up as if its 8am.\",\n          \"@knobzie their loss\"\n        ],\n        \"semantic_type\": \"\",\n        \"description\": \"\"\n      }\n    },\n    {\n      \"column\": \"lemma_cleaned_content\",\n      \"properties\": {\n        \"dtype\": \"string\",\n        \"num_unique_values\": 39325,\n        \"samples\": [\n          \"happy mother day mother mamma mia abba\",\n          \"jemshad cool look forward frequent tweet\",\n          \"happy mother day everyone lucky enough mommy extra special happy luciirene become mommy day\"\n        ],\n        \"semantic_type\": \"\",\n        \"description\": \"\"\n      }\n    }\n  ]\n}"
            }
          },
          "metadata": {},
          "execution_count": 24
        }
      ],
      "source": [
        "df.head(10)"
      ]
    },
    {
      "cell_type": "markdown",
      "source": [
        "**Exploratory Data Analysis**"
      ],
      "metadata": {
        "id": "93oLE7_OPhvn"
      },
      "id": "93oLE7_OPhvn"
    },
    {
      "cell_type": "code",
      "execution_count": 90,
      "id": "642706ea",
      "metadata": {
        "colab": {
          "base_uri": "https://localhost:8080/",
          "height": 1000
        },
        "id": "642706ea",
        "outputId": "1ca33d12-8996-4e79-dd88-3e376193837e"
      },
      "outputs": [
        {
          "output_type": "stream",
          "name": "stdout",
          "text": [
            "sentiment\n",
            "neutral       8638\n",
            "worry         8459\n",
            "happiness     5209\n",
            "sadness       5165\n",
            "love          3842\n",
            "surprise      2187\n",
            "fun           1776\n",
            "relief        1526\n",
            "hate          1323\n",
            "empty          827\n",
            "enthusiasm     759\n",
            "boredom        179\n",
            "anger          110\n",
            "Name: count, dtype: int64\n"
          ]
        },
        {
          "output_type": "display_data",
          "data": {
            "text/plain": [
              "<Figure size 1200x1200 with 1 Axes>"
            ],
            "image/png": "[encoded data removed]"
          },
          "metadata": {}
        }
      ],
      "source": [
        "# Distribution of Sentiment Labels\n",
        "class_distribution = df['sentiment'].value_counts()\n",
        "print(class_distribution)\n",
        "\n",
        "plt.figure(figsize=(12, 12))\n",
        "sns.barplot(x=class_distribution.index, y=class_distribution.values, palette='viridis')\n",
        "plt.xlabel('Sentiment')\n",
        "plt.ylabel('Count')\n",
        "plt.title('Distribution of Sentiment Labels')\n",
        "plt.show()"
      ]
    },
    {
      "cell_type": "markdown",
      "source": [
        "**Observation:** This plot shows the distribution of sentiment labels in the dataset. Neutral & Worry classes having the highest counts i.e, more than 8000 tweets. However, Anger and boredom are having lowest count i.e, less than 1000 tweets."
      ],
      "metadata": {
        "id": "h72az2_q0NBs"
      },
      "id": "h72az2_q0NBs"
    },
    {
      "cell_type": "code",
      "execution_count": 93,
      "id": "4206f959",
      "metadata": {
        "colab": {
          "base_uri": "https://localhost:8080/",
          "height": 564
        },
        "id": "4206f959",
        "outputId": "d7863dc0-03f3-40b7-c4de-73559e36f245"
      },
      "outputs": [
        {
          "output_type": "display_data",
          "data": {
            "text/plain": [
              "<Figure size 1000x600 with 1 Axes>"
            ],
            "image/png": "[encoded data removed]"
          },
          "metadata": {}
        }
      ],
      "source": [
        "# Text Length Distribution\n",
        "df['text_length'] = df['lemma_cleaned_content'].apply(len)\n",
        "\n",
        "plt.figure(figsize=(10, 6))\n",
        "sns.histplot(df['text_length'], bins=30, kde=True, color='blue')\n",
        "plt.xlabel('Text Length')\n",
        "plt.ylabel('Frequency')\n",
        "plt.title('Distribution of Text Length')\n",
        "plt.show()"
      ]
    },
    {
      "cell_type": "markdown",
      "source": [
        "**Observation:**\n",
        "The histogram shows a right-skewed distribution of text lengths, peaking around 30-40 characters. Most texts are short, while longer texts are less frequent."
      ],
      "metadata": {
        "id": "MbtCS8hzFmfL"
      },
      "id": "MbtCS8hzFmfL"
    },
    {
      "cell_type": "markdown",
      "source": [
        "**Vectorization**"
      ],
      "metadata": {
        "id": "XcfujyyUSiYG"
      },
      "id": "XcfujyyUSiYG"
    },
    {
      "cell_type": "code",
      "source": [
        "X = df['lemma_cleaned_content']\n",
        "y = df['sentiment']\n",
        "\n",
        "# Splitting data into train and test sets\n",
        "X_train, X_test, y_train, y_test = train_test_split(X,y, test_size=0.2, random_state=42)"
      ],
      "metadata": {
        "id": "XRXZivB7qWih"
      },
      "id": "XRXZivB7qWih",
      "execution_count": 150,
      "outputs": []
    },
    {
      "cell_type": "code",
      "source": [
        "#Apply TF-IDF Vectorization\n",
        "tfidf = TfidfVectorizer(max_features=10000)  # Limit to top 10000 features\n",
        "X_train_tfidf = tfidf.fit_transform(X_train)\n",
        "X_test_tfidf = tfidf.transform(X_test)\n",
        "\n",
        "print(\"TF-IDF Matrix Shape:\", X_train_tfidf.shape)"
      ],
      "metadata": {
        "colab": {
          "base_uri": "https://localhost:8080/"
        },
        "id": "4w2sH_ShSlUK",
        "outputId": "08c8df4c-1171-4eca-826e-1934e84862f4"
      },
      "id": "4w2sH_ShSlUK",
      "execution_count": 95,
      "outputs": [
        {
          "output_type": "stream",
          "name": "stdout",
          "text": [
            "TF-IDF Matrix Shape: (32000, 10000)\n"
          ]
        }
      ]
    },
    {
      "cell_type": "code",
      "source": [
        "tfidf_feature_names = tfidf.get_feature_names_out()\n",
        "print(\"First 20 words in the vocabulary:\")\n",
        "print(tfidf_feature_names[:20])"
      ],
      "metadata": {
        "colab": {
          "base_uri": "https://localhost:8080/"
        },
        "id": "D1a0NpRcThbE",
        "outputId": "40e58d68-8f55-49a1-a87f-b89ef3659ca4"
      },
      "id": "D1a0NpRcThbE",
      "execution_count": 96,
      "outputs": [
        {
          "output_type": "stream",
          "name": "stdout",
          "text": [
            "First 20 words in the vocabulary:\n",
            "['__' '_bella_cullen' '_enigma__' '_erica' '_handz_' '_supernatural_'\n",
            " '_writersblock_' '_xotashhh' 'a_nobel' 'aa' 'aaaaa' 'aaaaaaaaaamazing'\n",
            " 'aaaaaah' 'aaaaahhhh' 'aaaah' 'aaah' 'aaahhh' 'aaass' 'aaaw' 'aaaww']\n"
          ]
        }
      ]
    },
    {
      "cell_type": "code",
      "source": [
        "# Check TF-IDF scores for the first 5 documents\n",
        "dense_tfidf = X_train_tfidf.todense()\n",
        "for doc_num in range(5):\n",
        "    doc_tfidf = dense_tfidf[doc_num].tolist()[0]\n",
        "    tfidf_scores_doc = [(word, doc_tfidf[i]) for i, word in enumerate(tfidf_feature_names)]\n",
        "    tfidf_scores_doc_sorted = sorted(tfidf_scores_doc, key=lambda x: x[1], reverse=True)\n",
        "\n",
        "    print(f\"\\nTop 5 words by TF-IDF score in document {doc_num + 1}:\")\n",
        "    for word, score in tfidf_scores_doc_sorted[:5]:\n",
        "        print(f\"{word}: {score:.4f}\")"
      ],
      "metadata": {
        "colab": {
          "base_uri": "https://localhost:8080/"
        },
        "id": "6AEOWF5DThUf",
        "outputId": "8536cf7d-f666-4d07-a93d-8a00b4cf6cc3"
      },
      "id": "6AEOWF5DThUf",
      "execution_count": 97,
      "outputs": [
        {
          "output_type": "stream",
          "name": "stdout",
          "text": [
            "\n",
            "Top 5 words by TF-IDF score in document 1:\n",
            "equal: 0.6285\n",
            "baseball: 0.5907\n",
            "plus: 0.5060\n",
            "__: 0.0000\n",
            "_bella_cullen: 0.0000\n",
            "\n",
            "Top 5 words by TF-IDF score in document 2:\n",
            "crew: 0.4780\n",
            "hangover: 0.4297\n",
            "hilarious: 0.4151\n",
            "movie: 0.2910\n",
            "could: 0.2762\n",
            "\n",
            "Top 5 words by TF-IDF score in document 3:\n",
            "work: 0.4366\n",
            "til: 0.3835\n",
            "pm: 0.3804\n",
            "least: 0.3499\n",
            "game: 0.3398\n",
            "\n",
            "Top 5 words by TF-IDF score in document 4:\n",
            "madd: 0.5204\n",
            "stick: 0.4154\n",
            "work: 0.4092\n",
            "freakin: 0.4089\n",
            "till: 0.3244\n",
            "\n",
            "Top 5 words by TF-IDF score in document 5:\n",
            "mean: 0.5194\n",
            "address: 0.3774\n",
            "jack: 0.3484\n",
            "lucky: 0.3012\n",
            "hehe: 0.3002\n"
          ]
        }
      ]
    },
    {
      "cell_type": "markdown",
      "source": [
        "**Modelling**"
      ],
      "metadata": {
        "id": "Yg4KfRiXUngo"
      },
      "id": "Yg4KfRiXUngo"
    },
    {
      "cell_type": "code",
      "execution_count": 107,
      "id": "3ead624b",
      "metadata": {
        "id": "3ead624b",
        "colab": {
          "base_uri": "https://localhost:8080/"
        },
        "outputId": "33407978-4c05-45b1-b628-14007a1777a7"
      },
      "outputs": [
        {
          "output_type": "stream",
          "name": "stdout",
          "text": [
            "Accuracy: 0.34875\n",
            "              precision    recall  f1-score   support\n",
            "\n",
            "       anger       0.00      0.00      0.00        19\n",
            "     boredom       0.00      0.00      0.00        31\n",
            "       empty       0.33      0.01      0.01       162\n",
            "  enthusiasm       0.00      0.00      0.00       163\n",
            "         fun       0.04      0.01      0.01       338\n",
            "   happiness       0.34      0.36      0.35      1028\n",
            "        hate       0.51      0.16      0.25       268\n",
            "        love       0.50      0.38      0.43       762\n",
            "     neutral       0.34      0.57      0.43      1740\n",
            "      relief       0.33      0.03      0.05       352\n",
            "     sadness       0.35      0.25      0.29      1046\n",
            "    surprise       0.36      0.05      0.08       425\n",
            "       worry       0.33      0.47      0.39      1666\n",
            "\n",
            "    accuracy                           0.35      8000\n",
            "   macro avg       0.26      0.18      0.18      8000\n",
            "weighted avg       0.34      0.35      0.31      8000\n",
            "\n"
          ]
        }
      ],
      "source": [
        "#Logistic Regression\n",
        "log_model = LogisticRegression(max_iter=1000)\n",
        "log_model.fit(X_train_tfidf, y_train)\n",
        "y_pred = log_model.predict(X_test_tfidf)\n",
        "\n",
        "# Evaluate the model\n",
        "accuracy = accuracy_score(y_test, y_pred)\n",
        "print(f'Accuracy: {accuracy}')\n",
        "print(classification_report(y_test, y_pred))"
      ]
    },
    {
      "cell_type": "code",
      "execution_count": 99,
      "id": "9e2e690f",
      "metadata": {
        "id": "9e2e690f",
        "colab": {
          "base_uri": "https://localhost:8080/"
        },
        "outputId": "0113668d-6d75-4e1f-e40b-6ac3f34c6eee"
      },
      "outputs": [
        {
          "output_type": "stream",
          "name": "stdout",
          "text": [
            "Accuracy: 0.308125\n",
            "              precision    recall  f1-score   support\n",
            "\n",
            "       anger       0.00      0.00      0.00        19\n",
            "     boredom       0.00      0.00      0.00        31\n",
            "       empty       0.00      0.00      0.00       162\n",
            "  enthusiasm       0.00      0.00      0.00       163\n",
            "         fun       0.00      0.00      0.00       338\n",
            "   happiness       0.35      0.22      0.27      1028\n",
            "        hate       0.00      0.00      0.00       268\n",
            "        love       0.54      0.22      0.31       762\n",
            "     neutral       0.30      0.53      0.39      1740\n",
            "      relief       0.00      0.00      0.00       352\n",
            "     sadness       0.34      0.07      0.11      1046\n",
            "    surprise       0.00      0.00      0.00       425\n",
            "       worry       0.28      0.65      0.40      1666\n",
            "\n",
            "    accuracy                           0.31      8000\n",
            "   macro avg       0.14      0.13      0.11      8000\n",
            "weighted avg       0.27      0.31      0.24      8000\n",
            "\n"
          ]
        }
      ],
      "source": [
        "#Naive Bayes\n",
        "model = MultinomialNB()\n",
        "model.fit(X_train_tfidf, y_train)\n",
        "y_pred = model.predict(X_test_tfidf)\n",
        "# Evaluate the model\n",
        "accuracy = accuracy_score(y_test, y_pred)\n",
        "print(f'Accuracy: {accuracy}')\n",
        "print(classification_report(y_test, y_pred))"
      ]
    },
    {
      "cell_type": "code",
      "execution_count": 79,
      "id": "f2525ab9",
      "metadata": {
        "colab": {
          "base_uri": "https://localhost:8080/"
        },
        "id": "f2525ab9",
        "outputId": "e63a5f49-a5d9-4cd2-9019-3ef90b98519c"
      },
      "outputs": [
        {
          "output_type": "stream",
          "name": "stdout",
          "text": [
            "Accuracy: 0.3315\n",
            "Classification report of Random Forest model:\n",
            "              precision    recall  f1-score   support\n",
            "\n",
            "       anger       0.00      0.00      0.00        19\n",
            "     boredom       0.00      0.00      0.00        31\n",
            "       empty       0.00      0.00      0.00       162\n",
            "  enthusiasm       0.00      0.00      0.00       163\n",
            "         fun       0.16      0.03      0.05       338\n",
            "   happiness       0.31      0.34      0.32      1028\n",
            "        hate       0.37      0.19      0.25       268\n",
            "        love       0.44      0.40      0.42       762\n",
            "     neutral       0.33      0.53      0.41      1740\n",
            "      relief       0.15      0.02      0.03       352\n",
            "     sadness       0.35      0.25      0.29      1046\n",
            "    surprise       0.17      0.03      0.05       425\n",
            "       worry       0.32      0.45      0.37      1666\n",
            "\n",
            "    accuracy                           0.33      8000\n",
            "   macro avg       0.20      0.17      0.17      8000\n",
            "weighted avg       0.30      0.33      0.30      8000\n",
            "\n"
          ]
        }
      ],
      "source": [
        "# Random Forest\n",
        "RandomForest_classifier = RandomForestClassifier(n_estimators=100, random_state=0)\n",
        "RandomForest_classifier.fit(X_train_tfidf, y_train)\n",
        "y_pred = RandomForest_classifier.predict(X_test_tfidf)\n",
        "accuracy = accuracy_score(y_test, y_pred)\n",
        "print(f'Accuracy: {accuracy}')\n",
        "print(\"Classification report of Random Forest model:\")\n",
        "print(classification_report(y_test, y_pred))\n"
      ]
    },
    {
      "cell_type": "code",
      "execution_count": 182,
      "id": "ecf238c9",
      "metadata": {
        "id": "ecf238c9",
        "colab": {
          "base_uri": "https://localhost:8080/"
        },
        "outputId": "2dfeacdc-c58c-4840-df6f-509e09771149"
      },
      "outputs": [
        {
          "output_type": "stream",
          "name": "stdout",
          "text": [
            "Classification report of Support Vector Classifier:\n",
            "              precision    recall  f1-score   support\n",
            "\n",
            "       anger       0.00      0.00      0.00        19\n",
            "     boredom       0.00      0.00      0.00        31\n",
            "       empty       0.00      0.00      0.00       162\n",
            "  enthusiasm       0.00      0.00      0.00       163\n",
            "         fun       0.00      0.00      0.00       338\n",
            "   happiness       0.35      0.28      0.31      1028\n",
            "        hate       0.47      0.14      0.22       268\n",
            "        love       0.50      0.34      0.41       762\n",
            "     neutral       0.30      0.70      0.42      1740\n",
            "      relief       1.00      0.00      0.01       352\n",
            "     sadness       0.46      0.09      0.15      1046\n",
            "    surprise       0.00      0.00      0.00       425\n",
            "       worry       0.33      0.44      0.37      1666\n",
            "\n",
            "    accuracy                           0.33      8000\n",
            "   macro avg       0.26      0.15      0.14      8000\n",
            "weighted avg       0.34      0.33      0.27      8000\n",
            "\n"
          ]
        }
      ],
      "source": [
        "#SVM\n",
        "SV_classifier = SVC(kernel='rbf', random_state=0, gamma=.10, C=1.0)\n",
        "SV_classifier.fit(X_train_tfidf, y_train)\n",
        "y_pred = SV_classifier.predict(X_test_tfidf)\n",
        "\n",
        "print(\"Classification report of Support Vector Classifier:\")\n",
        "print(classification_report(y_test, y_pred))"
      ]
    },
    {
      "cell_type": "code",
      "execution_count": 102,
      "id": "8a92b2dd",
      "metadata": {
        "id": "8a92b2dd",
        "colab": {
          "base_uri": "https://localhost:8080/"
        },
        "outputId": "e567f6f7-9ac5-4246-c714-4f2fb39cd4ec"
      },
      "outputs": [
        {
          "output_type": "stream",
          "name": "stdout",
          "text": [
            "Classification report of KNN Classifier:\n",
            "              precision    recall  f1-score   support\n",
            "\n",
            "       anger       0.00      0.00      0.00        19\n",
            "     boredom       0.00      0.00      0.00        31\n",
            "       empty       0.02      0.05      0.02       162\n",
            "  enthusiasm       0.02      0.01      0.01       163\n",
            "         fun       0.04      0.01      0.01       338\n",
            "   happiness       0.23      0.12      0.16      1028\n",
            "        hate       0.25      0.07      0.11       268\n",
            "        love       0.28      0.12      0.17       762\n",
            "     neutral       0.23      0.70      0.34      1740\n",
            "      relief       0.05      0.00      0.01       352\n",
            "     sadness       0.31      0.08      0.12      1046\n",
            "    surprise       0.11      0.02      0.03       425\n",
            "       worry       0.25      0.09      0.14      1666\n",
            "\n",
            "    accuracy                           0.21      8000\n",
            "   macro avg       0.14      0.10      0.09      8000\n",
            "weighted avg       0.22      0.21      0.16      8000\n",
            "\n"
          ]
        }
      ],
      "source": [
        "#KNN training and evaluation\n",
        "KNN_Classifier = KNeighborsClassifier(n_neighbors=5)\n",
        "KNN_Classifier.fit(X_train_tfidf, y_train)\n",
        "y_pred = KNN_Classifier.predict(X_test_tfidf)\n",
        "\n",
        "print(\"Classification report of KNN Classifier:\")\n",
        "print(classification_report(y_test, y_pred))"
      ]
    },
    {
      "cell_type": "code",
      "source": [
        "label_encoder = LabelEncoder()\n",
        "y_train_encoded = label_encoder.fit_transform(y_train)\n",
        "y_test_encoded = label_encoder.transform(y_test)"
      ],
      "metadata": {
        "id": "1ONTSoU1YHz1"
      },
      "id": "1ONTSoU1YHz1",
      "execution_count": null,
      "outputs": []
    },
    {
      "cell_type": "code",
      "execution_count": 155,
      "id": "f2a3bf16",
      "metadata": {
        "colab": {
          "base_uri": "https://localhost:8080/"
        },
        "id": "f2a3bf16",
        "outputId": "7c6190ed-3c1d-4f08-fd2e-51fa296738fc"
      },
      "outputs": [
        {
          "output_type": "stream",
          "name": "stdout",
          "text": [
            "Classification report of XGBoost Classifier:\n",
            "              precision    recall  f1-score   support\n",
            "\n",
            "           0       0.00      0.00      0.00        19\n",
            "           1       0.00      0.00      0.00        31\n",
            "           2       0.33      0.01      0.02       162\n",
            "           3       0.00      0.00      0.00       163\n",
            "           4       0.14      0.02      0.04       338\n",
            "           5       0.32      0.29      0.31      1028\n",
            "           6       0.39      0.21      0.27       268\n",
            "           7       0.47      0.39      0.43       762\n",
            "           8       0.33      0.66      0.44      1740\n",
            "           9       0.23      0.03      0.05       352\n",
            "          10       0.39      0.26      0.31      1046\n",
            "          11       0.28      0.06      0.10       425\n",
            "          12       0.34      0.39      0.36      1666\n",
            "\n",
            "    accuracy                           0.35      8000\n",
            "   macro avg       0.25      0.18      0.18      8000\n",
            "weighted avg       0.33      0.35      0.31      8000\n",
            "\n"
          ]
        }
      ],
      "source": [
        "xgb_Classifier = xgb.XGBClassifier()\n",
        "xgb_Classifier = xgb_Classifier.fit(X_train_tfidf, y_train_encoded)\n",
        "\n",
        "y_pred = xgb_Classifier.predict(X_test_tfidf)\n",
        "\n",
        "print(\"Classification report of XGBoost Classifier:\")\n",
        "print(classification_report(y_test_encoded, y_pred))"
      ]
    },
    {
      "cell_type": "markdown",
      "source": [
        "**LSTM**"
      ],
      "metadata": {
        "id": "e-XkpST2K0LJ"
      },
      "id": "e-XkpST2K0LJ"
    },
    {
      "cell_type": "code",
      "execution_count": 177,
      "id": "5100563d",
      "metadata": {
        "id": "5100563d"
      },
      "outputs": [],
      "source": [
        "# Tokenization\n",
        "tokenizer = Tokenizer(num_words=max_words)\n",
        "tokenizer.fit_on_texts(X_train)  # Use original text data here\n",
        "X_train_seq = tokenizer.texts_to_sequences(X_train) #Converts text to sequences of word indices\n",
        "X_test_seq = tokenizer.texts_to_sequences(X_test)\n",
        "\n",
        "# Padding\n",
        "X_train_pad = pad_sequences(X_train_seq, maxlen=max_len) #Ensures all sequences have the same length.\n",
        "X_test_pad = pad_sequences(X_test_seq, maxlen=max_len)"
      ]
    },
    {
      "cell_type": "code",
      "source": [
        "y_train_cat = to_categorical(y_train_encoded)\n",
        "y_test_cat = to_categorical(y_test_encoded)\n",
        "\n",
        "# Define Model\n",
        "num_classes = y_train_cat.shape[1]\n",
        "\n",
        "model_lstm = Sequential()\n",
        "model_lstm.add(Embedding(input_dim=max_words, output_dim=128, input_length=max_len))\n",
        "model_lstm.add(LSTM(64, return_sequences=True))\n",
        "model_lstm.add(Dropout(0.5))\n",
        "model_lstm.add(LSTM(32))\n",
        "model_lstm.add(Dropout(0.5))\n",
        "model_lstm.add(Dense(num_classes, activation='softmax'))  # multi classification\n",
        "\n",
        "# Compile Model\n",
        "model_lstm.compile(optimizer='adam', loss='categorical_crossentropy', metrics=['accuracy'])\n"
      ],
      "metadata": {
        "id": "eI6TKgCNNK00"
      },
      "id": "eI6TKgCNNK00",
      "execution_count": 178,
      "outputs": []
    },
    {
      "cell_type": "code",
      "source": [
        "# Train Model\n",
        "model_lstm.fit(X_train_pad, y_train_cat, batch_size=32, epochs=10, validation_data=(X_test_pad, y_test_cat))"
      ],
      "metadata": {
        "colab": {
          "base_uri": "https://localhost:8080/"
        },
        "id": "gxJGeQPzYAsM",
        "outputId": "00533ce7-3cf0-41cc-8a00-1807d11ca034"
      },
      "id": "gxJGeQPzYAsM",
      "execution_count": 179,
      "outputs": [
        {
          "output_type": "stream",
          "name": "stdout",
          "text": [
            "Epoch 1/10\n",
            "\u001b[1m1000/1000\u001b[0m \u001b[32m━━━━━━━━━━━━━━━━━━━━\u001b[0m\u001b[37m\u001b[0m \u001b[1m139s\u001b[0m 133ms/step - accuracy: 0.2365 - loss: 2.1921 - val_accuracy: 0.3409 - val_loss: 1.9408\n",
            "Epoch 2/10\n",
            "\u001b[1m1000/1000\u001b[0m \u001b[32m━━━━━━━━━━━━━━━━━━━━\u001b[0m\u001b[37m\u001b[0m \u001b[1m133s\u001b[0m 133ms/step - accuracy: 0.3731 - loss: 1.8946 - val_accuracy: 0.3536 - val_loss: 1.9114\n",
            "Epoch 3/10\n",
            "\u001b[1m1000/1000\u001b[0m \u001b[32m━━━━━━━━━━━━━━━━━━━━\u001b[0m\u001b[37m\u001b[0m \u001b[1m143s\u001b[0m 134ms/step - accuracy: 0.4364 - loss: 1.7571 - val_accuracy: 0.3451 - val_loss: 1.9458\n",
            "Epoch 4/10\n",
            "\u001b[1m1000/1000\u001b[0m \u001b[32m━━━━━━━━━━━━━━━━━━━━\u001b[0m\u001b[37m\u001b[0m \u001b[1m141s\u001b[0m 133ms/step - accuracy: 0.4796 - loss: 1.6313 - val_accuracy: 0.3419 - val_loss: 2.0293\n",
            "Epoch 5/10\n",
            "\u001b[1m1000/1000\u001b[0m \u001b[32m━━━━━━━━━━━━━━━━━━━━\u001b[0m\u001b[37m\u001b[0m \u001b[1m138s\u001b[0m 129ms/step - accuracy: 0.5254 - loss: 1.4968 - val_accuracy: 0.3206 - val_loss: 2.1056\n",
            "Epoch 6/10\n",
            "\u001b[1m1000/1000\u001b[0m \u001b[32m━━━━━━━━━━━━━━━━━━━━\u001b[0m\u001b[37m\u001b[0m \u001b[1m129s\u001b[0m 129ms/step - accuracy: 0.5694 - loss: 1.3737 - val_accuracy: 0.3190 - val_loss: 2.2188\n",
            "Epoch 7/10\n",
            "\u001b[1m1000/1000\u001b[0m \u001b[32m━━━━━━━━━━━━━━━━━━━━\u001b[0m\u001b[37m\u001b[0m \u001b[1m145s\u001b[0m 132ms/step - accuracy: 0.5965 - loss: 1.2913 - val_accuracy: 0.3114 - val_loss: 2.3576\n",
            "Epoch 8/10\n",
            "\u001b[1m1000/1000\u001b[0m \u001b[32m━━━━━━━━━━━━━━━━━━━━\u001b[0m\u001b[37m\u001b[0m \u001b[1m143s\u001b[0m 133ms/step - accuracy: 0.6310 - loss: 1.1765 - val_accuracy: 0.3122 - val_loss: 2.5072\n",
            "Epoch 9/10\n",
            "\u001b[1m1000/1000\u001b[0m \u001b[32m━━━━━━━━━━━━━━━━━━━━\u001b[0m\u001b[37m\u001b[0m \u001b[1m139s\u001b[0m 130ms/step - accuracy: 0.6512 - loss: 1.1103 - val_accuracy: 0.3052 - val_loss: 2.7188\n",
            "Epoch 10/10\n",
            "\u001b[1m1000/1000\u001b[0m \u001b[32m━━━━━━━━━━━━━━━━━━━━\u001b[0m\u001b[37m\u001b[0m \u001b[1m145s\u001b[0m 133ms/step - accuracy: 0.6762 - loss: 1.0278 - val_accuracy: 0.3051 - val_loss: 2.8684\n"
          ]
        },
        {
          "output_type": "execute_result",
          "data": {
            "text/plain": [
              "<keras.src.callbacks.history.History at 0x78aa556b1c90>"
            ]
          },
          "metadata": {},
          "execution_count": 179
        }
      ]
    },
    {
      "cell_type": "code",
      "source": [
        "# Evaluate the LSTM model\n",
        "loss, accuracy = model_lstm.evaluate(X_test_pad, y_test_cat)\n",
        "\n",
        "print(f\"Test Loss: {loss:.4f}\")\n",
        "print(f\"Test Accuracy: {accuracy:.4f}\")\n"
      ],
      "metadata": {
        "colab": {
          "base_uri": "https://localhost:8080/"
        },
        "id": "FsSbsaluTejj",
        "outputId": "5a042884-fcc1-4159-e847-60924d341fb3"
      },
      "id": "FsSbsaluTejj",
      "execution_count": 181,
      "outputs": [
        {
          "output_type": "stream",
          "name": "stdout",
          "text": [
            "\u001b[1m250/250\u001b[0m \u001b[32m━━━━━━━━━━━━━━━━━━━━\u001b[0m\u001b[37m\u001b[0m \u001b[1m14s\u001b[0m 54ms/step - accuracy: 0.3021 - loss: 2.8413\n",
            "Test Loss: 2.8684\n",
            "Test Accuracy: 0.3051\n"
          ]
        }
      ]
    }
  ],
  "metadata": {
    "kernelspec": {
      "display_name": "Python 3 (ipykernel)",
      "language": "python",
      "name": "python3"
    },
    "language_info": {
      "codemirror_mode": {
        "name": "ipython",
        "version": 3
      },
      "file_extension": ".py",
      "mimetype": "text/x-python",
      "name": "python",
      "nbconvert_exporter": "python",
      "pygments_lexer": "ipython3",
      "version": "3.11.5"
    },
    "colab": {
      "provenance": []
    }
  },
  "nbformat": 4,
  "nbformat_minor": 5
}