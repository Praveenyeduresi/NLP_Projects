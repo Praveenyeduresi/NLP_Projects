{
  "nbformat": 4,
  "nbformat_minor": 0,
  "metadata": {
    "colab": {
      "provenance": [],
      "collapsed_sections": [
        "VD0FoM-mxFfT",
        "kFLdAGn5BftM"
      ],
      "authorship_tag": "ABX9TyPbXcRnxbvgjQEwjgIAu6op",
      "include_colab_link": true
    },
    "kernelspec": {
      "name": "python3",
      "display_name": "Python 3"
    },
    "language_info": {
      "name": "python"
    }
  },
  "cells": [
    {
      "cell_type": "markdown",
      "metadata": {
        "id": "view-in-github",
        "colab_type": "text"
      },
      "source": [
        "<a href=\"https://colab.research.google.com/github/Praveenyeduresi/Projects/blob/main/fake_real_news.ipynb\" target=\"_parent\"><img src=\"https://colab.research.google.com/assets/colab-badge.svg\" alt=\"Open In Colab\"/></a>"
      ]
    },
    {
      "cell_type": "markdown",
      "source": [
        "**Project title : Fake News Detection using Machine Learning & Deep Learning techniques.**"
      ],
      "metadata": {
        "id": "eF-3l6Ke9Jxj"
      }
    },
    {
      "cell_type": "markdown",
      "source": [
        "**Objective** : The main aim of this project is to identify the news articles whether it is fake or true news based on text. By predicting the fake news misinformation can be reduced."
      ],
      "metadata": {
        "id": "9k69PC3iOrb6"
      }
    },
    {
      "cell_type": "code",
      "source": [
        "import pandas as pd\n",
        "import numpy as np\n",
        "import os\n",
        "import matplotlib.pyplot as plt\n",
        "import seaborn as sns\n",
        "\n",
        "import re\n",
        "import string\n",
        "\n",
        "from sklearn.feature_extraction.text import TfidfVectorizer\n",
        "from sklearn.model_selection import train_test_split\n",
        "from sklearn.linear_model import LogisticRegression\n",
        "from sklearn.metrics import accuracy_score,classification_report, ConfusionMatrixDisplay, confusion_matrix\n",
        "\n",
        "\n",
        "import tensorflow\n",
        "#from sklearn.preprocessing import LabelEncoder\n",
        "from tensorflow.keras.preprocessing.text import Tokenizer\n",
        "from tensorflow.keras.preprocessing.sequence import pad_sequences\n",
        "from tensorflow.keras.models import Sequential\n",
        "from tensorflow.keras.layers import LSTM, Dense, Embedding, Dropout\n",
        "\n",
        "\n",
        "# Ignore FutureWarning messages\n",
        "import warnings\n",
        "warnings.simplefilter(action='ignore', category=FutureWarning)"
      ],
      "metadata": {
        "id": "zR10Laia8dAp"
      },
      "execution_count": 87,
      "outputs": []
    },
    {
      "cell_type": "code",
      "source": [
        "from google.colab import drive\n",
        "drive.mount('/content/drive')"
      ],
      "metadata": {
        "colab": {
          "base_uri": "https://localhost:8080/"
        },
        "id": "9-GRsTel8dLJ",
        "outputId": "cab461b8-285e-4388-a81f-3b40c8ef7608"
      },
      "execution_count": 2,
      "outputs": [
        {
          "output_type": "stream",
          "name": "stdout",
          "text": [
            "Mounted at /content/drive\n"
          ]
        }
      ]
    },
    {
      "cell_type": "code",
      "source": [
        "import os\n",
        "os.chdir('/content/drive/My Drive/FakeRealNews')"
      ],
      "metadata": {
        "id": "KNiRALH48dPB"
      },
      "execution_count": 3,
      "outputs": []
    },
    {
      "cell_type": "markdown",
      "source": [
        "**Data Loading**"
      ],
      "metadata": {
        "id": "UgUPRP3Hk_0_"
      }
    },
    {
      "cell_type": "code",
      "source": [
        "#Data Loading\n",
        "fake=pd.read_csv(\"Fake.csv\")\n",
        "true=pd.read_csv(\"True.csv\")\n"
      ],
      "metadata": {
        "id": "550QwWmU8dSz"
      },
      "execution_count": 4,
      "outputs": []
    },
    {
      "cell_type": "code",
      "source": [
        "#By adding 'target' column we are dividing fake & true news\n",
        "fake['Target']=0\n",
        "true['Target']=1\n",
        "df=pd.concat([fake,true])\n",
        "df"
      ],
      "metadata": {
        "colab": {
          "base_uri": "https://localhost:8080/",
          "height": 424
        },
        "id": "YxAKMa5G8Wrh",
        "outputId": "dbaeac4c-5c52-4050-eeed-cf2a92798d80"
      },
      "execution_count": 5,
      "outputs": [
        {
          "output_type": "execute_result",
          "data": {
            "text/plain": [
              "                                                   title  \\\n",
              "0       Donald Trump Sends Out Embarrassing New Year’...   \n",
              "1       Drunk Bragging Trump Staffer Started Russian ...   \n",
              "2       Sheriff David Clarke Becomes An Internet Joke...   \n",
              "3       Trump Is So Obsessed He Even Has Obama’s Name...   \n",
              "4       Pope Francis Just Called Out Donald Trump Dur...   \n",
              "...                                                  ...   \n",
              "11412  Bus drives into pedestrian underpass in Moscow...   \n",
              "11413  Pakistan allows wife, mother to visit Indian m...   \n",
              "11414  Iran confirms upholding death sentence for aca...   \n",
              "11415  Pope, on Christmas Eve, says faith demands res...   \n",
              "11416  China calls for constructive efforts to ease K...   \n",
              "\n",
              "                                                    text    subject  \\\n",
              "0      Donald Trump just couldn t wish all Americans ...       News   \n",
              "1      House Intelligence Committee Chairman Devin Nu...       News   \n",
              "2      On Friday, it was revealed that former Milwauk...       News   \n",
              "3      On Christmas day, Donald Trump announced that ...       News   \n",
              "4      Pope Francis used his annual Christmas Day mes...       News   \n",
              "...                                                  ...        ...   \n",
              "11412  MOSCOW (Reuters) - A passenger bus swerved off...  worldnews   \n",
              "11413  ISLAMABAD (Reuters) - Pakistan allowed the wif...  worldnews   \n",
              "11414  DUBAI (Reuters) - Iran s Supreme Court has uph...  worldnews   \n",
              "11415  VATICAN CITY (Reuters) - Pope Francis strongly...  worldnews   \n",
              "11416  BEIJING (Reuters) - China called on Monday for...  worldnews   \n",
              "\n",
              "                     date  Target  \n",
              "0       December 31, 2017       0  \n",
              "1       December 31, 2017       0  \n",
              "2       December 30, 2017       0  \n",
              "3       December 29, 2017       0  \n",
              "4       December 25, 2017       0  \n",
              "...                   ...     ...  \n",
              "11412  December 25, 2017        1  \n",
              "11413  December 25, 2017        1  \n",
              "11414  December 25, 2017        1  \n",
              "11415  December 24, 2017        1  \n",
              "11416  December 25, 2017        1  \n",
              "\n",
              "[24922 rows x 5 columns]"
            ],
            "text/html": [
              "\n",
              "  <div id=\"df-d8534bd0-ecd7-4061-9415-45837c897e1f\" class=\"colab-df-container\">\n",
              "    <div>\n",
              "<style scoped>\n",
              "    .dataframe tbody tr th:only-of-type {\n",
              "        vertical-align: middle;\n",
              "    }\n",
              "\n",
              "    .dataframe tbody tr th {\n",
              "        vertical-align: top;\n",
              "    }\n",
              "\n",
              "    .dataframe thead th {\n",
              "        text-align: right;\n",
              "    }\n",
              "</style>\n",
              "<table border=\"1\" class=\"dataframe\">\n",
              "  <thead>\n",
              "    <tr style=\"text-align: right;\">\n",
              "      <th></th>\n",
              "      <th>title</th>\n",
              "      <th>text</th>\n",
              "      <th>subject</th>\n",
              "      <th>date</th>\n",
              "      <th>Target</th>\n",
              "    </tr>\n",
              "  </thead>\n",
              "  <tbody>\n",
              "    <tr>\n",
              "      <th>0</th>\n",
              "      <td>Donald Trump Sends Out Embarrassing New Year’...</td>\n",
              "      <td>Donald Trump just couldn t wish all Americans ...</td>\n",
              "      <td>News</td>\n",
              "      <td>December 31, 2017</td>\n",
              "      <td>0</td>\n",
              "    </tr>\n",
              "    <tr>\n",
              "      <th>1</th>\n",
              "      <td>Drunk Bragging Trump Staffer Started Russian ...</td>\n",
              "      <td>House Intelligence Committee Chairman Devin Nu...</td>\n",
              "      <td>News</td>\n",
              "      <td>December 31, 2017</td>\n",
              "      <td>0</td>\n",
              "    </tr>\n",
              "    <tr>\n",
              "      <th>2</th>\n",
              "      <td>Sheriff David Clarke Becomes An Internet Joke...</td>\n",
              "      <td>On Friday, it was revealed that former Milwauk...</td>\n",
              "      <td>News</td>\n",
              "      <td>December 30, 2017</td>\n",
              "      <td>0</td>\n",
              "    </tr>\n",
              "    <tr>\n",
              "      <th>3</th>\n",
              "      <td>Trump Is So Obsessed He Even Has Obama’s Name...</td>\n",
              "      <td>On Christmas day, Donald Trump announced that ...</td>\n",
              "      <td>News</td>\n",
              "      <td>December 29, 2017</td>\n",
              "      <td>0</td>\n",
              "    </tr>\n",
              "    <tr>\n",
              "      <th>4</th>\n",
              "      <td>Pope Francis Just Called Out Donald Trump Dur...</td>\n",
              "      <td>Pope Francis used his annual Christmas Day mes...</td>\n",
              "      <td>News</td>\n",
              "      <td>December 25, 2017</td>\n",
              "      <td>0</td>\n",
              "    </tr>\n",
              "    <tr>\n",
              "      <th>...</th>\n",
              "      <td>...</td>\n",
              "      <td>...</td>\n",
              "      <td>...</td>\n",
              "      <td>...</td>\n",
              "      <td>...</td>\n",
              "    </tr>\n",
              "    <tr>\n",
              "      <th>11412</th>\n",
              "      <td>Bus drives into pedestrian underpass in Moscow...</td>\n",
              "      <td>MOSCOW (Reuters) - A passenger bus swerved off...</td>\n",
              "      <td>worldnews</td>\n",
              "      <td>December 25, 2017</td>\n",
              "      <td>1</td>\n",
              "    </tr>\n",
              "    <tr>\n",
              "      <th>11413</th>\n",
              "      <td>Pakistan allows wife, mother to visit Indian m...</td>\n",
              "      <td>ISLAMABAD (Reuters) - Pakistan allowed the wif...</td>\n",
              "      <td>worldnews</td>\n",
              "      <td>December 25, 2017</td>\n",
              "      <td>1</td>\n",
              "    </tr>\n",
              "    <tr>\n",
              "      <th>11414</th>\n",
              "      <td>Iran confirms upholding death sentence for aca...</td>\n",
              "      <td>DUBAI (Reuters) - Iran s Supreme Court has uph...</td>\n",
              "      <td>worldnews</td>\n",
              "      <td>December 25, 2017</td>\n",
              "      <td>1</td>\n",
              "    </tr>\n",
              "    <tr>\n",
              "      <th>11415</th>\n",
              "      <td>Pope, on Christmas Eve, says faith demands res...</td>\n",
              "      <td>VATICAN CITY (Reuters) - Pope Francis strongly...</td>\n",
              "      <td>worldnews</td>\n",
              "      <td>December 24, 2017</td>\n",
              "      <td>1</td>\n",
              "    </tr>\n",
              "    <tr>\n",
              "      <th>11416</th>\n",
              "      <td>China calls for constructive efforts to ease K...</td>\n",
              "      <td>BEIJING (Reuters) - China called on Monday for...</td>\n",
              "      <td>worldnews</td>\n",
              "      <td>December 25, 2017</td>\n",
              "      <td>1</td>\n",
              "    </tr>\n",
              "  </tbody>\n",
              "</table>\n",
              "<p>24922 rows × 5 columns</p>\n",
              "</div>\n",
              "    <div class=\"colab-df-buttons\">\n",
              "\n",
              "  <div class=\"colab-df-container\">\n",
              "    <button class=\"colab-df-convert\" onclick=\"convertToInteractive('df-d8534bd0-ecd7-4061-9415-45837c897e1f')\"\n",
              "            title=\"Convert this dataframe to an interactive table.\"\n",
              "            style=\"display:none;\">\n",
              "\n",
              "  <svg xmlns=\"http://www.w3.org/2000/svg\" height=\"24px\" viewBox=\"0 -960 960 960\">\n",
              "    <path d=\"M120-120v-720h720v720H120Zm60-500h600v-160H180v160Zm220 220h160v-160H400v160Zm0 220h160v-160H400v160ZM180-400h160v-160H180v160Zm440 0h160v-160H620v160ZM180-180h160v-160H180v160Zm440 0h160v-160H620v160Z\"/>\n",
              "  </svg>\n",
              "    </button>\n",
              "\n",
              "  <style>\n",
              "    .colab-df-container {\n",
              "      display:flex;\n",
              "      gap: 12px;\n",
              "    }\n",
              "\n",
              "    .colab-df-convert {\n",
              "      background-color: #E8F0FE;\n",
              "      border: none;\n",
              "      border-radius: 50%;\n",
              "      cursor: pointer;\n",
              "      display: none;\n",
              "      fill: #1967D2;\n",
              "      height: 32px;\n",
              "      padding: 0 0 0 0;\n",
              "      width: 32px;\n",
              "    }\n",
              "\n",
              "    .colab-df-convert:hover {\n",
              "      background-color: #E2EBFA;\n",
              "      box-shadow: 0px 1px 2px rgba(60, 64, 67, 0.3), 0px 1px 3px 1px rgba(60, 64, 67, 0.15);\n",
              "      fill: #174EA6;\n",
              "    }\n",
              "\n",
              "    .colab-df-buttons div {\n",
              "      margin-bottom: 4px;\n",
              "    }\n",
              "\n",
              "    [theme=dark] .colab-df-convert {\n",
              "      background-color: #3B4455;\n",
              "      fill: #D2E3FC;\n",
              "    }\n",
              "\n",
              "    [theme=dark] .colab-df-convert:hover {\n",
              "      background-color: #434B5C;\n",
              "      box-shadow: 0px 1px 3px 1px rgba(0, 0, 0, 0.15);\n",
              "      filter: drop-shadow(0px 1px 2px rgba(0, 0, 0, 0.3));\n",
              "      fill: #FFFFFF;\n",
              "    }\n",
              "  </style>\n",
              "\n",
              "    <script>\n",
              "      const buttonEl =\n",
              "        document.querySelector('#df-d8534bd0-ecd7-4061-9415-45837c897e1f button.colab-df-convert');\n",
              "      buttonEl.style.display =\n",
              "        google.colab.kernel.accessAllowed ? 'block' : 'none';\n",
              "\n",
              "      async function convertToInteractive(key) {\n",
              "        const element = document.querySelector('#df-d8534bd0-ecd7-4061-9415-45837c897e1f');\n",
              "        const dataTable =\n",
              "          await google.colab.kernel.invokeFunction('convertToInteractive',\n",
              "                                                    [key], {});\n",
              "        if (!dataTable) return;\n",
              "\n",
              "        const docLinkHtml = 'Like what you see? Visit the ' +\n",
              "          '<a target=\"_blank\" href=https://colab.research.google.com/notebooks/data_table.ipynb>data table notebook</a>'\n",
              "          + ' to learn more about interactive tables.';\n",
              "        element.innerHTML = '';\n",
              "        dataTable['output_type'] = 'display_data';\n",
              "        await google.colab.output.renderOutput(dataTable, element);\n",
              "        const docLink = document.createElement('div');\n",
              "        docLink.innerHTML = docLinkHtml;\n",
              "        element.appendChild(docLink);\n",
              "      }\n",
              "    </script>\n",
              "  </div>\n",
              "\n",
              "\n",
              "<div id=\"df-ea753fe8-2efa-4917-aa3c-6a4884aa5b44\">\n",
              "  <button class=\"colab-df-quickchart\" onclick=\"quickchart('df-ea753fe8-2efa-4917-aa3c-6a4884aa5b44')\"\n",
              "            title=\"Suggest charts\"\n",
              "            style=\"display:none;\">\n",
              "\n",
              "<svg xmlns=\"http://www.w3.org/2000/svg\" height=\"24px\"viewBox=\"0 0 24 24\"\n",
              "     width=\"24px\">\n",
              "    <g>\n",
              "        <path d=\"M19 3H5c-1.1 0-2 .9-2 2v14c0 1.1.9 2 2 2h14c1.1 0 2-.9 2-2V5c0-1.1-.9-2-2-2zM9 17H7v-7h2v7zm4 0h-2V7h2v10zm4 0h-2v-4h2v4z\"/>\n",
              "    </g>\n",
              "</svg>\n",
              "  </button>\n",
              "\n",
              "<style>\n",
              "  .colab-df-quickchart {\n",
              "      --bg-color: #E8F0FE;\n",
              "      --fill-color: #1967D2;\n",
              "      --hover-bg-color: #E2EBFA;\n",
              "      --hover-fill-color: #174EA6;\n",
              "      --disabled-fill-color: #AAA;\n",
              "      --disabled-bg-color: #DDD;\n",
              "  }\n",
              "\n",
              "  [theme=dark] .colab-df-quickchart {\n",
              "      --bg-color: #3B4455;\n",
              "      --fill-color: #D2E3FC;\n",
              "      --hover-bg-color: #434B5C;\n",
              "      --hover-fill-color: #FFFFFF;\n",
              "      --disabled-bg-color: #3B4455;\n",
              "      --disabled-fill-color: #666;\n",
              "  }\n",
              "\n",
              "  .colab-df-quickchart {\n",
              "    background-color: var(--bg-color);\n",
              "    border: none;\n",
              "    border-radius: 50%;\n",
              "    cursor: pointer;\n",
              "    display: none;\n",
              "    fill: var(--fill-color);\n",
              "    height: 32px;\n",
              "    padding: 0;\n",
              "    width: 32px;\n",
              "  }\n",
              "\n",
              "  .colab-df-quickchart:hover {\n",
              "    background-color: var(--hover-bg-color);\n",
              "    box-shadow: 0 1px 2px rgba(60, 64, 67, 0.3), 0 1px 3px 1px rgba(60, 64, 67, 0.15);\n",
              "    fill: var(--button-hover-fill-color);\n",
              "  }\n",
              "\n",
              "  .colab-df-quickchart-complete:disabled,\n",
              "  .colab-df-quickchart-complete:disabled:hover {\n",
              "    background-color: var(--disabled-bg-color);\n",
              "    fill: var(--disabled-fill-color);\n",
              "    box-shadow: none;\n",
              "  }\n",
              "\n",
              "  .colab-df-spinner {\n",
              "    border: 2px solid var(--fill-color);\n",
              "    border-color: transparent;\n",
              "    border-bottom-color: var(--fill-color);\n",
              "    animation:\n",
              "      spin 1s steps(1) infinite;\n",
              "  }\n",
              "\n",
              "  @keyframes spin {\n",
              "    0% {\n",
              "      border-color: transparent;\n",
              "      border-bottom-color: var(--fill-color);\n",
              "      border-left-color: var(--fill-color);\n",
              "    }\n",
              "    20% {\n",
              "      border-color: transparent;\n",
              "      border-left-color: var(--fill-color);\n",
              "      border-top-color: var(--fill-color);\n",
              "    }\n",
              "    30% {\n",
              "      border-color: transparent;\n",
              "      border-left-color: var(--fill-color);\n",
              "      border-top-color: var(--fill-color);\n",
              "      border-right-color: var(--fill-color);\n",
              "    }\n",
              "    40% {\n",
              "      border-color: transparent;\n",
              "      border-right-color: var(--fill-color);\n",
              "      border-top-color: var(--fill-color);\n",
              "    }\n",
              "    60% {\n",
              "      border-color: transparent;\n",
              "      border-right-color: var(--fill-color);\n",
              "    }\n",
              "    80% {\n",
              "      border-color: transparent;\n",
              "      border-right-color: var(--fill-color);\n",
              "      border-bottom-color: var(--fill-color);\n",
              "    }\n",
              "    90% {\n",
              "      border-color: transparent;\n",
              "      border-bottom-color: var(--fill-color);\n",
              "    }\n",
              "  }\n",
              "</style>\n",
              "\n",
              "  <script>\n",
              "    async function quickchart(key) {\n",
              "      const quickchartButtonEl =\n",
              "        document.querySelector('#' + key + ' button');\n",
              "      quickchartButtonEl.disabled = true;  // To prevent multiple clicks.\n",
              "      quickchartButtonEl.classList.add('colab-df-spinner');\n",
              "      try {\n",
              "        const charts = await google.colab.kernel.invokeFunction(\n",
              "            'suggestCharts', [key], {});\n",
              "      } catch (error) {\n",
              "        console.error('Error during call to suggestCharts:', error);\n",
              "      }\n",
              "      quickchartButtonEl.classList.remove('colab-df-spinner');\n",
              "      quickchartButtonEl.classList.add('colab-df-quickchart-complete');\n",
              "    }\n",
              "    (() => {\n",
              "      let quickchartButtonEl =\n",
              "        document.querySelector('#df-ea753fe8-2efa-4917-aa3c-6a4884aa5b44 button');\n",
              "      quickchartButtonEl.style.display =\n",
              "        google.colab.kernel.accessAllowed ? 'block' : 'none';\n",
              "    })();\n",
              "  </script>\n",
              "</div>\n",
              "\n",
              "  <div id=\"id_9b9d1eea-3853-4612-bf0e-2c161a4b7921\">\n",
              "    <style>\n",
              "      .colab-df-generate {\n",
              "        background-color: #E8F0FE;\n",
              "        border: none;\n",
              "        border-radius: 50%;\n",
              "        cursor: pointer;\n",
              "        display: none;\n",
              "        fill: #1967D2;\n",
              "        height: 32px;\n",
              "        padding: 0 0 0 0;\n",
              "        width: 32px;\n",
              "      }\n",
              "\n",
              "      .colab-df-generate:hover {\n",
              "        background-color: #E2EBFA;\n",
              "        box-shadow: 0px 1px 2px rgba(60, 64, 67, 0.3), 0px 1px 3px 1px rgba(60, 64, 67, 0.15);\n",
              "        fill: #174EA6;\n",
              "      }\n",
              "\n",
              "      [theme=dark] .colab-df-generate {\n",
              "        background-color: #3B4455;\n",
              "        fill: #D2E3FC;\n",
              "      }\n",
              "\n",
              "      [theme=dark] .colab-df-generate:hover {\n",
              "        background-color: #434B5C;\n",
              "        box-shadow: 0px 1px 3px 1px rgba(0, 0, 0, 0.15);\n",
              "        filter: drop-shadow(0px 1px 2px rgba(0, 0, 0, 0.3));\n",
              "        fill: #FFFFFF;\n",
              "      }\n",
              "    </style>\n",
              "    <button class=\"colab-df-generate\" onclick=\"generateWithVariable('df')\"\n",
              "            title=\"Generate code using this dataframe.\"\n",
              "            style=\"display:none;\">\n",
              "\n",
              "  <svg xmlns=\"http://www.w3.org/2000/svg\" height=\"24px\"viewBox=\"0 0 24 24\"\n",
              "       width=\"24px\">\n",
              "    <path d=\"M7,19H8.4L18.45,9,17,7.55,7,17.6ZM5,21V16.75L18.45,3.32a2,2,0,0,1,2.83,0l1.4,1.43a1.91,1.91,0,0,1,.58,1.4,1.91,1.91,0,0,1-.58,1.4L9.25,21ZM18.45,9,17,7.55Zm-12,3A5.31,5.31,0,0,0,4.9,8.1,5.31,5.31,0,0,0,1,6.5,5.31,5.31,0,0,0,4.9,4.9,5.31,5.31,0,0,0,6.5,1,5.31,5.31,0,0,0,8.1,4.9,5.31,5.31,0,0,0,12,6.5,5.46,5.46,0,0,0,6.5,12Z\"/>\n",
              "  </svg>\n",
              "    </button>\n",
              "    <script>\n",
              "      (() => {\n",
              "      const buttonEl =\n",
              "        document.querySelector('#id_9b9d1eea-3853-4612-bf0e-2c161a4b7921 button.colab-df-generate');\n",
              "      buttonEl.style.display =\n",
              "        google.colab.kernel.accessAllowed ? 'block' : 'none';\n",
              "\n",
              "      buttonEl.onclick = () => {\n",
              "        google.colab.notebook.generateWithVariable('df');\n",
              "      }\n",
              "      })();\n",
              "    </script>\n",
              "  </div>\n",
              "\n",
              "    </div>\n",
              "  </div>\n"
            ],
            "application/vnd.google.colaboratory.intrinsic+json": {
              "type": "dataframe",
              "variable_name": "df",
              "summary": "{\n  \"name\": \"df\",\n  \"rows\": 24922,\n  \"fields\": [\n    {\n      \"column\": \"title\",\n      \"properties\": {\n        \"dtype\": \"string\",\n        \"num_unique_values\": 24778,\n        \"samples\": [\n          \"White House says Trump to sign broadband privacy repeal\",\n          \" Billionaire Richard Branson Breaks Silence About Trump, Exposes Truth About His \\u2018Temperament\\u2019 (TWEETS)\",\n          \" Baseball Players Who Called Obama \\u2018F*cking Watermelon Eatin Baboon\\u2019 Won\\u2019t Be Punished (IMAGES/VIDEO)\"\n        ],\n        \"semantic_type\": \"\",\n        \"description\": \"\"\n      }\n    },\n    {\n      \"column\": \"text\",\n      \"properties\": {\n        \"dtype\": \"string\",\n        \"num_unique_values\": 24474,\n        \"samples\": [\n          \" I can t possibly accept this award,  she said during her acceptance speech.  The Lemonade album was just so monumental, Beyonc . It was so monumental and well thought-out and beautiful and soul-bearing  we appreciate that. All of us artists here adore you. You are our light. She later added backstage:  I thought it was her year. What the f*ck does she have to do to win Album of the Year? -IndependentThe Beyonce  Lemonade  album Adele refers in her embarrassing speech was slammed as an  attack on white women  by 25 year old white rapper Iggy Azalea, who went off on Twitter user  gia  after she referred to Azalea as  Becky . The  Lemonade  song was hailed as a brave reference by her adoring fans to Beyonce s unfaithful husband who had an affair with a white, or half-white woman named  Becky :@iggys_bitch dont ever call me a becky.  IGGY AZALEA (@IGGYAZALEA) April 25, 2016@phagmob @iggys_bitch it was used as a play on brain and brian. you would not be down if i started calling all black men \\\"deshawns\\\"  IGGY AZALEA (@IGGYAZALEA) April 25, 2016@phagmob generalizing ANY race by calling them one sterotypical name for said race. i personally dont think is very cool, the end.  IGGY AZALEA (@IGGYAZALEA) April 25, 2016And in her final tweet on the subject, Azalea explains degrading, racist meaning behind Beyonce s reference to  Becky  in her  Lemonade  song: @rNicaRo the whole becky thing \\\"give me that becky\\\" comes from white womens supposed love for blow jobs. so excuse me but, i dont want  IGGY AZALEA (@IGGYAZALEA) April 26, 2016\",\n          \"For the first time, we have a woman of color featured on coins here. She portrays Lady Liberty on a $100 225th Anniversary Gold Coin, which commemorates the founding of the U.S. Mint. It s a reflection of the  cultural and ethnic diversity of the United States,  and honestly, it s about damn time. She is absolutely gorgeous on the new coin:Treasury & Mint officials unveiled the 2017 American Liberty High Relief Gold Coin! https://t.co/HkfcPN5Enq #USMint225 @USTreasury pic.twitter.com/0ShGHPn5oF  United States Mint (@usmint) January 12, 2017Of course, conservatives don t see it that way and they re busy crying big crocodile tears over this on social media, because how dare we pretend that anyone other than white people can actually represent freedom?@NBCNews @NBCBLK .Great more social justice revisionist history and institution shaming.  Deplor?PooManChu? (@KvnCormier) January 13, 2017@kyle_espinola @Mad_Jamaican @NBCNews @NBCBLK It matters that we are destroying traditions and Merit, to appease people who lack them.  Deplor?PooManChu? (@KvnCormier) January 13, 2017@JannaPropaganda @WesternNews4 @RealAlexJones @infowars Collectors were demanding a black lady liberty? No, I think it s another PC move.  Jack Burton (@Jack_Burton_10) January 13, 2017. Next it will be some cross dressing, half cast, tranny just to appease the PC. #LadyLiberty  KJV Only (@FaithfulWordKJV) January 13, 2017@freedomchords it can t be Michelle. This is a woman on the currency. @RealAlexJones @infowars  Dominique Roy (@dcory1964) January 13, 2017@dcory1964 @RealAlexJones @infowars true   so not lady liberty  ladyboy dictator  Jerry Mansfield (@freedomchords) January 13, 2017# Lady Liberty  pc bullshit, the least patriotic group of Americans lol  Brandon (@BrandonVa420) January 13, 2017@ABC this fake symbolism will do nothing to improve the lives of blacks, this is more for white libtards to discuss in their circle jerks  Fred (@FredICooK) January 13, 2017@brasshonkey001 @Erik_L1965 @ABC @newschannelnine Lady Liberty is white. Like the whites who created the idea of liberty.  Soldier of Europe (@CrusaderEurope) January 13, 2017@ABC @newschannelnine Another parting shot from Obama. Disgraceful.  Erik Larson (@Erik_L1965) January 13, 2017@NBCNightlyNews this is just meaningless. The Statue of Liberty is clearly a white woman. This is gross sjw pandering by Obama treasury.  Ray Witts (@Raymond_Newgen) January 13, 2017@NBCNightlyNews Is that what food stamps in America look like now?  S.H.G._Nackt (@SHG_Nackt) January 13, 2017@FoxNews @FoxNewsInsider They could have put her on the EBT card.  Steve (@SteverinoC) January 13, 2017@Tuscon_Valdez @nytimes what about coins for her baby dadies too?  James Taylor (@AmericaBirdCall) January 13, 2017@nytimes what s next? A Muslim woman with her face covered? This is ridiculous  Honda Driver (@HondaDriver13) January 13, 2017Call her Lady Liberty if you wish But everyone knows she is a Slave Lady Liberty has always been White Jesus has always been White@nytimes  Dilligaf (@naicirtcele) January 13, 2017@nytimes will my pockets smell like afrosheen and cheap weed?  Regular White Joe (@RegularWHITEjoe) January 13, 2017@AP i wouldnt pay a dime for it. This proves that the Obama s are racist.  Drg (@drg9766) January 13, 2017@AP The discrimination of white people by the @obama administration continues  DeplorableTony Armas (@Tarmas55) January 13, 2017@TVMiller @AP  back when black people had value. Good times.  Admiral Theranthrope (@Theranthrope) January 13, 2017Lady Liberty is based on Libertas, the Roman goddess of freedom. The Statue of Liberty, modeled after the French sculptor s mother, is likewise based on her, as are most of our depictions of Lady Liberty. To conservatives, this means that she must remain white, because obviously.Except Lady Liberty is an idea, not an actual person. This isn t the same as depicting George Washington as a black man on the $1 bill. Washington was a real person who was white. The American ideal of liberty encompasses and represents the diversity of America. Lady Liberty is a symbol.This coin is the first of a series from the U.S. Mint, which will include an Asian woman, a Native American woman, and a Hispanic woman, as Lady Liberty as well. Cue more crocodile tears from whiny, racist conservatives.Featured image via embedded tweet from United States Mint\",\n          \"South Carolina Republicans just introduced an anti-LGBT bill similar to laws passed in North Carolina and Mississippi, and they are already paying the price for it.GOP state Senator Lee Bright thinks trans people are a threat to the safety of women and children in bathrooms despite there being zero evidence of it across the country. I mean, years ago we kept talking about tolerance, tolerance, and tolerance, and now they want men who claim to be women to be able to go into bathrooms with children,  Bright said on the floor of the state Senate while introducing his legislation.  And you got corporations who say this is okay. But Bright s claim is a complete lie that is not based in fact. In 17 states and over 200 cities across the country that have passed protections for LGBT people against discrimination, there has not been a single recorded instance of a trans person entering a women s bathroom to sexually harass anyone.Yet Republicans have made the claim to justify their anti-LGBT bills anyway, making discrimination legal under the guise of religious liberty. North Carolina passed the odious law last month, and Mississippi did the same this month. So far, both states have faced a severe backlash and it is costing both states dearly.Businesses and corporations are threatening to pull out of the state and many have already done so or cancelled plans to expand into the states. Both are also facing the loss of billions of federal dollars.And corporations aren t even waiting for South Carolina Republicans to pass their own bill into law. Just introducing it was enough for one CEO to move his company to California rather than remain in a state that still embraces bigotry.Uphold is a financial services industry that allows users of the service to transfer deposits of bitcoin into reserve-backed currencies such as the dollar. It s a fast-growing business that has handled nearly $1 billion in transactions in just the last two years.CEO Anthony Watson is so disgusted by Bright s bill that he has decided to move his company, which is headquartered in Charleston, out of the state. Uphold is founded on the key pillars of transparency and accountability, and at our very core, we stand for fairness, inclusion and equality,  Watson wrote in a statement on the company website.  Just as Uphold brings financial services to everyone, everywhere, we ve also built a company that brings the principles of fairness, inclusion and equality to everything we do. Watson then proceeded to rip South Carolina Republicans a new one and announced his decision to launch a preemptive exodus out of the state rather than sit and watch as bigoted Republicans jam the bill into law. As the openly gay, British CEO of an American company, I have watched in shock and dismay as legislation has been abruptly proposed or enacted in several states across the union seeking to invalidate the basic protections and rights of LGBT (lesbian, gay, bisexual, and transgender) U.S. citizens.Some of you may be aware that Uphold s U.S. headquarters is based in Charleston, South Carolina. In recent days, we have been made aware that South Carolina Sen. Lee Bright has introduced a bill largely mirroring North Carolina s controversial law that blocks local governments from passing LGBT-inclusive anti-discrimination ordinances. As such, we feel compelled to take action to oppose the discrimination being proposed in South Carolina and protect our LGBT employees.Today, Uphold has taken the difficult decision to move its U.S. corporate Headquarters from Charleston, South Carolina to Los Angeles, California.We will stand firm in our commitment to fairness, equality and inclusion and our strong conviction that we can make a difference by living our core values. It s the right thing to do for our members, employees, partners and the communities in which we live and work. The bold move will cost South Carolinians hundreds of jobs and will likely be a major blow to the state and local economies. It s just a taste of what South Carolina Republicans can expect if they continue on the path of taking the state backwards.Featured iamge via Wikimedia\"\n        ],\n        \"semantic_type\": \"\",\n        \"description\": \"\"\n      }\n    },\n    {\n      \"column\": \"subject\",\n      \"properties\": {\n        \"dtype\": \"category\",\n        \"num_unique_values\": 7,\n        \"samples\": [\n          \"News\",\n          \"politics\",\n          \"politicsNews\"\n        ],\n        \"semantic_type\": \"\",\n        \"description\": \"\"\n      }\n    },\n    {\n      \"column\": \"date\",\n      \"properties\": {\n        \"dtype\": \"category\",\n        \"num_unique_values\": 1951,\n        \"samples\": [\n          \"December 14, 2016 \",\n          \"July 13, 2017 \",\n          \"February 27, 2016 \"\n        ],\n        \"semantic_type\": \"\",\n        \"description\": \"\"\n      }\n    },\n    {\n      \"column\": \"Target\",\n      \"properties\": {\n        \"dtype\": \"number\",\n        \"std\": 0,\n        \"min\": 0,\n        \"max\": 1,\n        \"num_unique_values\": 2,\n        \"samples\": [\n          1,\n          0\n        ],\n        \"semantic_type\": \"\",\n        \"description\": \"\"\n      }\n    }\n  ]\n}"
            }
          },
          "metadata": {},
          "execution_count": 5
        }
      ]
    },
    {
      "cell_type": "markdown",
      "source": [
        "**Data Exploration**"
      ],
      "metadata": {
        "id": "D77H5od7k6J-"
      }
    },
    {
      "cell_type": "code",
      "source": [
        "#Data Exploration\n",
        "#In this stage, i observed the challenges like having special characters, to remove stopwords,\n",
        "# Tokenisation, lemmatization, converting text to lower case, Vectorization, duplicate data & missing values founded, type casting required for date column\n",
        "print(df.columns)\n",
        "df.dtypes\n",
        "#df.describe(include='all')"
      ],
      "metadata": {
        "colab": {
          "base_uri": "https://localhost:8080/",
          "height": 258
        },
        "id": "fztEtpK_8Y_p",
        "outputId": "31220a77-2796-47f9-c9aa-7d5b18ad76ad"
      },
      "execution_count": 10,
      "outputs": [
        {
          "output_type": "stream",
          "name": "stdout",
          "text": [
            "Index(['title', 'text', 'subject', 'date', 'Target'], dtype='object')\n"
          ]
        },
        {
          "output_type": "execute_result",
          "data": {
            "text/plain": [
              "title      object\n",
              "text       object\n",
              "subject    object\n",
              "date       object\n",
              "Target      int64\n",
              "dtype: object"
            ],
            "text/html": [
              "<div>\n",
              "<style scoped>\n",
              "    .dataframe tbody tr th:only-of-type {\n",
              "        vertical-align: middle;\n",
              "    }\n",
              "\n",
              "    .dataframe tbody tr th {\n",
              "        vertical-align: top;\n",
              "    }\n",
              "\n",
              "    .dataframe thead th {\n",
              "        text-align: right;\n",
              "    }\n",
              "</style>\n",
              "<table border=\"1\" class=\"dataframe\">\n",
              "  <thead>\n",
              "    <tr style=\"text-align: right;\">\n",
              "      <th></th>\n",
              "      <th>0</th>\n",
              "    </tr>\n",
              "  </thead>\n",
              "  <tbody>\n",
              "    <tr>\n",
              "      <th>title</th>\n",
              "      <td>object</td>\n",
              "    </tr>\n",
              "    <tr>\n",
              "      <th>text</th>\n",
              "      <td>object</td>\n",
              "    </tr>\n",
              "    <tr>\n",
              "      <th>subject</th>\n",
              "      <td>object</td>\n",
              "    </tr>\n",
              "    <tr>\n",
              "      <th>date</th>\n",
              "      <td>object</td>\n",
              "    </tr>\n",
              "    <tr>\n",
              "      <th>Target</th>\n",
              "      <td>int64</td>\n",
              "    </tr>\n",
              "  </tbody>\n",
              "</table>\n",
              "</div><br><label><b>dtype:</b> object</label>"
            ]
          },
          "metadata": {},
          "execution_count": 10
        }
      ]
    },
    {
      "cell_type": "code",
      "source": [
        "df.isnull().sum()"
      ],
      "metadata": {
        "colab": {
          "base_uri": "https://localhost:8080/",
          "height": 241
        },
        "id": "R7I-ZZ50Df68",
        "outputId": "a5c678eb-52d2-4a57-d682-809c49e36d5f"
      },
      "execution_count": null,
      "outputs": [
        {
          "output_type": "execute_result",
          "data": {
            "text/plain": [
              "title      3\n",
              "text       3\n",
              "subject    6\n",
              "date       6\n",
              "Target     0\n",
              "dtype: int64"
            ],
            "text/html": [
              "<div>\n",
              "<style scoped>\n",
              "    .dataframe tbody tr th:only-of-type {\n",
              "        vertical-align: middle;\n",
              "    }\n",
              "\n",
              "    .dataframe tbody tr th {\n",
              "        vertical-align: top;\n",
              "    }\n",
              "\n",
              "    .dataframe thead th {\n",
              "        text-align: right;\n",
              "    }\n",
              "</style>\n",
              "<table border=\"1\" class=\"dataframe\">\n",
              "  <thead>\n",
              "    <tr style=\"text-align: right;\">\n",
              "      <th></th>\n",
              "      <th>0</th>\n",
              "    </tr>\n",
              "  </thead>\n",
              "  <tbody>\n",
              "    <tr>\n",
              "      <th>title</th>\n",
              "      <td>3</td>\n",
              "    </tr>\n",
              "    <tr>\n",
              "      <th>text</th>\n",
              "      <td>3</td>\n",
              "    </tr>\n",
              "    <tr>\n",
              "      <th>subject</th>\n",
              "      <td>6</td>\n",
              "    </tr>\n",
              "    <tr>\n",
              "      <th>date</th>\n",
              "      <td>6</td>\n",
              "    </tr>\n",
              "    <tr>\n",
              "      <th>Target</th>\n",
              "      <td>0</td>\n",
              "    </tr>\n",
              "  </tbody>\n",
              "</table>\n",
              "</div><br><label><b>dtype:</b> int64</label>"
            ]
          },
          "metadata": {},
          "execution_count": 40
        }
      ]
    },
    {
      "cell_type": "code",
      "source": [
        "print(df.duplicated().sum())\n"
      ],
      "metadata": {
        "colab": {
          "base_uri": "https://localhost:8080/"
        },
        "id": "RmUAXH1hRcoN",
        "outputId": "1fb25963-12ec-422d-f158-30ae6b77e80e"
      },
      "execution_count": null,
      "outputs": [
        {
          "output_type": "stream",
          "name": "stdout",
          "text": [
            "67\n"
          ]
        }
      ]
    },
    {
      "cell_type": "markdown",
      "source": [
        "**Data Preprocessing**"
      ],
      "metadata": {
        "id": "gWuDfscakt3X"
      }
    },
    {
      "cell_type": "code",
      "source": [
        "#removing duplicates\n",
        "df = df.drop_duplicates()\n",
        "print(df.duplicated().sum())"
      ],
      "metadata": {
        "colab": {
          "base_uri": "https://localhost:8080/"
        },
        "id": "SOQ0AKnExsg2",
        "outputId": "04acf3cb-9455-42f2-9f0f-a3fc46aaf398"
      },
      "execution_count": 11,
      "outputs": [
        {
          "output_type": "stream",
          "name": "stdout",
          "text": [
            "0\n"
          ]
        }
      ]
    },
    {
      "cell_type": "code",
      "source": [
        "#handling missing values\n",
        "# Fill missing values in title, text, and subject\n",
        "df['title'].fillna('Unknown', inplace=True)\n",
        "df['text'].fillna('Unknown', inplace=True)\n",
        "df['subject'].fillna('Unknown', inplace=True)"
      ],
      "metadata": {
        "colab": {
          "base_uri": "https://localhost:8080/",
          "height": 501
        },
        "id": "sMRJ_dI76B7e",
        "outputId": "42eaf9e9-b475-4e5e-8056-72dd1f0772e0"
      },
      "execution_count": 12,
      "outputs": [
        {
          "output_type": "stream",
          "name": "stderr",
          "text": [
            "<ipython-input-12-50e834e68368>:3: SettingWithCopyWarning: \n",
            "A value is trying to be set on a copy of a slice from a DataFrame\n",
            "\n",
            "See the caveats in the documentation: https://pandas.pydata.org/pandas-docs/stable/user_guide/indexing.html#returning-a-view-versus-a-copy\n",
            "  df['title'].fillna('Unknown', inplace=True)\n",
            "<ipython-input-12-50e834e68368>:4: SettingWithCopyWarning: \n",
            "A value is trying to be set on a copy of a slice from a DataFrame\n",
            "\n",
            "See the caveats in the documentation: https://pandas.pydata.org/pandas-docs/stable/user_guide/indexing.html#returning-a-view-versus-a-copy\n",
            "  df['text'].fillna('Unknown', inplace=True)\n",
            "<ipython-input-12-50e834e68368>:5: SettingWithCopyWarning: \n",
            "A value is trying to be set on a copy of a slice from a DataFrame\n",
            "\n",
            "See the caveats in the documentation: https://pandas.pydata.org/pandas-docs/stable/user_guide/indexing.html#returning-a-view-versus-a-copy\n",
            "  df['subject'].fillna('Unknown', inplace=True)\n"
          ]
        },
        {
          "output_type": "execute_result",
          "data": {
            "text/plain": [
              "title      0\n",
              "text       0\n",
              "subject    0\n",
              "date       4\n",
              "Target     0\n",
              "dtype: int64"
            ],
            "text/html": [
              "<div>\n",
              "<style scoped>\n",
              "    .dataframe tbody tr th:only-of-type {\n",
              "        vertical-align: middle;\n",
              "    }\n",
              "\n",
              "    .dataframe tbody tr th {\n",
              "        vertical-align: top;\n",
              "    }\n",
              "\n",
              "    .dataframe thead th {\n",
              "        text-align: right;\n",
              "    }\n",
              "</style>\n",
              "<table border=\"1\" class=\"dataframe\">\n",
              "  <thead>\n",
              "    <tr style=\"text-align: right;\">\n",
              "      <th></th>\n",
              "      <th>0</th>\n",
              "    </tr>\n",
              "  </thead>\n",
              "  <tbody>\n",
              "    <tr>\n",
              "      <th>title</th>\n",
              "      <td>0</td>\n",
              "    </tr>\n",
              "    <tr>\n",
              "      <th>text</th>\n",
              "      <td>0</td>\n",
              "    </tr>\n",
              "    <tr>\n",
              "      <th>subject</th>\n",
              "      <td>0</td>\n",
              "    </tr>\n",
              "    <tr>\n",
              "      <th>date</th>\n",
              "      <td>4</td>\n",
              "    </tr>\n",
              "    <tr>\n",
              "      <th>Target</th>\n",
              "      <td>0</td>\n",
              "    </tr>\n",
              "  </tbody>\n",
              "</table>\n",
              "</div><br><label><b>dtype:</b> int64</label>"
            ]
          },
          "metadata": {},
          "execution_count": 12
        }
      ]
    },
    {
      "cell_type": "code",
      "source": [
        "#checking for missing data for variable 'date'\n",
        "# Filter rows where the 'date' column has missing values\n",
        "missing_date_rows = df[df['date'].isnull()]\n",
        "\n",
        "# Display rows with dates missing\n",
        "print(missing_date_rows)"
      ],
      "metadata": {
        "colab": {
          "base_uri": "https://localhost:8080/"
        },
        "id": "gfKU8kyB82vG",
        "outputId": "808ae120-a866-49ae-c88d-698865d6ee96"
      },
      "execution_count": 13,
      "outputs": [
        {
          "output_type": "stream",
          "name": "stdout",
          "text": [
            "                                                   title  \\\n",
            "9731   ANTI-AMERICAN GEORGE SOROS Locks Arms With NFL...   \n",
            "9732                                             Unknown   \n",
            "12408  WOW! AMERICA IS UNDER ATTACK By These 187 Orga...   \n",
            "13364  A MUST READ! Here’s Why Voting For DONALD TRUM...   \n",
            "\n",
            "                                                    text  subject date  Target  \n",
            "9731   We just discovered another reason NOT to suppo...  Unknown  NaN       0  \n",
            "9732                                             Unknown  Unknown  NaN       0  \n",
            "12408  There have been many articles written about Ge...  Unknown  NaN       0  \n",
            "13364  This is a must read for anyone who s undecided...  Unknown  NaN       0  \n"
          ]
        }
      ]
    },
    {
      "cell_type": "code",
      "source": [
        "#to handle missing data for 'date' variable either replace with near date or drop or mean \\ median imputation tech.\n",
        "\n",
        "# Drop rows with missing target or date values\n",
        "df.dropna(subset=['Target', 'date'], inplace=True)\n",
        "df.isnull().sum()"
      ],
      "metadata": {
        "id": "5XzC55dI6Yo6",
        "colab": {
          "base_uri": "https://localhost:8080/",
          "height": 328
        },
        "outputId": "b31c8163-5129-4303-f590-5c58a3f65e27"
      },
      "execution_count": 15,
      "outputs": [
        {
          "output_type": "stream",
          "name": "stderr",
          "text": [
            "<ipython-input-15-e76dbaa9f450>:4: SettingWithCopyWarning: \n",
            "A value is trying to be set on a copy of a slice from a DataFrame\n",
            "\n",
            "See the caveats in the documentation: https://pandas.pydata.org/pandas-docs/stable/user_guide/indexing.html#returning-a-view-versus-a-copy\n",
            "  df.dropna(subset=['Target', 'date'], inplace=True)\n"
          ]
        },
        {
          "output_type": "execute_result",
          "data": {
            "text/plain": [
              "title      0\n",
              "text       0\n",
              "subject    0\n",
              "date       0\n",
              "Target     0\n",
              "dtype: int64"
            ],
            "text/html": [
              "<div>\n",
              "<style scoped>\n",
              "    .dataframe tbody tr th:only-of-type {\n",
              "        vertical-align: middle;\n",
              "    }\n",
              "\n",
              "    .dataframe tbody tr th {\n",
              "        vertical-align: top;\n",
              "    }\n",
              "\n",
              "    .dataframe thead th {\n",
              "        text-align: right;\n",
              "    }\n",
              "</style>\n",
              "<table border=\"1\" class=\"dataframe\">\n",
              "  <thead>\n",
              "    <tr style=\"text-align: right;\">\n",
              "      <th></th>\n",
              "      <th>0</th>\n",
              "    </tr>\n",
              "  </thead>\n",
              "  <tbody>\n",
              "    <tr>\n",
              "      <th>title</th>\n",
              "      <td>0</td>\n",
              "    </tr>\n",
              "    <tr>\n",
              "      <th>text</th>\n",
              "      <td>0</td>\n",
              "    </tr>\n",
              "    <tr>\n",
              "      <th>subject</th>\n",
              "      <td>0</td>\n",
              "    </tr>\n",
              "    <tr>\n",
              "      <th>date</th>\n",
              "      <td>0</td>\n",
              "    </tr>\n",
              "    <tr>\n",
              "      <th>Target</th>\n",
              "      <td>0</td>\n",
              "    </tr>\n",
              "  </tbody>\n",
              "</table>\n",
              "</div><br><label><b>dtype:</b> int64</label>"
            ]
          },
          "metadata": {},
          "execution_count": 15
        }
      ]
    },
    {
      "cell_type": "code",
      "source": [
        "#imputation\n",
        "# Filling missing dates with the mean date\n",
        "# df['date'] = pd.to_datetime(df['date'], errors='coerce') # converting to date format\n",
        "\n",
        "# mean_date = df['date'].mean()\n",
        "# print(f\"The mean date is: {mean_date}\") #checking mean date\n",
        "\n",
        "# df['date'].fillna(mean_date, inplace=True)\n",
        "\n"
      ],
      "metadata": {
        "colab": {
          "base_uri": "https://localhost:8080/"
        },
        "id": "JzR-toQ598Wr",
        "outputId": "86abde29-4a2b-4407-af41-3693a987d41c"
      },
      "execution_count": null,
      "outputs": [
        {
          "output_type": "stream",
          "name": "stdout",
          "text": [
            "The mean date is: 2016-10-15 04:09:43.783783680\n"
          ]
        },
        {
          "output_type": "stream",
          "name": "stderr",
          "text": [
            "<ipython-input-44-0c0c2014ef91>:3: SettingWithCopyWarning: \n",
            "A value is trying to be set on a copy of a slice from a DataFrame.\n",
            "Try using .loc[row_indexer,col_indexer] = value instead\n",
            "\n",
            "See the caveats in the documentation: https://pandas.pydata.org/pandas-docs/stable/user_guide/indexing.html#returning-a-view-versus-a-copy\n",
            "  df['date'] = pd.to_datetime(df['date'], errors='coerce') # converting to date format\n",
            "<ipython-input-44-0c0c2014ef91>:8: SettingWithCopyWarning: \n",
            "A value is trying to be set on a copy of a slice from a DataFrame\n",
            "\n",
            "See the caveats in the documentation: https://pandas.pydata.org/pandas-docs/stable/user_guide/indexing.html#returning-a-view-versus-a-copy\n",
            "  df['date'].fillna(mean_date, inplace=True)\n"
          ]
        }
      ]
    },
    {
      "cell_type": "code",
      "source": [
        "#This is for text preprocessing such as text normalization, tokenization, stemming\\lemmatization, to remove stop words, special characters, links, numbers etc.,\n",
        "#stemming\n",
        "import re\n",
        "import nltk\n",
        "from nltk.corpus import stopwords\n",
        "from nltk.tokenize import word_tokenize\n",
        "from nltk.stem import PorterStemmer\n",
        "from nltk.tokenize import regexp_tokenize\n",
        "# Download necessary NLTK resources\n",
        "nltk.download('punkt')\n",
        "nltk.download('stopwords')\n",
        "nltk.download('punkt_tab')\n"
      ],
      "metadata": {
        "id": "CHjVOu5oggl0",
        "colab": {
          "base_uri": "https://localhost:8080/"
        },
        "outputId": "c2572afe-17c0-46b4-b0e2-1c9864bebf6c"
      },
      "execution_count": 17,
      "outputs": [
        {
          "output_type": "stream",
          "name": "stderr",
          "text": [
            "[nltk_data] Downloading package punkt to /root/nltk_data...\n",
            "[nltk_data]   Unzipping tokenizers/punkt.zip.\n",
            "[nltk_data] Downloading package stopwords to /root/nltk_data...\n",
            "[nltk_data]   Unzipping corpora/stopwords.zip.\n",
            "[nltk_data] Downloading package punkt_tab to /root/nltk_data...\n",
            "[nltk_data]   Unzipping tokenizers/punkt_tab.zip.\n"
          ]
        },
        {
          "output_type": "execute_result",
          "data": {
            "text/plain": [
              "True"
            ]
          },
          "metadata": {},
          "execution_count": 17
        }
      ]
    },
    {
      "cell_type": "code",
      "source": [
        "# Define the preprocessing function\n",
        "def wp(text):\n",
        "    # Lowercase conversion\n",
        "    text = str(text).lower()\n",
        "\n",
        "    # Remove URLs\n",
        "    text = re.sub(r'http\\S+|www\\S+|https\\S+', '', text, flags=re.MULTILINE)\n",
        "\n",
        "    # Remove special characters and numbers\n",
        "    text = re.sub(r'\\W+|\\d+', ' ', text)\n",
        "\n",
        "    # Tokenization\n",
        "    tokens = word_tokenize(text)\n",
        "\n",
        "    # Remove stop words\n",
        "    stop_words = set(stopwords.words('english'))\n",
        "    tokens = [word for word in tokens if word not in stop_words]\n",
        "\n",
        "    # Stemming\n",
        "    stemmer = PorterStemmer()\n",
        "    tokens = [stemmer.stem(word) for word in tokens]\n",
        "\n",
        "    # Reconstruct text from tokens\n",
        "    stem_cleaned_text = ' '.join(tokens)\n",
        "    return stem_cleaned_text"
      ],
      "metadata": {
        "id": "NknKBMH6gh6p"
      },
      "execution_count": 18,
      "outputs": []
    },
    {
      "cell_type": "code",
      "source": [
        "df['stem_cleaned_text'] = df['text'].apply(wp)"
      ],
      "metadata": {
        "id": "BuBuXUWqIger",
        "colab": {
          "base_uri": "https://localhost:8080/"
        },
        "outputId": "061a8ee4-8c96-4e7b-b98d-83a909414f4e"
      },
      "execution_count": 19,
      "outputs": [
        {
          "output_type": "stream",
          "name": "stderr",
          "text": [
            "<ipython-input-19-50f9520a11b9>:1: SettingWithCopyWarning: \n",
            "A value is trying to be set on a copy of a slice from a DataFrame.\n",
            "Try using .loc[row_indexer,col_indexer] = value instead\n",
            "\n",
            "See the caveats in the documentation: https://pandas.pydata.org/pandas-docs/stable/user_guide/indexing.html#returning-a-view-versus-a-copy\n",
            "  df['stem_cleaned_text'] = df['text'].apply(wp)\n"
          ]
        }
      ]
    },
    {
      "cell_type": "code",
      "source": [
        "#Lemmatization\n",
        "from nltk.stem import WordNetLemmatizer\n",
        "from nltk.corpus import wordnet\n",
        "from nltk.tokenize import regexp_tokenize\n",
        "\n",
        "# Download necessary NLTK resources\n",
        "nltk.download('wordnet')\n",
        "nltk.download('averaged_perceptron_tagger')\n",
        "nltk.download('averaged_perceptron_tagger_eng')\n",
        "\n",
        "# Function to map POS tags to WordNet POS\n",
        "def get_wordnet_pos(word):\n",
        "    \"\"\"Map POS tag to WordNet POS for better lemmatization.\"\"\"\n",
        "    tag = nltk.pos_tag([word])[0][1][0].upper()\n",
        "    tag_dict = {\"J\": wordnet.ADJ, \"N\": wordnet.NOUN, \"V\": wordnet.VERB, \"R\": wordnet.ADV}\n",
        "    return tag_dict.get(tag, wordnet.NOUN)  # Default to NOUN if no mapping available\n",
        "\n",
        "# Preprocessing function with lemmatization\n",
        "def wp1(text):\n",
        "    # Lowercase conversion\n",
        "    text = str(text).lower()\n",
        "\n",
        "    # Remove URLs\n",
        "    text = re.sub(r'http\\S+|www\\S+|https\\S+', '', text, flags=re.MULTILINE)\n",
        "\n",
        "    # Remove special characters and numbers\n",
        "    text = re.sub(r'\\W+|\\d+', ' ', text)\n",
        "\n",
        "    # Tokenization\n",
        "    tokens = word_tokenize(text)\n",
        "\n",
        "    # Remove stop words\n",
        "    stop_words = set(stopwords.words('english'))\n",
        "    tokens = [word for word in tokens if word not in stop_words]\n",
        "\n",
        "    # Lemmatization\n",
        "    lemmatizer = WordNetLemmatizer()\n",
        "    tokens = [lemmatizer.lemmatize(word, get_wordnet_pos(word)) for word in tokens]\n",
        "\n",
        "    # Reconstruct text from tokens\n",
        "    lemma_cleaned_text1 = ' '.join(tokens)\n",
        "    return lemma_cleaned_text1\n",
        "\n",
        "\n"
      ],
      "metadata": {
        "colab": {
          "base_uri": "https://localhost:8080/"
        },
        "id": "o2693CQzrMwb",
        "outputId": "11f0c7d2-66b1-4d7d-d378-aa2bc9380ef8"
      },
      "execution_count": 20,
      "outputs": [
        {
          "output_type": "stream",
          "name": "stderr",
          "text": [
            "[nltk_data] Downloading package wordnet to /root/nltk_data...\n",
            "[nltk_data] Downloading package averaged_perceptron_tagger to\n",
            "[nltk_data]     /root/nltk_data...\n",
            "[nltk_data]   Unzipping taggers/averaged_perceptron_tagger.zip.\n",
            "[nltk_data] Downloading package averaged_perceptron_tagger_eng to\n",
            "[nltk_data]     /root/nltk_data...\n",
            "[nltk_data]   Unzipping taggers/averaged_perceptron_tagger_eng.zip.\n"
          ]
        }
      ]
    },
    {
      "cell_type": "code",
      "source": [
        "# Apply the function to the dataframe\n",
        "df['lemma_cleaned_text1'] = df['text'].apply(wp1)"
      ],
      "metadata": {
        "colab": {
          "base_uri": "https://localhost:8080/"
        },
        "id": "-sFCcP9ptzid",
        "outputId": "d43d48e7-a50d-4ae9-e415-ec12fe36b764"
      },
      "execution_count": 21,
      "outputs": [
        {
          "output_type": "stream",
          "name": "stderr",
          "text": [
            "<ipython-input-21-b04f62cd863d>:2: SettingWithCopyWarning: \n",
            "A value is trying to be set on a copy of a slice from a DataFrame.\n",
            "Try using .loc[row_indexer,col_indexer] = value instead\n",
            "\n",
            "See the caveats in the documentation: https://pandas.pydata.org/pandas-docs/stable/user_guide/indexing.html#returning-a-view-versus-a-copy\n",
            "  df['lemma_cleaned_text1'] = df['text'].apply(wp1)\n"
          ]
        }
      ]
    },
    {
      "cell_type": "code",
      "source": [
        "df.head() # understanding difference b/w stemming and lemmatization for cleaned data"
      ],
      "metadata": {
        "colab": {
          "base_uri": "https://localhost:8080/",
          "height": 206
        },
        "id": "NiiPE8xbVzpd",
        "outputId": "72cad244-3542-4f5d-b56b-1142375d1ff9"
      },
      "execution_count": 22,
      "outputs": [
        {
          "output_type": "execute_result",
          "data": {
            "text/plain": [
              "                                               title  \\\n",
              "0   Donald Trump Sends Out Embarrassing New Year’...   \n",
              "1   Drunk Bragging Trump Staffer Started Russian ...   \n",
              "2   Sheriff David Clarke Becomes An Internet Joke...   \n",
              "3   Trump Is So Obsessed He Even Has Obama’s Name...   \n",
              "4   Pope Francis Just Called Out Donald Trump Dur...   \n",
              "\n",
              "                                                text subject  \\\n",
              "0  Donald Trump just couldn t wish all Americans ...    News   \n",
              "1  House Intelligence Committee Chairman Devin Nu...    News   \n",
              "2  On Friday, it was revealed that former Milwauk...    News   \n",
              "3  On Christmas day, Donald Trump announced that ...    News   \n",
              "4  Pope Francis used his annual Christmas Day mes...    News   \n",
              "\n",
              "                date  Target  \\\n",
              "0  December 31, 2017       0   \n",
              "1  December 31, 2017       0   \n",
              "2  December 30, 2017       0   \n",
              "3  December 29, 2017       0   \n",
              "4  December 25, 2017       0   \n",
              "\n",
              "                                   stem_cleaned_text  \\\n",
              "0  donald trump wish american happi new year leav...   \n",
              "1  hous intellig committe chairman devin nune go ...   \n",
              "2  friday reveal former milwauke sheriff david cl...   \n",
              "3  christma day donald trump announc would back w...   \n",
              "4  pope franci use annual christma day messag reb...   \n",
              "\n",
              "                                 lemma_cleaned_text1  \n",
              "0  donald trump wish american happy new year leav...  \n",
              "1  house intelligence committee chairman devin nu...  \n",
              "2  friday reveal former milwaukee sheriff david c...  \n",
              "3  christmas day donald trump announce would back...  \n",
              "4  pope francis use annual christmas day message ...  "
            ],
            "text/html": [
              "\n",
              "  <div id=\"df-2d755df1-830e-40b2-aaed-bf87663f317f\" class=\"colab-df-container\">\n",
              "    <div>\n",
              "<style scoped>\n",
              "    .dataframe tbody tr th:only-of-type {\n",
              "        vertical-align: middle;\n",
              "    }\n",
              "\n",
              "    .dataframe tbody tr th {\n",
              "        vertical-align: top;\n",
              "    }\n",
              "\n",
              "    .dataframe thead th {\n",
              "        text-align: right;\n",
              "    }\n",
              "</style>\n",
              "<table border=\"1\" class=\"dataframe\">\n",
              "  <thead>\n",
              "    <tr style=\"text-align: right;\">\n",
              "      <th></th>\n",
              "      <th>title</th>\n",
              "      <th>text</th>\n",
              "      <th>subject</th>\n",
              "      <th>date</th>\n",
              "      <th>Target</th>\n",
              "      <th>stem_cleaned_text</th>\n",
              "      <th>lemma_cleaned_text1</th>\n",
              "    </tr>\n",
              "  </thead>\n",
              "  <tbody>\n",
              "    <tr>\n",
              "      <th>0</th>\n",
              "      <td>Donald Trump Sends Out Embarrassing New Year’...</td>\n",
              "      <td>Donald Trump just couldn t wish all Americans ...</td>\n",
              "      <td>News</td>\n",
              "      <td>December 31, 2017</td>\n",
              "      <td>0</td>\n",
              "      <td>donald trump wish american happi new year leav...</td>\n",
              "      <td>donald trump wish american happy new year leav...</td>\n",
              "    </tr>\n",
              "    <tr>\n",
              "      <th>1</th>\n",
              "      <td>Drunk Bragging Trump Staffer Started Russian ...</td>\n",
              "      <td>House Intelligence Committee Chairman Devin Nu...</td>\n",
              "      <td>News</td>\n",
              "      <td>December 31, 2017</td>\n",
              "      <td>0</td>\n",
              "      <td>hous intellig committe chairman devin nune go ...</td>\n",
              "      <td>house intelligence committee chairman devin nu...</td>\n",
              "    </tr>\n",
              "    <tr>\n",
              "      <th>2</th>\n",
              "      <td>Sheriff David Clarke Becomes An Internet Joke...</td>\n",
              "      <td>On Friday, it was revealed that former Milwauk...</td>\n",
              "      <td>News</td>\n",
              "      <td>December 30, 2017</td>\n",
              "      <td>0</td>\n",
              "      <td>friday reveal former milwauke sheriff david cl...</td>\n",
              "      <td>friday reveal former milwaukee sheriff david c...</td>\n",
              "    </tr>\n",
              "    <tr>\n",
              "      <th>3</th>\n",
              "      <td>Trump Is So Obsessed He Even Has Obama’s Name...</td>\n",
              "      <td>On Christmas day, Donald Trump announced that ...</td>\n",
              "      <td>News</td>\n",
              "      <td>December 29, 2017</td>\n",
              "      <td>0</td>\n",
              "      <td>christma day donald trump announc would back w...</td>\n",
              "      <td>christmas day donald trump announce would back...</td>\n",
              "    </tr>\n",
              "    <tr>\n",
              "      <th>4</th>\n",
              "      <td>Pope Francis Just Called Out Donald Trump Dur...</td>\n",
              "      <td>Pope Francis used his annual Christmas Day mes...</td>\n",
              "      <td>News</td>\n",
              "      <td>December 25, 2017</td>\n",
              "      <td>0</td>\n",
              "      <td>pope franci use annual christma day messag reb...</td>\n",
              "      <td>pope francis use annual christmas day message ...</td>\n",
              "    </tr>\n",
              "  </tbody>\n",
              "</table>\n",
              "</div>\n",
              "    <div class=\"colab-df-buttons\">\n",
              "\n",
              "  <div class=\"colab-df-container\">\n",
              "    <button class=\"colab-df-convert\" onclick=\"convertToInteractive('df-2d755df1-830e-40b2-aaed-bf87663f317f')\"\n",
              "            title=\"Convert this dataframe to an interactive table.\"\n",
              "            style=\"display:none;\">\n",
              "\n",
              "  <svg xmlns=\"http://www.w3.org/2000/svg\" height=\"24px\" viewBox=\"0 -960 960 960\">\n",
              "    <path d=\"M120-120v-720h720v720H120Zm60-500h600v-160H180v160Zm220 220h160v-160H400v160Zm0 220h160v-160H400v160ZM180-400h160v-160H180v160Zm440 0h160v-160H620v160ZM180-180h160v-160H180v160Zm440 0h160v-160H620v160Z\"/>\n",
              "  </svg>\n",
              "    </button>\n",
              "\n",
              "  <style>\n",
              "    .colab-df-container {\n",
              "      display:flex;\n",
              "      gap: 12px;\n",
              "    }\n",
              "\n",
              "    .colab-df-convert {\n",
              "      background-color: #E8F0FE;\n",
              "      border: none;\n",
              "      border-radius: 50%;\n",
              "      cursor: pointer;\n",
              "      display: none;\n",
              "      fill: #1967D2;\n",
              "      height: 32px;\n",
              "      padding: 0 0 0 0;\n",
              "      width: 32px;\n",
              "    }\n",
              "\n",
              "    .colab-df-convert:hover {\n",
              "      background-color: #E2EBFA;\n",
              "      box-shadow: 0px 1px 2px rgba(60, 64, 67, 0.3), 0px 1px 3px 1px rgba(60, 64, 67, 0.15);\n",
              "      fill: #174EA6;\n",
              "    }\n",
              "\n",
              "    .colab-df-buttons div {\n",
              "      margin-bottom: 4px;\n",
              "    }\n",
              "\n",
              "    [theme=dark] .colab-df-convert {\n",
              "      background-color: #3B4455;\n",
              "      fill: #D2E3FC;\n",
              "    }\n",
              "\n",
              "    [theme=dark] .colab-df-convert:hover {\n",
              "      background-color: #434B5C;\n",
              "      box-shadow: 0px 1px 3px 1px rgba(0, 0, 0, 0.15);\n",
              "      filter: drop-shadow(0px 1px 2px rgba(0, 0, 0, 0.3));\n",
              "      fill: #FFFFFF;\n",
              "    }\n",
              "  </style>\n",
              "\n",
              "    <script>\n",
              "      const buttonEl =\n",
              "        document.querySelector('#df-2d755df1-830e-40b2-aaed-bf87663f317f button.colab-df-convert');\n",
              "      buttonEl.style.display =\n",
              "        google.colab.kernel.accessAllowed ? 'block' : 'none';\n",
              "\n",
              "      async function convertToInteractive(key) {\n",
              "        const element = document.querySelector('#df-2d755df1-830e-40b2-aaed-bf87663f317f');\n",
              "        const dataTable =\n",
              "          await google.colab.kernel.invokeFunction('convertToInteractive',\n",
              "                                                    [key], {});\n",
              "        if (!dataTable) return;\n",
              "\n",
              "        const docLinkHtml = 'Like what you see? Visit the ' +\n",
              "          '<a target=\"_blank\" href=https://colab.research.google.com/notebooks/data_table.ipynb>data table notebook</a>'\n",
              "          + ' to learn more about interactive tables.';\n",
              "        element.innerHTML = '';\n",
              "        dataTable['output_type'] = 'display_data';\n",
              "        await google.colab.output.renderOutput(dataTable, element);\n",
              "        const docLink = document.createElement('div');\n",
              "        docLink.innerHTML = docLinkHtml;\n",
              "        element.appendChild(docLink);\n",
              "      }\n",
              "    </script>\n",
              "  </div>\n",
              "\n",
              "\n",
              "<div id=\"df-5bbb7ad4-2b92-483b-b23a-e3dc0e4bb06b\">\n",
              "  <button class=\"colab-df-quickchart\" onclick=\"quickchart('df-5bbb7ad4-2b92-483b-b23a-e3dc0e4bb06b')\"\n",
              "            title=\"Suggest charts\"\n",
              "            style=\"display:none;\">\n",
              "\n",
              "<svg xmlns=\"http://www.w3.org/2000/svg\" height=\"24px\"viewBox=\"0 0 24 24\"\n",
              "     width=\"24px\">\n",
              "    <g>\n",
              "        <path d=\"M19 3H5c-1.1 0-2 .9-2 2v14c0 1.1.9 2 2 2h14c1.1 0 2-.9 2-2V5c0-1.1-.9-2-2-2zM9 17H7v-7h2v7zm4 0h-2V7h2v10zm4 0h-2v-4h2v4z\"/>\n",
              "    </g>\n",
              "</svg>\n",
              "  </button>\n",
              "\n",
              "<style>\n",
              "  .colab-df-quickchart {\n",
              "      --bg-color: #E8F0FE;\n",
              "      --fill-color: #1967D2;\n",
              "      --hover-bg-color: #E2EBFA;\n",
              "      --hover-fill-color: #174EA6;\n",
              "      --disabled-fill-color: #AAA;\n",
              "      --disabled-bg-color: #DDD;\n",
              "  }\n",
              "\n",
              "  [theme=dark] .colab-df-quickchart {\n",
              "      --bg-color: #3B4455;\n",
              "      --fill-color: #D2E3FC;\n",
              "      --hover-bg-color: #434B5C;\n",
              "      --hover-fill-color: #FFFFFF;\n",
              "      --disabled-bg-color: #3B4455;\n",
              "      --disabled-fill-color: #666;\n",
              "  }\n",
              "\n",
              "  .colab-df-quickchart {\n",
              "    background-color: var(--bg-color);\n",
              "    border: none;\n",
              "    border-radius: 50%;\n",
              "    cursor: pointer;\n",
              "    display: none;\n",
              "    fill: var(--fill-color);\n",
              "    height: 32px;\n",
              "    padding: 0;\n",
              "    width: 32px;\n",
              "  }\n",
              "\n",
              "  .colab-df-quickchart:hover {\n",
              "    background-color: var(--hover-bg-color);\n",
              "    box-shadow: 0 1px 2px rgba(60, 64, 67, 0.3), 0 1px 3px 1px rgba(60, 64, 67, 0.15);\n",
              "    fill: var(--button-hover-fill-color);\n",
              "  }\n",
              "\n",
              "  .colab-df-quickchart-complete:disabled,\n",
              "  .colab-df-quickchart-complete:disabled:hover {\n",
              "    background-color: var(--disabled-bg-color);\n",
              "    fill: var(--disabled-fill-color);\n",
              "    box-shadow: none;\n",
              "  }\n",
              "\n",
              "  .colab-df-spinner {\n",
              "    border: 2px solid var(--fill-color);\n",
              "    border-color: transparent;\n",
              "    border-bottom-color: var(--fill-color);\n",
              "    animation:\n",
              "      spin 1s steps(1) infinite;\n",
              "  }\n",
              "\n",
              "  @keyframes spin {\n",
              "    0% {\n",
              "      border-color: transparent;\n",
              "      border-bottom-color: var(--fill-color);\n",
              "      border-left-color: var(--fill-color);\n",
              "    }\n",
              "    20% {\n",
              "      border-color: transparent;\n",
              "      border-left-color: var(--fill-color);\n",
              "      border-top-color: var(--fill-color);\n",
              "    }\n",
              "    30% {\n",
              "      border-color: transparent;\n",
              "      border-left-color: var(--fill-color);\n",
              "      border-top-color: var(--fill-color);\n",
              "      border-right-color: var(--fill-color);\n",
              "    }\n",
              "    40% {\n",
              "      border-color: transparent;\n",
              "      border-right-color: var(--fill-color);\n",
              "      border-top-color: var(--fill-color);\n",
              "    }\n",
              "    60% {\n",
              "      border-color: transparent;\n",
              "      border-right-color: var(--fill-color);\n",
              "    }\n",
              "    80% {\n",
              "      border-color: transparent;\n",
              "      border-right-color: var(--fill-color);\n",
              "      border-bottom-color: var(--fill-color);\n",
              "    }\n",
              "    90% {\n",
              "      border-color: transparent;\n",
              "      border-bottom-color: var(--fill-color);\n",
              "    }\n",
              "  }\n",
              "</style>\n",
              "\n",
              "  <script>\n",
              "    async function quickchart(key) {\n",
              "      const quickchartButtonEl =\n",
              "        document.querySelector('#' + key + ' button');\n",
              "      quickchartButtonEl.disabled = true;  // To prevent multiple clicks.\n",
              "      quickchartButtonEl.classList.add('colab-df-spinner');\n",
              "      try {\n",
              "        const charts = await google.colab.kernel.invokeFunction(\n",
              "            'suggestCharts', [key], {});\n",
              "      } catch (error) {\n",
              "        console.error('Error during call to suggestCharts:', error);\n",
              "      }\n",
              "      quickchartButtonEl.classList.remove('colab-df-spinner');\n",
              "      quickchartButtonEl.classList.add('colab-df-quickchart-complete');\n",
              "    }\n",
              "    (() => {\n",
              "      let quickchartButtonEl =\n",
              "        document.querySelector('#df-5bbb7ad4-2b92-483b-b23a-e3dc0e4bb06b button');\n",
              "      quickchartButtonEl.style.display =\n",
              "        google.colab.kernel.accessAllowed ? 'block' : 'none';\n",
              "    })();\n",
              "  </script>\n",
              "</div>\n",
              "\n",
              "    </div>\n",
              "  </div>\n"
            ],
            "application/vnd.google.colaboratory.intrinsic+json": {
              "type": "dataframe",
              "variable_name": "df",
              "summary": "{\n  \"name\": \"df\",\n  \"rows\": 24851,\n  \"fields\": [\n    {\n      \"column\": \"title\",\n      \"properties\": {\n        \"dtype\": \"string\",\n        \"num_unique_values\": 24775,\n        \"samples\": [\n          \"Delaware is first U.S. state to enact abortion rights law under Trump\",\n          \"Australian PM says he's confident Trump won't pull out of U.S. refugee deal\",\n          \"Romney to endorse Rubio in 2016 Republican White House race: report\"\n        ],\n        \"semantic_type\": \"\",\n        \"description\": \"\"\n      }\n    },\n    {\n      \"column\": \"text\",\n      \"properties\": {\n        \"dtype\": \"string\",\n        \"num_unique_values\": 24471,\n        \"samples\": [\n          \" (This story corrects ninth paragraph to say that refiners want exported ethanol to qualify for renewable credits, not exported fuel blended with ethanol.) By David Shepardson and Jarrett Renshaw WASHINGTON (Reuters) - U.S. President Donald Trump sought to ease concerns on Wednesday that his administration would make major alterations to biofuels policy, telling Iowa\\u2019s governor he was committed to a decade-old biofuels program even as a top official considers changing it. U.S. law requires fuel companies to add biofuels like ethanol to the country\\u2019s fuel supply through the \\u2018renewable fuel standard,\\u2019 adopted in 2005. The Trump administration is considering lowering the mandatory level, a worry for corn-growing states like Iowa.  Iowa Governor Kim Reynolds said she held separate calls with Trump and U.S. Environmental Protection Agency (EPA) Administrator Scott Pruitt on Wednesday, in which she urged them not to make that change. \\u201cBoth of them personally committed to me their continued commitment to the renewable fuel standard,\\u201d Reynolds said, adding that the call with Trump was \\u201cpositive.\\u201d However, White House spokeswoman Sarah Sanders said the administration \\u201cdidn\\u2019t make any assurances\\u201d on renewable fuel standard (RFS) levels. \\u201cNo definitive decision was made on RFS,\\u201d she said. The biofuels industry has been ratcheting up pressure in Washington in response to actions from the EPA it sees as threatening the program, which was designed to reduce carbon emissions.  Independent oil refiners, meanwhile, have pushed the Trump administration to soften requirements for ethanol use, which costs them hundreds of millions of dollars annually. Some refiners want another change that would ease their cost burden: they want exported ethanol to qualify for credits under the renewable fuel program. The chief executives at four such companies - Valero, PBF Energy, Monroe Energy and HollyFrontier - delivered a letter to the White House on Wednesday urging the change. Two industry sources told Reuters they had received assurances from White House officials that Trump was directing the EPA to allow credits on exports, but to end its efforts to reduce renewable fuel requirements overall. Last month, the EPA said it was looking to cut 2018 biodiesel blending requirements, roiling markets and drawing criticism from the country\\u2019s farm belt. In July, it proposed cutting total volumes of all renewable fuels use for next year.     Elected officials from the corn-growing Midwest have said they will not be satisfied with White House reassurances until the EPA publicly agrees not to reduce renewable fuel standards. Several senators met with Pruitt on Tuesday to discuss the issue.  In a statement after the meeting, Iowa Republican Senator Joni Ernst said she had expressed \\u201csignificant concerns\\u201d over the agency\\u2019s recent moves to potentially set biodiesel requirements for 2018 and 2019 at \\u201csubstantially lower volumes.\\u201d Senator Charles Grassley, an Iowa Republican, said he told Pruitt during the hour-long meeting \\u201cthat supporting biofuels isn\\u2019t just good policy. It\\u2019s also what President Trump promised.\\u201d Reynolds, meanwhile, urged Iowans to contact lawmakers and administration officials and said she is meeting next week with U.S. Vice President Mike Pence and Pruitt in Washington.  A group of 33 senators wrote to Trump this week urging the EPA to maintain levels for 2018 and increase its proposed 2019 biodiesel requirements. Pruitt would not want \\u201cto take any steps to undermine the objectives in the statute of the RFS,\\u201d said EPA spokeswoman Liz Bowman.  Late on Tuesday, the Senate Committee on Environment and Public Works postponed a planned hearing for Wednesday to consider the nominations of four EPA officials. Senator Tammy Duckworth, an Illinois Democrat, said she was placing a hold on two EPA nominees over the ethanol issue. Ernst said on Wednesday she was declining to support one of the nominees over concerns about the EPA\\u2019s plans for renewable fuels. \",\n          \"(Reuters) - The U.S. Supreme Court on Monday upheld federal disclosure rules for political advertising, rejecting an appeal by a Denver-based libertarian think tank that wanted to run an ad without being forced to divulge its major donors. The Denver-based Independence Institute sued the Federal Election Commission, arguing the law requiring such disclosure violated its free speech rights under the U.S. Constitution\\u2019s First Amendment. The Supreme Court affirmed a lower court\\u2019s ruling last year in favor of the commission. It was the latest in a decade-long series of cases brought by conservatives aiming to roll back federal campaign finance restrictions. The Independence Institute was supported in the case by influential Republican and conservative voices including Republican Senate Majority Leader Mitch McConnell and the  Judicial Watch legal activist group as well as the U.S. Chamber of Commerce business group. The institute, ahead of the 2014 congressional elections, had sought to run a radio advertisement about increasing prison costs, telling listeners to urge their Colorado U.S. senators to support sentencing reform. Because the ad mentioned a senator by name in the lead up to an election, it triggered a provision in the 2002 campaign finance statute known as the McCain-Feingold law requiring the institute to file with the election commission and disclose any donors supporting the ad. The law was enacted to combat an explosion of what is known as \\u201csoft money\\u201d in campaigns through so-called sham issue advertisements, which cloaked partisan advocacy in discussions of public policy. Though the Supreme Court allowed unlimited campaign spending by corporations and unions in its landmark 2010 decision in the Citizens United v Federal Election Commission case, the court also upheld disclosure requirements for campaign ads. The Federal Election Commission said that for more than a century federal law has required organizations that influence elections to disclose information about their funding sources, a principle upheld in the Citizens United ruling. The Independence Institute sued in federal court in Washington in a bid to keep the names of its donors secret, arguing that its proposed ad focused on the sentencing reforms that senators were considering, not any senator\\u2019s re-election campaign.  Last October, a three-judge panel of the federal court ruled against the group, saying it would be impossible to distinguish genuine issue ads that reference candidates from campaign-style ads that openly promote or disparage a candidate.\\u00a0 \",\n          \"Secret Service personnel removed the alarm sensors along an area of fence line when the agency raised its height in response to previous fence-jumping incidents as a way to make it harder to scale. Ironically, the very effort to prevent fence jumping appears to have permitted a particularly egregious intrusion.One source said superiors in the Uniformed Division told Secret Service personnel to remove the sensors and piece them together for use elsewhere. They were never replaced.There are at least 10 to 12 officers and agents, including supervisors from the Presidential Protective Division, monitoring these sensors at any given time. They do so from the Joint Operations Command Center or JOCC, which is located outside of the White House complex.Some agents and officers also are questioning why Secret Service never released the K-9 unit to try to find an intruder after the alarms on the first fence the intruder scaled went off.Rep. Jason Chaffetz weighs in below on details of what the intruder did in those 17 minutes: The White House fence jumper who lingered on the ground unnoticed for 17 minutes was literally just hanging out in plain view with alarms blaring, and the Secret Service had no clue.Congressman Jason Chaffetz tells TMZ he met with the Director of Homeland Security and the Acting Director of the Secret Service for an hour and a half Tuesday, and his conclusion    It was even worse than I thought. Chaffetz says the surveillance video is shocking   the intruder was not darting around. Rather, he was  lingering,   hanging out  on the grounds. At one point he took the time to bend down and tie his shoes.The intruder at times peered through windows of the building, where Trump was inside. As we previously reported, he also jiggled a doorknob.Chaffetz says some of the alarms failed but some went off, yet the intruder was not detected.Secret Service agents did check the grounds, but not with any urgency. Alarms frequently go off for various reasons, and this time it was met with an inadequate response.And Chaffetz says the video shows agents were simply  lackadaisical.  As he put it,  Everything went wrong.  The congressman says he was promised there would be  big changes,  adding,  There better be. Via: tmz\"\n        ],\n        \"semantic_type\": \"\",\n        \"description\": \"\"\n      }\n    },\n    {\n      \"column\": \"subject\",\n      \"properties\": {\n        \"dtype\": \"category\",\n        \"num_unique_values\": 7,\n        \"samples\": [\n          \"News\",\n          \"politics\",\n          \"politicsNews\"\n        ],\n        \"semantic_type\": \"\",\n        \"description\": \"\"\n      }\n    },\n    {\n      \"column\": \"date\",\n      \"properties\": {\n        \"dtype\": \"category\",\n        \"num_unique_values\": 1951,\n        \"samples\": [\n          \"December 14, 2016 \",\n          \"July 13, 2017 \",\n          \"February 27, 2016 \"\n        ],\n        \"semantic_type\": \"\",\n        \"description\": \"\"\n      }\n    },\n    {\n      \"column\": \"Target\",\n      \"properties\": {\n        \"dtype\": \"number\",\n        \"std\": 0,\n        \"min\": 0,\n        \"max\": 1,\n        \"num_unique_values\": 2,\n        \"samples\": [\n          1,\n          0\n        ],\n        \"semantic_type\": \"\",\n        \"description\": \"\"\n      }\n    },\n    {\n      \"column\": \"stem_cleaned_text\",\n      \"properties\": {\n        \"dtype\": \"string\",\n        \"num_unique_values\": 24416,\n        \"samples\": [\n          \"republican parti friend lgbtq peopl secret howev group gay republican relentless effort chang parti view insid log cabin republican gop roll outrag bigot platform lgbtq peopl even keep quiet therefor group pen letter beg money tri muscl way club peopl never ever accept text letter pen gregori angelo presid log cabin republican date juli dear friend way sugar coat mad hell know moment ago republican parti pass anti lgbt platform parti year histori opposit marriag equal nonsens bathroom endors debunk psycholog practic pray gay away gop know either heck even donald trump given chanc follow lead presumpt presidenti nomine reach lgbt commun wake aw terrorist massacr orlando gay nightclub puls platform committe said time sit around feel sorri log cabin republican offici credenti republican nation convent conven cleveland mere day time want abl take stand go need support cleveland rightli make time spotlight price advertis area news outlet sky high write ask help pleas give today give gener whatev give would go long way ensur go quietli night take back platform take back parti stand today let folk platform committe pave way foolish know go without fight sincer gregori angelo presidentnow clear anyon brain gop never ever accept peopl rank even ban gay group conserv polit action confer cpac fear offend hate anti gay hate group lose money even welcom white supremacist group bad folk gop hate gay peopl much rather racist hate group instead even goproud offshoot log cabin republican even conserv log cabin type disband former presid jimmi lasalvia left gop altogeth hate belief mr angelo member log cabin republican hear get head hate sooner realiz better get parti hate stop embarrass rest us lgbtq commun featur imag via screen captur salon\",\n          \"drug addict alcohol tend denial diseas former realiti show star donald trump think problem alleg presid address opioid addict sweep across u probabl suffer type addict remain denial donald trump need treatment would mean take leav absenc job amateur presid spent day time offic visit least one properti includ visit golf club job day contrast former presid barack obama hit golf cours amount time offic obama first golf game april th still yet addict trump defend frequent weekend trip luxuri resort properti say care golf much peopl might think accord hill lot properti go club like new jersey say oh go play golf go play golf trump said interview fox news care less golf well sure care obama play golf though fact dozen rage tweet trump obama play golf believ problem difficulti face u presid obama spent day play golf wors carter donald j trump realdonaldtrump octob place cost almost noth hundr acr secur close street trump ad trump mean cost noth taxpay though pay big time cost us million pop everi time visit mar lago resort meanwhil everi visit trump own properti promot mean conflict interest profit presid trump say feel littl guilti go back trump tower resid new york expens associ trip mention cost taxpay foot bill sever white hous instead one exampl secur melania trump new york reportedli cost citi polic depart day protect son secret servic request addit million fund protect trump famili love new york go back expens countri close fifth avenu close th street alway feel littl bit guilti go said trump said want perceiv lazi note prefer visit properti expens secur expens secur trump frequent visit florida resort financi burden counti would much better peopl would understand could go place trump said hit relax want known person relax work hard work hard peopl addict whether drug alcohol sex golf prejud diseas affect whether black white orang rich poor pay tax tri hide tax public pay noth photo ian macnicol getti imag\"\n        ],\n        \"semantic_type\": \"\",\n        \"description\": \"\"\n      }\n    },\n    {\n      \"column\": \"lemma_cleaned_text1\",\n      \"properties\": {\n        \"dtype\": \"string\",\n        \"num_unique_values\": 24416,\n        \"samples\": [\n          \"republican party friend lgbtq people secret however group gay republican relentless effort change party view inside log cabin republican gop roll outrageously bigoted platform lgbtq people even keep quiet therefore group pen letter beg money try muscle way club people never ever accept text letter pen gregory angelo president log cabin republican date july dear friend way sugar coat mad hell know moment ago republican party pass anti lgbt platform party year history opposition marriage equality nonsense bathroom endorsement debunked psychological practice pray gay away gop know either heck even donald trump give chance follow lead presumptive presidential nominee reach lgbt community wake awful terrorist massacre orlando gay nightclub pulse platform committee say time sit around feel sorry log cabin republican officially credentialed republican national convention convenes cleveland mere day time want able take stand go need support cleveland rightly make time spotlight price advertising area news outlet sky high write ask help please give today give generously whatever give would go long way ensure go quietly night take back platform take back party stand today let folk platform committee pave way foolishness know go without fight sincerely gregory angelo presidentnow clear anyone brain gop never ever accept people rank even ban gay group conservative political action conference cpac fear offend hateful anti gay hate group lose money even welcome white supremacist group bad folk gop hate gay people much rather racist hate group instead even goproud offshoot log cabin republican even conservative log cabin type disband former president jimmy lasalvia left gop altogether hateful belief mr angelo member log cabin republican hear get head hate sooner realize well get party hate stop embarrass rest u lgbtq community feature image via screen capture salon\",\n          \"drug addict alcoholic tend denial disease former reality show star donald trump think problem allege president address opioid addiction sweep across u probably suffers type addiction remains denial donald trump need treatment would mean take leave absence job amateur president spent day time office visit least one property include visit golf club job day contrast former president barack obama hit golf course amount time office obama first golf game april th still yet addict trump defend frequent weekend trip luxury resort property say care golfing much people might think accord hill lot property go club like new jersey say oh go play golf go play golf trump say interview fox news care less golf well sure care obama played golf though fact dozen rage tweet trump obama play golf believe problem difficulty face u president obama spent day play golf bad carter donald j trump realdonaldtrump october place cost almost nothing hundred acre security close street trump add trump mean cost nothing taxpayer though pay big time cost u million pop every time visit mar lago resort meanwhile every visit trump own property promotes mean conflict interest profit presidency trump say feel little guilty go back trump tower residence new york expense associate trip mention cost taxpayer foot bill several white house instead one example security melania trump new york reportedly cost city police department day protect son secret service request additional million funding protect trump family love new york go back expensive country close fifth avenue close th street always feel little bit guilty go say trump say want perceive lazy note prefers visit property expensive secure expensive secure trump frequent visit florida resort financial burden county would much well people would understand could go place trump say hit relax want know person relaxes work hard work hard people addiction whether drug alcohol sex golfing prejudice disease affect whether black white orange rich poor pay tax try hide tax public pay nothing photo ian macnicol getty image\"\n        ],\n        \"semantic_type\": \"\",\n        \"description\": \"\"\n      }\n    }\n  ]\n}"
            }
          },
          "metadata": {},
          "execution_count": 22
        }
      ]
    },
    {
      "cell_type": "markdown",
      "source": [
        "**Exploratory Data Analysis**"
      ],
      "metadata": {
        "id": "YJwQU5X0zQGD"
      }
    },
    {
      "cell_type": "code",
      "source": [
        "#Univariant analysis\n",
        "#1 Target variable\n",
        "Target_distribution = df['Target'].value_counts()\n",
        "print(Target_distribution)\n",
        "\n",
        "# Plot the Target variable distribution\n",
        "plt.figure(figsize=(3, 3))\n",
        "sns.barplot(x=Target_distribution.index, y=Target_distribution.values, palette='viridis')\n",
        "plt.xlabel('Target')\n",
        "plt.ylabel('Count')\n",
        "plt.title('Distribution of Target Labels')\n",
        "plt.show()"
      ],
      "metadata": {
        "colab": {
          "base_uri": "https://localhost:8080/",
          "height": 402
        },
        "id": "9MDktWBNFppQ",
        "outputId": "016b1462-718e-4e7f-fa55-e882b7248687"
      },
      "execution_count": 88,
      "outputs": [
        {
          "output_type": "stream",
          "name": "stdout",
          "text": [
            "Target\n",
            "0    13497\n",
            "1    11354\n",
            "Name: count, dtype: int64\n"
          ]
        },
        {
          "output_type": "display_data",
          "data": {
            "text/plain": [
              "<Figure size 300x300 with 1 Axes>"
            ],
            "image/png": "[encoded data removed]"
          },
          "metadata": {}
        }
      ]
    },
    {
      "cell_type": "code",
      "source": [
        "# Data distributions\n",
        "#exploring target variable\n",
        "plt.figure(figsize=(6, 6))\n",
        "churn_counts = df['Target'].value_counts()\n",
        "plt.pie(churn_counts, labels=churn_counts.index, autopct='%1.2f%%', colors=['#99ff99', '#66b3ff'])\n",
        "plt.title('Distribution of Churn Customers')\n",
        "print(df['Target'].value_counts())\n",
        "plt.savefig('my_plot.png', dpi=300, bbox_inches='tight')\n",
        "plt.show()\n"
      ],
      "metadata": {
        "colab": {
          "base_uri": "https://localhost:8080/",
          "height": 590
        },
        "id": "a0zwp36Bsf7b",
        "outputId": "355bc1c4-d154-453e-c330-45674ee14645"
      },
      "execution_count": 92,
      "outputs": [
        {
          "output_type": "stream",
          "name": "stdout",
          "text": [
            "Target\n",
            "0    13497\n",
            "1    11354\n",
            "Name: count, dtype: int64\n"
          ]
        },
        {
          "output_type": "display_data",
          "data": {
            "text/plain": [
              "<Figure size 600x600 with 1 Axes>"
            ],
            "image/png": "[encoded data removed]"
          },
          "metadata": {}
        }
      ]
    },
    {
      "cell_type": "code",
      "source": [
        "# 2. Text Length Distribution\n",
        "\n",
        "df['text_length'] = df['lemma_cleaned_text1'].apply(len)\n",
        "\n",
        "# Print basic statistics about text length\n",
        "print(\"Text Length Statistics:\")\n",
        "print(df['text_length'].describe())\n",
        "\n",
        "# Plot the distribution of text length\n",
        "plt.figure(figsize=(10, 6))\n",
        "sns.histplot(df['text_length'], bins=30, kde=True, color='blue')\n",
        "plt.xlabel('Text Length')\n",
        "plt.ylabel('Frequency')\n",
        "plt.title('Distribution of Text Length')\n",
        "plt.show()\n",
        "\n",
        "#The distribution of text lengths is right-skewed, with most articles being concise (around 1500 characters)"
      ],
      "metadata": {
        "colab": {
          "base_uri": "https://localhost:8080/",
          "height": 842
        },
        "id": "fCesqelbGwq5",
        "outputId": "6d5fcaf0-59ad-4d7a-ac7f-888128202b09"
      },
      "execution_count": 24,
      "outputs": [
        {
          "output_type": "stream",
          "name": "stderr",
          "text": [
            "<ipython-input-24-6f8a4542fdcd>:3: SettingWithCopyWarning: \n",
            "A value is trying to be set on a copy of a slice from a DataFrame.\n",
            "Try using .loc[row_indexer,col_indexer] = value instead\n",
            "\n",
            "See the caveats in the documentation: https://pandas.pydata.org/pandas-docs/stable/user_guide/indexing.html#returning-a-view-versus-a-copy\n",
            "  df['text_length'] = df['lemma_cleaned_text1'].apply(len)\n"
          ]
        },
        {
          "output_type": "stream",
          "name": "stdout",
          "text": [
            "Text Length Statistics:\n",
            "count    24851.000000\n",
            "mean      1634.527102\n",
            "std       1072.585757\n",
            "min          0.000000\n",
            "25%       1016.000000\n",
            "50%       1510.000000\n",
            "75%       2037.000000\n",
            "max      19396.000000\n",
            "Name: text_length, dtype: float64\n"
          ]
        },
        {
          "output_type": "display_data",
          "data": {
            "text/plain": [
              "<Figure size 1000x600 with 1 Axes>"
            ],
            "image/png": "[encoded data removed]"
          },
          "metadata": {}
        }
      ]
    },
    {
      "cell_type": "code",
      "source": [
        "#3.word count distribution\n",
        "df['word_count'] = df['lemma_cleaned_text1'].apply(lambda x: len(x.split()))\n",
        "\n",
        "print(\"Word Count Statistics:\")\n",
        "print(df['word_count'].describe())\n",
        "\n",
        "plt.figure(figsize=(10, 5))\n",
        "sns.histplot(df['word_count'], bins=50, kde=True)\n",
        "plt.title('Distribution of Word Count')\n",
        "plt.xlabel('Word Count')\n",
        "plt.ylabel('Frequency')\n",
        "plt.show()\n"
      ],
      "metadata": {
        "colab": {
          "base_uri": "https://localhost:8080/",
          "height": 765
        },
        "id": "25TU1Xp0911d",
        "outputId": "49146226-3538-42fc-c16e-d29d8f352398"
      },
      "execution_count": 28,
      "outputs": [
        {
          "output_type": "stream",
          "name": "stderr",
          "text": [
            "<ipython-input-28-7f8c6e357dc5>:2: SettingWithCopyWarning: \n",
            "A value is trying to be set on a copy of a slice from a DataFrame.\n",
            "Try using .loc[row_indexer,col_indexer] = value instead\n",
            "\n",
            "See the caveats in the documentation: https://pandas.pydata.org/pandas-docs/stable/user_guide/indexing.html#returning-a-view-versus-a-copy\n",
            "  df['word_count'] = df['lemma_cleaned_text1'].apply(lambda x: len(x.split()))\n"
          ]
        },
        {
          "output_type": "stream",
          "name": "stdout",
          "text": [
            "Word Count Statistics:\n",
            "count    24851.000000\n",
            "mean       233.269607\n",
            "std        152.274891\n",
            "min          0.000000\n",
            "25%        147.000000\n",
            "50%        217.000000\n",
            "75%        291.000000\n",
            "max       3904.000000\n",
            "Name: word_count, dtype: float64\n"
          ]
        },
        {
          "output_type": "display_data",
          "data": {
            "text/plain": [
              "<Figure size 1000x500 with 1 Axes>"
            ],
            "image/png": "[encoded data removed]"
          },
          "metadata": {}
        }
      ]
    },
    {
      "cell_type": "code",
      "source": [
        "#Subject variable\n",
        "Subject_distribution = df['subject'].value_counts()\n",
        "print(Subject_distribution)\n",
        "\n",
        "# Plot the Target variable distribution\n",
        "plt.figure(figsize=(8, 6))\n",
        "sns.barplot(x=Subject_distribution.index, y=Subject_distribution.values, palette='viridis')\n",
        "plt.xlabel('Subject')\n",
        "plt.ylabel('Count')\n",
        "plt.title('Distribution of Subject Labels')\n",
        "plt.xticks(rotation=45)\n",
        "plt.show()\n",
        "\n"
      ],
      "metadata": {
        "colab": {
          "base_uri": "https://localhost:8080/",
          "height": 1000
        },
        "id": "o3eXu6P4OFof",
        "outputId": "5ebbbaf7-cbe3-45b4-ad89-aaa4c8e951db"
      },
      "execution_count": 32,
      "outputs": [
        {
          "output_type": "stream",
          "name": "stdout",
          "text": [
            "subject\n",
            "politicsNews                                                                                                             11220\n",
            "News                                                                                                                      9050\n",
            "politics                                                                                                                  4444\n",
            "worldnews                                                                                                                  134\n",
            " of which Soros is a major financier.Mercy Corps: Vis a vis the Arab-Israeli conflict                                        1\n",
            " high taxes                                                                                                                  1\n",
            " Politics According to the Bible and (with Barry Asmus) The Poverty of Nations: A Sustainable Solution.Via: Townhall\"        1\n",
            "Name: count, dtype: int64\n"
          ]
        },
        {
          "output_type": "display_data",
          "data": {
            "text/plain": [
              "<Figure size 800x600 with 1 Axes>"
            ],
            "image/png": "[encoded data removed]"
          },
          "metadata": {}
        }
      ]
    },
    {
      "cell_type": "markdown",
      "source": [
        "**Observations in univariant analysis** - Data contains 54% of churn customers and 46% of retained customers which implies target variable distribution is balanced. Text length and word count have a right-skewed distribution, with most articles averaging around 1500 characters and around 250 words respectively. The subject distribution shows a high concentration in the \"politics\" category."
      ],
      "metadata": {
        "id": "zbPMwi2br4zj"
      }
    },
    {
      "cell_type": "code",
      "source": [
        "#Bivariant analysis\n",
        "#Target vs Subject\n",
        "plt.figure(figsize=(12, 6))\n",
        "sns.countplot(data=df, x='subject', hue='Target', order=df['subject'].value_counts().index)\n",
        "plt.title('Subject Distribution by Target')\n",
        "plt.xlabel('Subject')\n",
        "plt.ylabel('Count')\n",
        "plt.xticks(rotation=45)\n",
        "plt.legend(title='Target', loc='upper right')\n",
        "plt.show()\n",
        "\n",
        "#Articles under \"politicsNews\" are more likely to be true news and Articles under \"News\" are more likely to be fake news."
      ],
      "metadata": {
        "colab": {
          "base_uri": "https://localhost:8080/",
          "height": 1000
        },
        "id": "SjwlHmUjP8Gt",
        "outputId": "a0f3ff53-f519-4019-eb94-465e78df608c"
      },
      "execution_count": 31,
      "outputs": [
        {
          "output_type": "display_data",
          "data": {
            "text/plain": [
              "<Figure size 1200x600 with 1 Axes>"
            ],
            "image/png": "[encoded data removed]"
          },
          "metadata": {}
        }
      ]
    },
    {
      "cell_type": "code",
      "source": [
        "#Target vs word count\n",
        "plt.figure(figsize=(10, 5))\n",
        "sns.boxplot(data=df, x='Target', y='word_count')\n",
        "plt.title('Word Count by Target')\n",
        "plt.xlabel('Target')\n",
        "plt.ylabel('Word Count')\n",
        "plt.show()\n"
      ],
      "metadata": {
        "colab": {
          "base_uri": "https://localhost:8080/",
          "height": 487
        },
        "id": "CIwqPtwkROGc",
        "outputId": "5a004300-0746-4b96-d49f-dd394faeac1a"
      },
      "execution_count": 49,
      "outputs": [
        {
          "output_type": "display_data",
          "data": {
            "text/plain": [
              "<Figure size 1000x500 with 1 Axes>"
            ],
            "image/png": "[encoded data removed]"
          },
          "metadata": {}
        }
      ]
    },
    {
      "cell_type": "code",
      "source": [
        "correlation_matrix = df[['text_length', 'word_count', 'Target']].corr()\n",
        "\n",
        "plt.figure(figsize=(8, 6))\n",
        "sns.heatmap(correlation_matrix, annot=True, cmap='coolwarm', fmt='.2f')\n",
        "plt.title('Correlation Matrix')\n",
        "plt.show()\n",
        "\n",
        "#The correlation matrix shows that text_length and word_count are highly correlated (correlation = 1.00), while both have a weak positive correlation with the Target variable (0.10 and 0.07, respectively)"
      ],
      "metadata": {
        "colab": {
          "base_uri": "https://localhost:8080/",
          "height": 545
        },
        "id": "EXuL0KBYRjzk",
        "outputId": "b600b33d-1670-4082-ec87-c51746425357"
      },
      "execution_count": 50,
      "outputs": [
        {
          "output_type": "display_data",
          "data": {
            "text/plain": [
              "<Figure size 800x600 with 2 Axes>"
            ],
            "image/png": "[encoded data removed]"
          },
          "metadata": {}
        }
      ]
    },
    {
      "cell_type": "markdown",
      "source": [
        "**Observations in Bivariant analysis** True news articles tend to have slightly longer text lengths and higher word counts, moreover, Articles under \"politicsNews\" are more likely to be true news. while fake news is more common in certain subject categories like \"News.\" Both text length and word count show weak correlations with the Target variable."
      ],
      "metadata": {
        "id": "KOYRJwwquP0I"
      }
    },
    {
      "cell_type": "code",
      "source": [
        "df.head()"
      ],
      "metadata": {
        "colab": {
          "base_uri": "https://localhost:8080/",
          "height": 293
        },
        "id": "ynnAW5cq9rZc",
        "outputId": "226121d5-c5e1-4be7-f4f7-f0ea42e12c2b"
      },
      "execution_count": 51,
      "outputs": [
        {
          "output_type": "execute_result",
          "data": {
            "text/plain": [
              "                                               title  \\\n",
              "0   Donald Trump Sends Out Embarrassing New Year’...   \n",
              "1   Drunk Bragging Trump Staffer Started Russian ...   \n",
              "2   Sheriff David Clarke Becomes An Internet Joke...   \n",
              "3   Trump Is So Obsessed He Even Has Obama’s Name...   \n",
              "4   Pope Francis Just Called Out Donald Trump Dur...   \n",
              "\n",
              "                                                text subject  \\\n",
              "0  Donald Trump just couldn t wish all Americans ...    News   \n",
              "1  House Intelligence Committee Chairman Devin Nu...    News   \n",
              "2  On Friday, it was revealed that former Milwauk...    News   \n",
              "3  On Christmas day, Donald Trump announced that ...    News   \n",
              "4  Pope Francis used his annual Christmas Day mes...    News   \n",
              "\n",
              "                date  Target  \\\n",
              "0  December 31, 2017       0   \n",
              "1  December 31, 2017       0   \n",
              "2  December 30, 2017       0   \n",
              "3  December 29, 2017       0   \n",
              "4  December 25, 2017       0   \n",
              "\n",
              "                                   stem_cleaned_text  \\\n",
              "0  donald trump wish american happi new year leav...   \n",
              "1  hous intellig committe chairman devin nune go ...   \n",
              "2  friday reveal former milwauke sheriff david cl...   \n",
              "3  christma day donald trump announc would back w...   \n",
              "4  pope franci use annual christma day messag reb...   \n",
              "\n",
              "                                 lemma_cleaned_text1  text_length  word_count  \n",
              "0  donald trump wish american happy new year leav...         1760         266  \n",
              "1  house intelligence committee chairman devin nu...         1315         184  \n",
              "2  friday reveal former milwaukee sheriff david c...         2294         340  \n",
              "3  christmas day donald trump announce would back...         1742         263  \n",
              "4  pope francis use annual christmas day message ...         1388         212  "
            ],
            "text/html": [
              "\n",
              "  <div id=\"df-fd6b7c9f-064b-4db6-ac90-bce02211030e\" class=\"colab-df-container\">\n",
              "    <div>\n",
              "<style scoped>\n",
              "    .dataframe tbody tr th:only-of-type {\n",
              "        vertical-align: middle;\n",
              "    }\n",
              "\n",
              "    .dataframe tbody tr th {\n",
              "        vertical-align: top;\n",
              "    }\n",
              "\n",
              "    .dataframe thead th {\n",
              "        text-align: right;\n",
              "    }\n",
              "</style>\n",
              "<table border=\"1\" class=\"dataframe\">\n",
              "  <thead>\n",
              "    <tr style=\"text-align: right;\">\n",
              "      <th></th>\n",
              "      <th>title</th>\n",
              "      <th>text</th>\n",
              "      <th>subject</th>\n",
              "      <th>date</th>\n",
              "      <th>Target</th>\n",
              "      <th>stem_cleaned_text</th>\n",
              "      <th>lemma_cleaned_text1</th>\n",
              "      <th>text_length</th>\n",
              "      <th>word_count</th>\n",
              "    </tr>\n",
              "  </thead>\n",
              "  <tbody>\n",
              "    <tr>\n",
              "      <th>0</th>\n",
              "      <td>Donald Trump Sends Out Embarrassing New Year’...</td>\n",
              "      <td>Donald Trump just couldn t wish all Americans ...</td>\n",
              "      <td>News</td>\n",
              "      <td>December 31, 2017</td>\n",
              "      <td>0</td>\n",
              "      <td>donald trump wish american happi new year leav...</td>\n",
              "      <td>donald trump wish american happy new year leav...</td>\n",
              "      <td>1760</td>\n",
              "      <td>266</td>\n",
              "    </tr>\n",
              "    <tr>\n",
              "      <th>1</th>\n",
              "      <td>Drunk Bragging Trump Staffer Started Russian ...</td>\n",
              "      <td>House Intelligence Committee Chairman Devin Nu...</td>\n",
              "      <td>News</td>\n",
              "      <td>December 31, 2017</td>\n",
              "      <td>0</td>\n",
              "      <td>hous intellig committe chairman devin nune go ...</td>\n",
              "      <td>house intelligence committee chairman devin nu...</td>\n",
              "      <td>1315</td>\n",
              "      <td>184</td>\n",
              "    </tr>\n",
              "    <tr>\n",
              "      <th>2</th>\n",
              "      <td>Sheriff David Clarke Becomes An Internet Joke...</td>\n",
              "      <td>On Friday, it was revealed that former Milwauk...</td>\n",
              "      <td>News</td>\n",
              "      <td>December 30, 2017</td>\n",
              "      <td>0</td>\n",
              "      <td>friday reveal former milwauke sheriff david cl...</td>\n",
              "      <td>friday reveal former milwaukee sheriff david c...</td>\n",
              "      <td>2294</td>\n",
              "      <td>340</td>\n",
              "    </tr>\n",
              "    <tr>\n",
              "      <th>3</th>\n",
              "      <td>Trump Is So Obsessed He Even Has Obama’s Name...</td>\n",
              "      <td>On Christmas day, Donald Trump announced that ...</td>\n",
              "      <td>News</td>\n",
              "      <td>December 29, 2017</td>\n",
              "      <td>0</td>\n",
              "      <td>christma day donald trump announc would back w...</td>\n",
              "      <td>christmas day donald trump announce would back...</td>\n",
              "      <td>1742</td>\n",
              "      <td>263</td>\n",
              "    </tr>\n",
              "    <tr>\n",
              "      <th>4</th>\n",
              "      <td>Pope Francis Just Called Out Donald Trump Dur...</td>\n",
              "      <td>Pope Francis used his annual Christmas Day mes...</td>\n",
              "      <td>News</td>\n",
              "      <td>December 25, 2017</td>\n",
              "      <td>0</td>\n",
              "      <td>pope franci use annual christma day messag reb...</td>\n",
              "      <td>pope francis use annual christmas day message ...</td>\n",
              "      <td>1388</td>\n",
              "      <td>212</td>\n",
              "    </tr>\n",
              "  </tbody>\n",
              "</table>\n",
              "</div>\n",
              "    <div class=\"colab-df-buttons\">\n",
              "\n",
              "  <div class=\"colab-df-container\">\n",
              "    <button class=\"colab-df-convert\" onclick=\"convertToInteractive('df-fd6b7c9f-064b-4db6-ac90-bce02211030e')\"\n",
              "            title=\"Convert this dataframe to an interactive table.\"\n",
              "            style=\"display:none;\">\n",
              "\n",
              "  <svg xmlns=\"http://www.w3.org/2000/svg\" height=\"24px\" viewBox=\"0 -960 960 960\">\n",
              "    <path d=\"M120-120v-720h720v720H120Zm60-500h600v-160H180v160Zm220 220h160v-160H400v160Zm0 220h160v-160H400v160ZM180-400h160v-160H180v160Zm440 0h160v-160H620v160ZM180-180h160v-160H180v160Zm440 0h160v-160H620v160Z\"/>\n",
              "  </svg>\n",
              "    </button>\n",
              "\n",
              "  <style>\n",
              "    .colab-df-container {\n",
              "      display:flex;\n",
              "      gap: 12px;\n",
              "    }\n",
              "\n",
              "    .colab-df-convert {\n",
              "      background-color: #E8F0FE;\n",
              "      border: none;\n",
              "      border-radius: 50%;\n",
              "      cursor: pointer;\n",
              "      display: none;\n",
              "      fill: #1967D2;\n",
              "      height: 32px;\n",
              "      padding: 0 0 0 0;\n",
              "      width: 32px;\n",
              "    }\n",
              "\n",
              "    .colab-df-convert:hover {\n",
              "      background-color: #E2EBFA;\n",
              "      box-shadow: 0px 1px 2px rgba(60, 64, 67, 0.3), 0px 1px 3px 1px rgba(60, 64, 67, 0.15);\n",
              "      fill: #174EA6;\n",
              "    }\n",
              "\n",
              "    .colab-df-buttons div {\n",
              "      margin-bottom: 4px;\n",
              "    }\n",
              "\n",
              "    [theme=dark] .colab-df-convert {\n",
              "      background-color: #3B4455;\n",
              "      fill: #D2E3FC;\n",
              "    }\n",
              "\n",
              "    [theme=dark] .colab-df-convert:hover {\n",
              "      background-color: #434B5C;\n",
              "      box-shadow: 0px 1px 3px 1px rgba(0, 0, 0, 0.15);\n",
              "      filter: drop-shadow(0px 1px 2px rgba(0, 0, 0, 0.3));\n",
              "      fill: #FFFFFF;\n",
              "    }\n",
              "  </style>\n",
              "\n",
              "    <script>\n",
              "      const buttonEl =\n",
              "        document.querySelector('#df-fd6b7c9f-064b-4db6-ac90-bce02211030e button.colab-df-convert');\n",
              "      buttonEl.style.display =\n",
              "        google.colab.kernel.accessAllowed ? 'block' : 'none';\n",
              "\n",
              "      async function convertToInteractive(key) {\n",
              "        const element = document.querySelector('#df-fd6b7c9f-064b-4db6-ac90-bce02211030e');\n",
              "        const dataTable =\n",
              "          await google.colab.kernel.invokeFunction('convertToInteractive',\n",
              "                                                    [key], {});\n",
              "        if (!dataTable) return;\n",
              "\n",
              "        const docLinkHtml = 'Like what you see? Visit the ' +\n",
              "          '<a target=\"_blank\" href=https://colab.research.google.com/notebooks/data_table.ipynb>data table notebook</a>'\n",
              "          + ' to learn more about interactive tables.';\n",
              "        element.innerHTML = '';\n",
              "        dataTable['output_type'] = 'display_data';\n",
              "        await google.colab.output.renderOutput(dataTable, element);\n",
              "        const docLink = document.createElement('div');\n",
              "        docLink.innerHTML = docLinkHtml;\n",
              "        element.appendChild(docLink);\n",
              "      }\n",
              "    </script>\n",
              "  </div>\n",
              "\n",
              "\n",
              "<div id=\"df-c7c05188-5ee7-4c99-90a9-58175eb228e4\">\n",
              "  <button class=\"colab-df-quickchart\" onclick=\"quickchart('df-c7c05188-5ee7-4c99-90a9-58175eb228e4')\"\n",
              "            title=\"Suggest charts\"\n",
              "            style=\"display:none;\">\n",
              "\n",
              "<svg xmlns=\"http://www.w3.org/2000/svg\" height=\"24px\"viewBox=\"0 0 24 24\"\n",
              "     width=\"24px\">\n",
              "    <g>\n",
              "        <path d=\"M19 3H5c-1.1 0-2 .9-2 2v14c0 1.1.9 2 2 2h14c1.1 0 2-.9 2-2V5c0-1.1-.9-2-2-2zM9 17H7v-7h2v7zm4 0h-2V7h2v10zm4 0h-2v-4h2v4z\"/>\n",
              "    </g>\n",
              "</svg>\n",
              "  </button>\n",
              "\n",
              "<style>\n",
              "  .colab-df-quickchart {\n",
              "      --bg-color: #E8F0FE;\n",
              "      --fill-color: #1967D2;\n",
              "      --hover-bg-color: #E2EBFA;\n",
              "      --hover-fill-color: #174EA6;\n",
              "      --disabled-fill-color: #AAA;\n",
              "      --disabled-bg-color: #DDD;\n",
              "  }\n",
              "\n",
              "  [theme=dark] .colab-df-quickchart {\n",
              "      --bg-color: #3B4455;\n",
              "      --fill-color: #D2E3FC;\n",
              "      --hover-bg-color: #434B5C;\n",
              "      --hover-fill-color: #FFFFFF;\n",
              "      --disabled-bg-color: #3B4455;\n",
              "      --disabled-fill-color: #666;\n",
              "  }\n",
              "\n",
              "  .colab-df-quickchart {\n",
              "    background-color: var(--bg-color);\n",
              "    border: none;\n",
              "    border-radius: 50%;\n",
              "    cursor: pointer;\n",
              "    display: none;\n",
              "    fill: var(--fill-color);\n",
              "    height: 32px;\n",
              "    padding: 0;\n",
              "    width: 32px;\n",
              "  }\n",
              "\n",
              "  .colab-df-quickchart:hover {\n",
              "    background-color: var(--hover-bg-color);\n",
              "    box-shadow: 0 1px 2px rgba(60, 64, 67, 0.3), 0 1px 3px 1px rgba(60, 64, 67, 0.15);\n",
              "    fill: var(--button-hover-fill-color);\n",
              "  }\n",
              "\n",
              "  .colab-df-quickchart-complete:disabled,\n",
              "  .colab-df-quickchart-complete:disabled:hover {\n",
              "    background-color: var(--disabled-bg-color);\n",
              "    fill: var(--disabled-fill-color);\n",
              "    box-shadow: none;\n",
              "  }\n",
              "\n",
              "  .colab-df-spinner {\n",
              "    border: 2px solid var(--fill-color);\n",
              "    border-color: transparent;\n",
              "    border-bottom-color: var(--fill-color);\n",
              "    animation:\n",
              "      spin 1s steps(1) infinite;\n",
              "  }\n",
              "\n",
              "  @keyframes spin {\n",
              "    0% {\n",
              "      border-color: transparent;\n",
              "      border-bottom-color: var(--fill-color);\n",
              "      border-left-color: var(--fill-color);\n",
              "    }\n",
              "    20% {\n",
              "      border-color: transparent;\n",
              "      border-left-color: var(--fill-color);\n",
              "      border-top-color: var(--fill-color);\n",
              "    }\n",
              "    30% {\n",
              "      border-color: transparent;\n",
              "      border-left-color: var(--fill-color);\n",
              "      border-top-color: var(--fill-color);\n",
              "      border-right-color: var(--fill-color);\n",
              "    }\n",
              "    40% {\n",
              "      border-color: transparent;\n",
              "      border-right-color: var(--fill-color);\n",
              "      border-top-color: var(--fill-color);\n",
              "    }\n",
              "    60% {\n",
              "      border-color: transparent;\n",
              "      border-right-color: var(--fill-color);\n",
              "    }\n",
              "    80% {\n",
              "      border-color: transparent;\n",
              "      border-right-color: var(--fill-color);\n",
              "      border-bottom-color: var(--fill-color);\n",
              "    }\n",
              "    90% {\n",
              "      border-color: transparent;\n",
              "      border-bottom-color: var(--fill-color);\n",
              "    }\n",
              "  }\n",
              "</style>\n",
              "\n",
              "  <script>\n",
              "    async function quickchart(key) {\n",
              "      const quickchartButtonEl =\n",
              "        document.querySelector('#' + key + ' button');\n",
              "      quickchartButtonEl.disabled = true;  // To prevent multiple clicks.\n",
              "      quickchartButtonEl.classList.add('colab-df-spinner');\n",
              "      try {\n",
              "        const charts = await google.colab.kernel.invokeFunction(\n",
              "            'suggestCharts', [key], {});\n",
              "      } catch (error) {\n",
              "        console.error('Error during call to suggestCharts:', error);\n",
              "      }\n",
              "      quickchartButtonEl.classList.remove('colab-df-spinner');\n",
              "      quickchartButtonEl.classList.add('colab-df-quickchart-complete');\n",
              "    }\n",
              "    (() => {\n",
              "      let quickchartButtonEl =\n",
              "        document.querySelector('#df-c7c05188-5ee7-4c99-90a9-58175eb228e4 button');\n",
              "      quickchartButtonEl.style.display =\n",
              "        google.colab.kernel.accessAllowed ? 'block' : 'none';\n",
              "    })();\n",
              "  </script>\n",
              "</div>\n",
              "\n",
              "    </div>\n",
              "  </div>\n"
            ],
            "application/vnd.google.colaboratory.intrinsic+json": {
              "type": "dataframe",
              "variable_name": "df",
              "summary": "{\n  \"name\": \"df\",\n  \"rows\": 24851,\n  \"fields\": [\n    {\n      \"column\": \"title\",\n      \"properties\": {\n        \"dtype\": \"string\",\n        \"num_unique_values\": 24775,\n        \"samples\": [\n          \"Delaware is first U.S. state to enact abortion rights law under Trump\",\n          \"Australian PM says he's confident Trump won't pull out of U.S. refugee deal\",\n          \"Romney to endorse Rubio in 2016 Republican White House race: report\"\n        ],\n        \"semantic_type\": \"\",\n        \"description\": \"\"\n      }\n    },\n    {\n      \"column\": \"text\",\n      \"properties\": {\n        \"dtype\": \"string\",\n        \"num_unique_values\": 24471,\n        \"samples\": [\n          \" (This story corrects ninth paragraph to say that refiners want exported ethanol to qualify for renewable credits, not exported fuel blended with ethanol.) By David Shepardson and Jarrett Renshaw WASHINGTON (Reuters) - U.S. President Donald Trump sought to ease concerns on Wednesday that his administration would make major alterations to biofuels policy, telling Iowa\\u2019s governor he was committed to a decade-old biofuels program even as a top official considers changing it. U.S. law requires fuel companies to add biofuels like ethanol to the country\\u2019s fuel supply through the \\u2018renewable fuel standard,\\u2019 adopted in 2005. The Trump administration is considering lowering the mandatory level, a worry for corn-growing states like Iowa.  Iowa Governor Kim Reynolds said she held separate calls with Trump and U.S. Environmental Protection Agency (EPA) Administrator Scott Pruitt on Wednesday, in which she urged them not to make that change. \\u201cBoth of them personally committed to me their continued commitment to the renewable fuel standard,\\u201d Reynolds said, adding that the call with Trump was \\u201cpositive.\\u201d However, White House spokeswoman Sarah Sanders said the administration \\u201cdidn\\u2019t make any assurances\\u201d on renewable fuel standard (RFS) levels. \\u201cNo definitive decision was made on RFS,\\u201d she said. The biofuels industry has been ratcheting up pressure in Washington in response to actions from the EPA it sees as threatening the program, which was designed to reduce carbon emissions.  Independent oil refiners, meanwhile, have pushed the Trump administration to soften requirements for ethanol use, which costs them hundreds of millions of dollars annually. Some refiners want another change that would ease their cost burden: they want exported ethanol to qualify for credits under the renewable fuel program. The chief executives at four such companies - Valero, PBF Energy, Monroe Energy and HollyFrontier - delivered a letter to the White House on Wednesday urging the change. Two industry sources told Reuters they had received assurances from White House officials that Trump was directing the EPA to allow credits on exports, but to end its efforts to reduce renewable fuel requirements overall. Last month, the EPA said it was looking to cut 2018 biodiesel blending requirements, roiling markets and drawing criticism from the country\\u2019s farm belt. In July, it proposed cutting total volumes of all renewable fuels use for next year.     Elected officials from the corn-growing Midwest have said they will not be satisfied with White House reassurances until the EPA publicly agrees not to reduce renewable fuel standards. Several senators met with Pruitt on Tuesday to discuss the issue.  In a statement after the meeting, Iowa Republican Senator Joni Ernst said she had expressed \\u201csignificant concerns\\u201d over the agency\\u2019s recent moves to potentially set biodiesel requirements for 2018 and 2019 at \\u201csubstantially lower volumes.\\u201d Senator Charles Grassley, an Iowa Republican, said he told Pruitt during the hour-long meeting \\u201cthat supporting biofuels isn\\u2019t just good policy. It\\u2019s also what President Trump promised.\\u201d Reynolds, meanwhile, urged Iowans to contact lawmakers and administration officials and said she is meeting next week with U.S. Vice President Mike Pence and Pruitt in Washington.  A group of 33 senators wrote to Trump this week urging the EPA to maintain levels for 2018 and increase its proposed 2019 biodiesel requirements. Pruitt would not want \\u201cto take any steps to undermine the objectives in the statute of the RFS,\\u201d said EPA spokeswoman Liz Bowman.  Late on Tuesday, the Senate Committee on Environment and Public Works postponed a planned hearing for Wednesday to consider the nominations of four EPA officials. Senator Tammy Duckworth, an Illinois Democrat, said she was placing a hold on two EPA nominees over the ethanol issue. Ernst said on Wednesday she was declining to support one of the nominees over concerns about the EPA\\u2019s plans for renewable fuels. \",\n          \"(Reuters) - The U.S. Supreme Court on Monday upheld federal disclosure rules for political advertising, rejecting an appeal by a Denver-based libertarian think tank that wanted to run an ad without being forced to divulge its major donors. The Denver-based Independence Institute sued the Federal Election Commission, arguing the law requiring such disclosure violated its free speech rights under the U.S. Constitution\\u2019s First Amendment. The Supreme Court affirmed a lower court\\u2019s ruling last year in favor of the commission. It was the latest in a decade-long series of cases brought by conservatives aiming to roll back federal campaign finance restrictions. The Independence Institute was supported in the case by influential Republican and conservative voices including Republican Senate Majority Leader Mitch McConnell and the  Judicial Watch legal activist group as well as the U.S. Chamber of Commerce business group. The institute, ahead of the 2014 congressional elections, had sought to run a radio advertisement about increasing prison costs, telling listeners to urge their Colorado U.S. senators to support sentencing reform. Because the ad mentioned a senator by name in the lead up to an election, it triggered a provision in the 2002 campaign finance statute known as the McCain-Feingold law requiring the institute to file with the election commission and disclose any donors supporting the ad. The law was enacted to combat an explosion of what is known as \\u201csoft money\\u201d in campaigns through so-called sham issue advertisements, which cloaked partisan advocacy in discussions of public policy. Though the Supreme Court allowed unlimited campaign spending by corporations and unions in its landmark 2010 decision in the Citizens United v Federal Election Commission case, the court also upheld disclosure requirements for campaign ads. The Federal Election Commission said that for more than a century federal law has required organizations that influence elections to disclose information about their funding sources, a principle upheld in the Citizens United ruling. The Independence Institute sued in federal court in Washington in a bid to keep the names of its donors secret, arguing that its proposed ad focused on the sentencing reforms that senators were considering, not any senator\\u2019s re-election campaign.  Last October, a three-judge panel of the federal court ruled against the group, saying it would be impossible to distinguish genuine issue ads that reference candidates from campaign-style ads that openly promote or disparage a candidate.\\u00a0 \",\n          \"Secret Service personnel removed the alarm sensors along an area of fence line when the agency raised its height in response to previous fence-jumping incidents as a way to make it harder to scale. Ironically, the very effort to prevent fence jumping appears to have permitted a particularly egregious intrusion.One source said superiors in the Uniformed Division told Secret Service personnel to remove the sensors and piece them together for use elsewhere. They were never replaced.There are at least 10 to 12 officers and agents, including supervisors from the Presidential Protective Division, monitoring these sensors at any given time. They do so from the Joint Operations Command Center or JOCC, which is located outside of the White House complex.Some agents and officers also are questioning why Secret Service never released the K-9 unit to try to find an intruder after the alarms on the first fence the intruder scaled went off.Rep. Jason Chaffetz weighs in below on details of what the intruder did in those 17 minutes: The White House fence jumper who lingered on the ground unnoticed for 17 minutes was literally just hanging out in plain view with alarms blaring, and the Secret Service had no clue.Congressman Jason Chaffetz tells TMZ he met with the Director of Homeland Security and the Acting Director of the Secret Service for an hour and a half Tuesday, and his conclusion    It was even worse than I thought. Chaffetz says the surveillance video is shocking   the intruder was not darting around. Rather, he was  lingering,   hanging out  on the grounds. At one point he took the time to bend down and tie his shoes.The intruder at times peered through windows of the building, where Trump was inside. As we previously reported, he also jiggled a doorknob.Chaffetz says some of the alarms failed but some went off, yet the intruder was not detected.Secret Service agents did check the grounds, but not with any urgency. Alarms frequently go off for various reasons, and this time it was met with an inadequate response.And Chaffetz says the video shows agents were simply  lackadaisical.  As he put it,  Everything went wrong.  The congressman says he was promised there would be  big changes,  adding,  There better be. Via: tmz\"\n        ],\n        \"semantic_type\": \"\",\n        \"description\": \"\"\n      }\n    },\n    {\n      \"column\": \"subject\",\n      \"properties\": {\n        \"dtype\": \"category\",\n        \"num_unique_values\": 7,\n        \"samples\": [\n          \"News\",\n          \"politics\",\n          \"politicsNews\"\n        ],\n        \"semantic_type\": \"\",\n        \"description\": \"\"\n      }\n    },\n    {\n      \"column\": \"date\",\n      \"properties\": {\n        \"dtype\": \"category\",\n        \"num_unique_values\": 1951,\n        \"samples\": [\n          \"December 14, 2016 \",\n          \"July 13, 2017 \",\n          \"February 27, 2016 \"\n        ],\n        \"semantic_type\": \"\",\n        \"description\": \"\"\n      }\n    },\n    {\n      \"column\": \"Target\",\n      \"properties\": {\n        \"dtype\": \"number\",\n        \"std\": 0,\n        \"min\": 0,\n        \"max\": 1,\n        \"num_unique_values\": 2,\n        \"samples\": [\n          1,\n          0\n        ],\n        \"semantic_type\": \"\",\n        \"description\": \"\"\n      }\n    },\n    {\n      \"column\": \"stem_cleaned_text\",\n      \"properties\": {\n        \"dtype\": \"string\",\n        \"num_unique_values\": 24416,\n        \"samples\": [\n          \"republican parti friend lgbtq peopl secret howev group gay republican relentless effort chang parti view insid log cabin republican gop roll outrag bigot platform lgbtq peopl even keep quiet therefor group pen letter beg money tri muscl way club peopl never ever accept text letter pen gregori angelo presid log cabin republican date juli dear friend way sugar coat mad hell know moment ago republican parti pass anti lgbt platform parti year histori opposit marriag equal nonsens bathroom endors debunk psycholog practic pray gay away gop know either heck even donald trump given chanc follow lead presumpt presidenti nomine reach lgbt commun wake aw terrorist massacr orlando gay nightclub puls platform committe said time sit around feel sorri log cabin republican offici credenti republican nation convent conven cleveland mere day time want abl take stand go need support cleveland rightli make time spotlight price advertis area news outlet sky high write ask help pleas give today give gener whatev give would go long way ensur go quietli night take back platform take back parti stand today let folk platform committe pave way foolish know go without fight sincer gregori angelo presidentnow clear anyon brain gop never ever accept peopl rank even ban gay group conserv polit action confer cpac fear offend hate anti gay hate group lose money even welcom white supremacist group bad folk gop hate gay peopl much rather racist hate group instead even goproud offshoot log cabin republican even conserv log cabin type disband former presid jimmi lasalvia left gop altogeth hate belief mr angelo member log cabin republican hear get head hate sooner realiz better get parti hate stop embarrass rest us lgbtq commun featur imag via screen captur salon\",\n          \"drug addict alcohol tend denial diseas former realiti show star donald trump think problem alleg presid address opioid addict sweep across u probabl suffer type addict remain denial donald trump need treatment would mean take leav absenc job amateur presid spent day time offic visit least one properti includ visit golf club job day contrast former presid barack obama hit golf cours amount time offic obama first golf game april th still yet addict trump defend frequent weekend trip luxuri resort properti say care golf much peopl might think accord hill lot properti go club like new jersey say oh go play golf go play golf trump said interview fox news care less golf well sure care obama play golf though fact dozen rage tweet trump obama play golf believ problem difficulti face u presid obama spent day play golf wors carter donald j trump realdonaldtrump octob place cost almost noth hundr acr secur close street trump ad trump mean cost noth taxpay though pay big time cost us million pop everi time visit mar lago resort meanwhil everi visit trump own properti promot mean conflict interest profit presid trump say feel littl guilti go back trump tower resid new york expens associ trip mention cost taxpay foot bill sever white hous instead one exampl secur melania trump new york reportedli cost citi polic depart day protect son secret servic request addit million fund protect trump famili love new york go back expens countri close fifth avenu close th street alway feel littl bit guilti go said trump said want perceiv lazi note prefer visit properti expens secur expens secur trump frequent visit florida resort financi burden counti would much better peopl would understand could go place trump said hit relax want known person relax work hard work hard peopl addict whether drug alcohol sex golf prejud diseas affect whether black white orang rich poor pay tax tri hide tax public pay noth photo ian macnicol getti imag\"\n        ],\n        \"semantic_type\": \"\",\n        \"description\": \"\"\n      }\n    },\n    {\n      \"column\": \"lemma_cleaned_text1\",\n      \"properties\": {\n        \"dtype\": \"string\",\n        \"num_unique_values\": 24416,\n        \"samples\": [\n          \"republican party friend lgbtq people secret however group gay republican relentless effort change party view inside log cabin republican gop roll outrageously bigoted platform lgbtq people even keep quiet therefore group pen letter beg money try muscle way club people never ever accept text letter pen gregory angelo president log cabin republican date july dear friend way sugar coat mad hell know moment ago republican party pass anti lgbt platform party year history opposition marriage equality nonsense bathroom endorsement debunked psychological practice pray gay away gop know either heck even donald trump give chance follow lead presumptive presidential nominee reach lgbt community wake awful terrorist massacre orlando gay nightclub pulse platform committee say time sit around feel sorry log cabin republican officially credentialed republican national convention convenes cleveland mere day time want able take stand go need support cleveland rightly make time spotlight price advertising area news outlet sky high write ask help please give today give generously whatever give would go long way ensure go quietly night take back platform take back party stand today let folk platform committee pave way foolishness know go without fight sincerely gregory angelo presidentnow clear anyone brain gop never ever accept people rank even ban gay group conservative political action conference cpac fear offend hateful anti gay hate group lose money even welcome white supremacist group bad folk gop hate gay people much rather racist hate group instead even goproud offshoot log cabin republican even conservative log cabin type disband former president jimmy lasalvia left gop altogether hateful belief mr angelo member log cabin republican hear get head hate sooner realize well get party hate stop embarrass rest u lgbtq community feature image via screen capture salon\",\n          \"drug addict alcoholic tend denial disease former reality show star donald trump think problem allege president address opioid addiction sweep across u probably suffers type addiction remains denial donald trump need treatment would mean take leave absence job amateur president spent day time office visit least one property include visit golf club job day contrast former president barack obama hit golf course amount time office obama first golf game april th still yet addict trump defend frequent weekend trip luxury resort property say care golfing much people might think accord hill lot property go club like new jersey say oh go play golf go play golf trump say interview fox news care less golf well sure care obama played golf though fact dozen rage tweet trump obama play golf believe problem difficulty face u president obama spent day play golf bad carter donald j trump realdonaldtrump october place cost almost nothing hundred acre security close street trump add trump mean cost nothing taxpayer though pay big time cost u million pop every time visit mar lago resort meanwhile every visit trump own property promotes mean conflict interest profit presidency trump say feel little guilty go back trump tower residence new york expense associate trip mention cost taxpayer foot bill several white house instead one example security melania trump new york reportedly cost city police department day protect son secret service request additional million funding protect trump family love new york go back expensive country close fifth avenue close th street always feel little bit guilty go say trump say want perceive lazy note prefers visit property expensive secure expensive secure trump frequent visit florida resort financial burden county would much well people would understand could go place trump say hit relax want know person relaxes work hard work hard people addiction whether drug alcohol sex golfing prejudice disease affect whether black white orange rich poor pay tax try hide tax public pay nothing photo ian macnicol getty image\"\n        ],\n        \"semantic_type\": \"\",\n        \"description\": \"\"\n      }\n    },\n    {\n      \"column\": \"text_length\",\n      \"properties\": {\n        \"dtype\": \"number\",\n        \"std\": 1072,\n        \"min\": 0,\n        \"max\": 19396,\n        \"num_unique_values\": 4299,\n        \"samples\": [\n          1047,\n          3039\n        ],\n        \"semantic_type\": \"\",\n        \"description\": \"\"\n      }\n    },\n    {\n      \"column\": \"word_count\",\n      \"properties\": {\n        \"dtype\": \"number\",\n        \"std\": 152,\n        \"min\": 0,\n        \"max\": 3904,\n        \"num_unique_values\": 856,\n        \"samples\": [\n          861,\n          1409\n        ],\n        \"semantic_type\": \"\",\n        \"description\": \"\"\n      }\n    }\n  ]\n}"
            }
          },
          "metadata": {},
          "execution_count": 51
        }
      ]
    },
    {
      "cell_type": "code",
      "source": [
        "#here i am doing splitting before vectorization because split data i want to use in LSTM i.e., X_train....etc  this TF_IDF or BOW trained data we can't use in LSTM 'embedding' will use there\n",
        "X = df['lemma_cleaned_text1']\n",
        "y = df['Target']\n",
        "# Split the data into training and test sets (80% train, 20% test)\n",
        "X_train, X_test, y_train, y_test = train_test_split(X, y, test_size=0.2, random_state=42)"
      ],
      "metadata": {
        "id": "H2RtzVD_6A2c"
      },
      "execution_count": 52,
      "outputs": []
    },
    {
      "cell_type": "markdown",
      "source": [
        "we can't use this TF_IDF or BOW trained data for advanced models like LSTM  'embedding(Glove / Bert/ Word2vec)' will use"
      ],
      "metadata": {
        "id": "Lv8N-8fQShCD"
      }
    },
    {
      "cell_type": "code",
      "source": [
        "# converting each categorical value to an integers using ordinal encoding\n",
        "# #!pip install category_encoders\n",
        "# import category_encoders as ce\n",
        "# encoder = ce.OrdinalEncoder(cols=['subject'])\n",
        "# X_train = encoder.fit_transform(X_train)\n",
        "# X_test = encoder.transform(X_test)\n",
        "\n",
        "# # data after encoding\n",
        "# X_train.head()"
      ],
      "metadata": {
        "colab": {
          "base_uri": "https://localhost:8080/",
          "height": 206
        },
        "id": "pW2AmAdLZdic",
        "outputId": "8a0895bb-f968-4c66-dc99-1656fa6e56f2"
      },
      "execution_count": 43,
      "outputs": [
        {
          "output_type": "execute_result",
          "data": {
            "text/plain": [
              "                                     lemma_cleaned_text1  subject\n",
              "6599   republican presidential hopeful texas senator ...        1\n",
              "4193   reuters united nation security council issue w...        2\n",
              "9999   reuters former u house speaker dennis hastert ...        2\n",
              "10007  yea baby president trump walk walk president t...        3\n",
              "4874   stephen colbert deliver scathing segment direc...        1"
            ],
            "text/html": [
              "\n",
              "  <div id=\"df-0f303c98-35c8-4b21-b9d7-6011bf62ee20\" class=\"colab-df-container\">\n",
              "    <div>\n",
              "<style scoped>\n",
              "    .dataframe tbody tr th:only-of-type {\n",
              "        vertical-align: middle;\n",
              "    }\n",
              "\n",
              "    .dataframe tbody tr th {\n",
              "        vertical-align: top;\n",
              "    }\n",
              "\n",
              "    .dataframe thead th {\n",
              "        text-align: right;\n",
              "    }\n",
              "</style>\n",
              "<table border=\"1\" class=\"dataframe\">\n",
              "  <thead>\n",
              "    <tr style=\"text-align: right;\">\n",
              "      <th></th>\n",
              "      <th>lemma_cleaned_text1</th>\n",
              "      <th>subject</th>\n",
              "    </tr>\n",
              "  </thead>\n",
              "  <tbody>\n",
              "    <tr>\n",
              "      <th>6599</th>\n",
              "      <td>republican presidential hopeful texas senator ...</td>\n",
              "      <td>1</td>\n",
              "    </tr>\n",
              "    <tr>\n",
              "      <th>4193</th>\n",
              "      <td>reuters united nation security council issue w...</td>\n",
              "      <td>2</td>\n",
              "    </tr>\n",
              "    <tr>\n",
              "      <th>9999</th>\n",
              "      <td>reuters former u house speaker dennis hastert ...</td>\n",
              "      <td>2</td>\n",
              "    </tr>\n",
              "    <tr>\n",
              "      <th>10007</th>\n",
              "      <td>yea baby president trump walk walk president t...</td>\n",
              "      <td>3</td>\n",
              "    </tr>\n",
              "    <tr>\n",
              "      <th>4874</th>\n",
              "      <td>stephen colbert deliver scathing segment direc...</td>\n",
              "      <td>1</td>\n",
              "    </tr>\n",
              "  </tbody>\n",
              "</table>\n",
              "</div>\n",
              "    <div class=\"colab-df-buttons\">\n",
              "\n",
              "  <div class=\"colab-df-container\">\n",
              "    <button class=\"colab-df-convert\" onclick=\"convertToInteractive('df-0f303c98-35c8-4b21-b9d7-6011bf62ee20')\"\n",
              "            title=\"Convert this dataframe to an interactive table.\"\n",
              "            style=\"display:none;\">\n",
              "\n",
              "  <svg xmlns=\"http://www.w3.org/2000/svg\" height=\"24px\" viewBox=\"0 -960 960 960\">\n",
              "    <path d=\"M120-120v-720h720v720H120Zm60-500h600v-160H180v160Zm220 220h160v-160H400v160Zm0 220h160v-160H400v160ZM180-400h160v-160H180v160Zm440 0h160v-160H620v160ZM180-180h160v-160H180v160Zm440 0h160v-160H620v160Z\"/>\n",
              "  </svg>\n",
              "    </button>\n",
              "\n",
              "  <style>\n",
              "    .colab-df-container {\n",
              "      display:flex;\n",
              "      gap: 12px;\n",
              "    }\n",
              "\n",
              "    .colab-df-convert {\n",
              "      background-color: #E8F0FE;\n",
              "      border: none;\n",
              "      border-radius: 50%;\n",
              "      cursor: pointer;\n",
              "      display: none;\n",
              "      fill: #1967D2;\n",
              "      height: 32px;\n",
              "      padding: 0 0 0 0;\n",
              "      width: 32px;\n",
              "    }\n",
              "\n",
              "    .colab-df-convert:hover {\n",
              "      background-color: #E2EBFA;\n",
              "      box-shadow: 0px 1px 2px rgba(60, 64, 67, 0.3), 0px 1px 3px 1px rgba(60, 64, 67, 0.15);\n",
              "      fill: #174EA6;\n",
              "    }\n",
              "\n",
              "    .colab-df-buttons div {\n",
              "      margin-bottom: 4px;\n",
              "    }\n",
              "\n",
              "    [theme=dark] .colab-df-convert {\n",
              "      background-color: #3B4455;\n",
              "      fill: #D2E3FC;\n",
              "    }\n",
              "\n",
              "    [theme=dark] .colab-df-convert:hover {\n",
              "      background-color: #434B5C;\n",
              "      box-shadow: 0px 1px 3px 1px rgba(0, 0, 0, 0.15);\n",
              "      filter: drop-shadow(0px 1px 2px rgba(0, 0, 0, 0.3));\n",
              "      fill: #FFFFFF;\n",
              "    }\n",
              "  </style>\n",
              "\n",
              "    <script>\n",
              "      const buttonEl =\n",
              "        document.querySelector('#df-0f303c98-35c8-4b21-b9d7-6011bf62ee20 button.colab-df-convert');\n",
              "      buttonEl.style.display =\n",
              "        google.colab.kernel.accessAllowed ? 'block' : 'none';\n",
              "\n",
              "      async function convertToInteractive(key) {\n",
              "        const element = document.querySelector('#df-0f303c98-35c8-4b21-b9d7-6011bf62ee20');\n",
              "        const dataTable =\n",
              "          await google.colab.kernel.invokeFunction('convertToInteractive',\n",
              "                                                    [key], {});\n",
              "        if (!dataTable) return;\n",
              "\n",
              "        const docLinkHtml = 'Like what you see? Visit the ' +\n",
              "          '<a target=\"_blank\" href=https://colab.research.google.com/notebooks/data_table.ipynb>data table notebook</a>'\n",
              "          + ' to learn more about interactive tables.';\n",
              "        element.innerHTML = '';\n",
              "        dataTable['output_type'] = 'display_data';\n",
              "        await google.colab.output.renderOutput(dataTable, element);\n",
              "        const docLink = document.createElement('div');\n",
              "        docLink.innerHTML = docLinkHtml;\n",
              "        element.appendChild(docLink);\n",
              "      }\n",
              "    </script>\n",
              "  </div>\n",
              "\n",
              "\n",
              "<div id=\"df-9f282ac9-a30a-48f8-a8b5-aad656702433\">\n",
              "  <button class=\"colab-df-quickchart\" onclick=\"quickchart('df-9f282ac9-a30a-48f8-a8b5-aad656702433')\"\n",
              "            title=\"Suggest charts\"\n",
              "            style=\"display:none;\">\n",
              "\n",
              "<svg xmlns=\"http://www.w3.org/2000/svg\" height=\"24px\"viewBox=\"0 0 24 24\"\n",
              "     width=\"24px\">\n",
              "    <g>\n",
              "        <path d=\"M19 3H5c-1.1 0-2 .9-2 2v14c0 1.1.9 2 2 2h14c1.1 0 2-.9 2-2V5c0-1.1-.9-2-2-2zM9 17H7v-7h2v7zm4 0h-2V7h2v10zm4 0h-2v-4h2v4z\"/>\n",
              "    </g>\n",
              "</svg>\n",
              "  </button>\n",
              "\n",
              "<style>\n",
              "  .colab-df-quickchart {\n",
              "      --bg-color: #E8F0FE;\n",
              "      --fill-color: #1967D2;\n",
              "      --hover-bg-color: #E2EBFA;\n",
              "      --hover-fill-color: #174EA6;\n",
              "      --disabled-fill-color: #AAA;\n",
              "      --disabled-bg-color: #DDD;\n",
              "  }\n",
              "\n",
              "  [theme=dark] .colab-df-quickchart {\n",
              "      --bg-color: #3B4455;\n",
              "      --fill-color: #D2E3FC;\n",
              "      --hover-bg-color: #434B5C;\n",
              "      --hover-fill-color: #FFFFFF;\n",
              "      --disabled-bg-color: #3B4455;\n",
              "      --disabled-fill-color: #666;\n",
              "  }\n",
              "\n",
              "  .colab-df-quickchart {\n",
              "    background-color: var(--bg-color);\n",
              "    border: none;\n",
              "    border-radius: 50%;\n",
              "    cursor: pointer;\n",
              "    display: none;\n",
              "    fill: var(--fill-color);\n",
              "    height: 32px;\n",
              "    padding: 0;\n",
              "    width: 32px;\n",
              "  }\n",
              "\n",
              "  .colab-df-quickchart:hover {\n",
              "    background-color: var(--hover-bg-color);\n",
              "    box-shadow: 0 1px 2px rgba(60, 64, 67, 0.3), 0 1px 3px 1px rgba(60, 64, 67, 0.15);\n",
              "    fill: var(--button-hover-fill-color);\n",
              "  }\n",
              "\n",
              "  .colab-df-quickchart-complete:disabled,\n",
              "  .colab-df-quickchart-complete:disabled:hover {\n",
              "    background-color: var(--disabled-bg-color);\n",
              "    fill: var(--disabled-fill-color);\n",
              "    box-shadow: none;\n",
              "  }\n",
              "\n",
              "  .colab-df-spinner {\n",
              "    border: 2px solid var(--fill-color);\n",
              "    border-color: transparent;\n",
              "    border-bottom-color: var(--fill-color);\n",
              "    animation:\n",
              "      spin 1s steps(1) infinite;\n",
              "  }\n",
              "\n",
              "  @keyframes spin {\n",
              "    0% {\n",
              "      border-color: transparent;\n",
              "      border-bottom-color: var(--fill-color);\n",
              "      border-left-color: var(--fill-color);\n",
              "    }\n",
              "    20% {\n",
              "      border-color: transparent;\n",
              "      border-left-color: var(--fill-color);\n",
              "      border-top-color: var(--fill-color);\n",
              "    }\n",
              "    30% {\n",
              "      border-color: transparent;\n",
              "      border-left-color: var(--fill-color);\n",
              "      border-top-color: var(--fill-color);\n",
              "      border-right-color: var(--fill-color);\n",
              "    }\n",
              "    40% {\n",
              "      border-color: transparent;\n",
              "      border-right-color: var(--fill-color);\n",
              "      border-top-color: var(--fill-color);\n",
              "    }\n",
              "    60% {\n",
              "      border-color: transparent;\n",
              "      border-right-color: var(--fill-color);\n",
              "    }\n",
              "    80% {\n",
              "      border-color: transparent;\n",
              "      border-right-color: var(--fill-color);\n",
              "      border-bottom-color: var(--fill-color);\n",
              "    }\n",
              "    90% {\n",
              "      border-color: transparent;\n",
              "      border-bottom-color: var(--fill-color);\n",
              "    }\n",
              "  }\n",
              "</style>\n",
              "\n",
              "  <script>\n",
              "    async function quickchart(key) {\n",
              "      const quickchartButtonEl =\n",
              "        document.querySelector('#' + key + ' button');\n",
              "      quickchartButtonEl.disabled = true;  // To prevent multiple clicks.\n",
              "      quickchartButtonEl.classList.add('colab-df-spinner');\n",
              "      try {\n",
              "        const charts = await google.colab.kernel.invokeFunction(\n",
              "            'suggestCharts', [key], {});\n",
              "      } catch (error) {\n",
              "        console.error('Error during call to suggestCharts:', error);\n",
              "      }\n",
              "      quickchartButtonEl.classList.remove('colab-df-spinner');\n",
              "      quickchartButtonEl.classList.add('colab-df-quickchart-complete');\n",
              "    }\n",
              "    (() => {\n",
              "      let quickchartButtonEl =\n",
              "        document.querySelector('#df-9f282ac9-a30a-48f8-a8b5-aad656702433 button');\n",
              "      quickchartButtonEl.style.display =\n",
              "        google.colab.kernel.accessAllowed ? 'block' : 'none';\n",
              "    })();\n",
              "  </script>\n",
              "</div>\n",
              "\n",
              "    </div>\n",
              "  </div>\n"
            ],
            "application/vnd.google.colaboratory.intrinsic+json": {
              "type": "dataframe",
              "variable_name": "X_train",
              "summary": "{\n  \"name\": \"X_train\",\n  \"rows\": 19880,\n  \"fields\": [\n    {\n      \"column\": \"lemma_cleaned_text1\",\n      \"properties\": {\n        \"dtype\": \"string\",\n        \"num_unique_values\": 19538,\n        \"samples\": [\n          \"washington reuters u president donald trump speech across town closely watch congressional hearing dealing fbi amid russia probe told supporter thursday movement siege vowed fight siege come big well strong ever say separate speech washington back right know fight never give\",\n          \"washington reuters vice president joe biden top short list secretary state compile transition team democratic presidential candidate hillary clinton two medium outlet report politico thursday night cite unidentified source say clinton aide discuss approach biden post win nov presidential election national opinion poll show clinton serve president barack obama first secretary state lead republican donald trump race white house biden become respect voice foreign policy year u senate chairman foreign relation committee one point serve alongside clinton senator new york great spending lot time figure best way try persuade win source familiar clinton transition planning told politico nbc news later confirm biden consideration job top u diplomat biden delaware consider run democratic presidential nomination campaign vigorously clinton race trump new york real estate tycoon former reality television personality never run office vice president say campaign event clinton pennsylvania week frequently ask whether wish debate trump insult woman muslim immigrant thumbed nose political norm wish high school could take behind gym wish biden say prompt similarly pugilistic retort trump couple day later excepts interview release cbs sunday program face nation biden make clear want continue public service go away know everything issue violence woman income inequality cancer moonshot gon na devote rest life\",\n          \"atlanta reuters supporter u president donald trump rally community across country monday partly rebuttal anti trump protest take place since election november trump schedule appear week event take place venue range park small town gravette arkansas plaza outside georgia state capitol building downtown atlanta think need support president say vivian phillips year old retire schoolteacher drove seven hour west virginia home atlanta people gather overcast day phillips held sign reading adorable deplorable west virginia refer disparage comment make democrat hillary clinton campaign trump supporter denver people met step state capitol voice support president sing patriotic song listen speaker many wave american flag held sign bearing trump campaign theme make america great one woman held sign photograph hillary clinton word get let president know alone although seem like time say karen eitzel denver republican accompany husband jack year old retire utility worker brea california traditionally conservative orange county people stood outside shopping mall chant build wall god bless america god bless donald trump carry sings read trump love trump way demonstrator march wear red hat sign read donald trump h president carry flag banner reading make america great passing motorist honk cheer support mandeville louisiana outside new orleans almost people many dress red white blue color american flag gather pavilion voice support crowd include trump impersonator carry sign love trump support president rally organizer come tea party movement large informal network anti establishment conservative become increasingly powerful force republican politics since beginning group call main street patriot say help organize call spirit america rally least state monday saturday rally schedule saturday large crowd expect raucous rally often fill sport arena become hallmark trump presidential campaign contrast low key event stag clinton earlier month trump rekindle energy first time since election freewheel rally melbourne florida trump crowd rarely regrouped since november election large protest people oppose trump policy particularly crackdown immigration become frequent\"\n        ],\n        \"semantic_type\": \"\",\n        \"description\": \"\"\n      }\n    },\n    {\n      \"column\": \"subject\",\n      \"properties\": {\n        \"dtype\": \"number\",\n        \"std\": 0,\n        \"min\": 1,\n        \"max\": 6,\n        \"num_unique_values\": 6,\n        \"samples\": [\n          1,\n          2,\n          6\n        ],\n        \"semantic_type\": \"\",\n        \"description\": \"\"\n      }\n    }\n  ]\n}"
            }
          },
          "metadata": {},
          "execution_count": 43
        }
      ]
    },
    {
      "cell_type": "markdown",
      "source": [
        "**Vectorization**"
      ],
      "metadata": {
        "id": "aw9RQLuPVgEz"
      }
    },
    {
      "cell_type": "code",
      "source": [
        "#Apply TF-IDF Vectorization\n",
        "tfidf = TfidfVectorizer(max_features=5000)  # Limit to top 5000 features\n",
        "X_train_tfidf = tfidf.fit_transform(X_train)\n",
        "X_test_tfidf = tfidf.transform(X_test)\n",
        "\n",
        "# Check the shape of the TF-IDF matrix\n",
        "print(\"TF-IDF Matrix Shape:\", X_train_tfidf.shape)"
      ],
      "metadata": {
        "id": "4UMxhBByD7t8",
        "colab": {
          "base_uri": "https://localhost:8080/"
        },
        "outputId": "07cdf5ce-f93b-459a-d3a2-7e1ae96e28dd"
      },
      "execution_count": 53,
      "outputs": [
        {
          "output_type": "stream",
          "name": "stdout",
          "text": [
            "TF-IDF Matrix Shape: (19880, 5000)\n"
          ]
        }
      ]
    },
    {
      "cell_type": "code",
      "source": [
        "# to see vectorization\n",
        "#1. View the Words (Features) Generated by TF-IDF\n",
        "#Once you’ve fitted the TfidfVectorizer on the text data, you can check the vocabulary (i.e., the unique words used as features).\n",
        "#The TfidfVectorizer stores this information in its vocabulary_ attribute, and the words are indexed according to their position in the resulting matrix.\n",
        "# Get the feature names (i.e., the words in the vocabulary)\n",
        "\n",
        "tfidf_feature_names = tfidf.get_feature_names_out()\n",
        "\n",
        "# Print the first 20 feature names (words)\n",
        "print(\"First 20 words in the vocabulary:\")\n",
        "print(tfidf_feature_names[:20])"
      ],
      "metadata": {
        "colab": {
          "base_uri": "https://localhost:8080/"
        },
        "id": "cYjAfymvSILE",
        "outputId": "6f6d3ba1-cbed-4bed-f2a7-d6615b7171c7"
      },
      "execution_count": 89,
      "outputs": [
        {
          "output_type": "stream",
          "name": "stdout",
          "text": [
            "First 20 words in the vocabulary:\n",
            "['aaron' 'abandon' 'abbott' 'abc' 'abe' 'abedin' 'abide' 'ability' 'able'\n",
            " 'aboard' 'abortion' 'abroad' 'abruptly' 'absence' 'absolute' 'absolutely'\n",
            " 'absurd' 'abuse' 'aca' 'academic']\n"
          ]
        }
      ]
    },
    {
      "cell_type": "code",
      "source": [
        "#2 The TF-IDF matrix is stored in the variable X, which is a sparse matrix. To view the matrix in a more readable format,\n",
        "#you can convert it into a dense matrix.\n",
        "\n",
        "\n",
        "# Convert the sparse TF-IDF matrix into a dense matrix (if you want to see actual values, be careful with large data)\n",
        "dense_tfidf = X_train_tfidf.todense()\n",
        "\n",
        "# Check the shape of the matrix\n",
        "print(f\"Shape of the TF-IDF matrix: {dense_tfidf.shape}\")\n",
        "\n",
        "# Convert the first row (representing the first document) to a list\n",
        "first_doc_tfidf = dense_tfidf[0].tolist()[0]\n",
        "\n",
        "# Pair the feature names (words) with their corresponding TF-IDF scores for the first document\n",
        "tfidf_scores_first_doc = [(word, first_doc_tfidf[i]) for i, word in enumerate(tfidf_feature_names)]\n",
        "\n",
        "# Sort the TF-IDF scores in descending order to see the most important words\n",
        "tfidf_scores_first_doc_sorted = sorted(tfidf_scores_first_doc, key=lambda x: x[1], reverse=True)\n",
        "\n",
        "# Print the top 10 TF-IDF scores for the first document\n",
        "print(\"Top 10 words by TF-IDF score in the first document:\")\n",
        "for word, score in tfidf_scores_first_doc_sorted[:10]:\n",
        "    print(f\"{word}: {score:.4f}\")\n",
        "\n",
        "\n",
        " #Explanation:\n",
        "#todense(): Converts the sparse matrix into a dense matrix where each row represents a document and each column represents a word (with the value being the TF-IDF score).\n",
        "#tfidf_feature_names: Contains the vocabulary (i.e., the list of words) that were learned by the TfidfVectorizer.\n",
        "#first_doc_tfidf: This is the TF-IDF score vector for the first document in dataset. Each value represents the importance of the word (corresponding to the same index in the tfidf_feature_names array) in the document."
      ],
      "metadata": {
        "colab": {
          "base_uri": "https://localhost:8080/"
        },
        "id": "IV_ETDrMD7bT",
        "outputId": "23d432a2-1dda-4d96-8ac5-bb383fe16950"
      },
      "execution_count": 90,
      "outputs": [
        {
          "output_type": "stream",
          "name": "stdout",
          "text": [
            "Shape of the TF-IDF matrix: (19880, 5000)\n",
            "Top 10 words by TF-IDF score in the first document:\n",
            "cruz: 0.6428\n",
            "man: 0.2063\n",
            "obamacare: 0.1820\n",
            "affordable: 0.1523\n",
            "care: 0.1484\n",
            "insurance: 0.1446\n",
            "repeal: 0.1382\n",
            "disabled: 0.1253\n",
            "lie: 0.1196\n",
            "health: 0.1175\n"
          ]
        }
      ]
    },
    {
      "cell_type": "code",
      "source": [
        "#3. View TF-IDF Scores for All Documents\n",
        "# Check TF-IDF scores for the first 5 documents\n",
        "for doc_num in range(5):\n",
        "    doc_tfidf = dense_tfidf[doc_num].tolist()[0]\n",
        "    tfidf_scores_doc = [(word, doc_tfidf[i]) for i, word in enumerate(tfidf_feature_names)]\n",
        "    tfidf_scores_doc_sorted = sorted(tfidf_scores_doc, key=lambda x: x[1], reverse=True)\n",
        "\n",
        "    print(f\"\\nTop 5 words by TF-IDF score in document {doc_num + 1}:\")\n",
        "    for word, score in tfidf_scores_doc_sorted[:5]:\n",
        "        print(f\"{word}: {score:.4f}\")\n",
        "\n",
        "#The words \"microcephaly\", \"elect\", and \"reconsider\" have the highest TF-IDF scores for the first document.etc.,\n",
        "#This means they are important to that particular document compared to other words."
      ],
      "metadata": {
        "id": "AsU0DJZcRjca",
        "colab": {
          "base_uri": "https://localhost:8080/"
        },
        "outputId": "1f8d57b3-04c2-4561-d3a1-a17691adc4e1"
      },
      "execution_count": 91,
      "outputs": [
        {
          "output_type": "stream",
          "name": "stdout",
          "text": [
            "\n",
            "Top 5 words by TF-IDF score in document 1:\n",
            "cruz: 0.6428\n",
            "man: 0.2063\n",
            "obamacare: 0.1820\n",
            "affordable: 0.1523\n",
            "care: 0.1484\n",
            "\n",
            "Top 5 words by TF-IDF score in document 2:\n",
            "north: 0.5238\n",
            "korean: 0.3959\n",
            "korea: 0.3477\n",
            "sanction: 0.3175\n",
            "ban: 0.2523\n",
            "\n",
            "Top 5 words by TF-IDF score in document 3:\n",
            "hastert: 0.6690\n",
            "prosecutor: 0.2110\n",
            "wrestling: 0.1868\n",
            "sentence: 0.1771\n",
            "abuse: 0.1702\n",
            "\n",
            "Top 5 words by TF-IDF score in document 4:\n",
            "harvey: 0.3897\n",
            "texas: 0.3221\n",
            "storm: 0.2727\n",
            "visit: 0.1880\n",
            "donate: 0.1722\n",
            "\n",
            "Top 5 words by TF-IDF score in document 5:\n",
            "colbert: 0.4644\n",
            "cost: 0.3032\n",
            "price: 0.2943\n",
            "segment: 0.2895\n",
            "breath: 0.1787\n"
          ]
        }
      ]
    },
    {
      "cell_type": "markdown",
      "source": [
        "**Modelling**"
      ],
      "metadata": {
        "id": "pxNSg95gV8ab"
      }
    },
    {
      "cell_type": "code",
      "source": [
        "\n",
        "from sklearn.linear_model import LogisticRegression\n",
        "from sklearn.metrics import accuracy_score, precision_score, recall_score, f1_score\n",
        "\n",
        "# Build a Logistic Regression model\n",
        "logreg = LogisticRegression(max_iter=1000)\n",
        "logreg.fit(X_train_tfidf, y_train)\n",
        "\n",
        "# Predict on the test set\n",
        "y_pred_logreg = logreg.predict(X_test_tfidf)\n",
        "\n",
        "# Evaluate the model\n",
        "# accuracy = accuracy_score(y_test, y_pred_logreg)\n",
        "# print(f'Accuracy: {accuracy:.2f}')\n",
        "print(classification_report(y_test, y_pred_logreg))\n",
        "\n",
        "print(\"\\nConfusion Matrix - Logistic Regression:\")\n",
        "print(confusion_matrix(y_test, y_pred_logreg))\n"
      ],
      "metadata": {
        "colab": {
          "base_uri": "https://localhost:8080/"
        },
        "id": "3kmd57_FK9Ze",
        "outputId": "31dde41d-4d4f-494a-d514-de4e87d470c0"
      },
      "execution_count": 63,
      "outputs": [
        {
          "output_type": "stream",
          "name": "stdout",
          "text": [
            "              precision    recall  f1-score   support\n",
            "\n",
            "           0       0.99      0.98      0.98      2738\n",
            "           1       0.98      0.98      0.98      2233\n",
            "\n",
            "    accuracy                           0.98      4971\n",
            "   macro avg       0.98      0.98      0.98      4971\n",
            "weighted avg       0.98      0.98      0.98      4971\n",
            "\n",
            "\n",
            "Confusion Matrix - Logistic Regression:\n",
            "[[2693   45]\n",
            " [  38 2195]]\n"
          ]
        }
      ]
    },
    {
      "cell_type": "code",
      "source": [
        "from sklearn.naive_bayes import MultinomialNB\n",
        "\n",
        "# Build a Naive Bayes model\n",
        "nb = MultinomialNB()\n",
        "nb.fit(X_train_tfidf, y_train)\n",
        "\n",
        "# Predict on the test set\n",
        "y_pred_nb = nb.predict(X_test_tfidf)\n",
        "\n",
        "# Evaluate the model\n",
        "# accuracy = accuracy_score(y_test, y_pred_nb)\n",
        "# print(f'Accuracy: {accuracy:.2f}')\n",
        "print(classification_report(y_test, y_pred_nb))\n",
        "\n",
        "\n",
        "print(\"\\nConfusion Matrix - Naive Bayes:\")\n",
        "print(confusion_matrix(y_test, y_pred_nb))\n",
        "\n"
      ],
      "metadata": {
        "id": "zSagCBsFIglr",
        "colab": {
          "base_uri": "https://localhost:8080/"
        },
        "outputId": "7768be12-098f-479c-f8fa-52f837fd8a6b"
      },
      "execution_count": 64,
      "outputs": [
        {
          "output_type": "stream",
          "name": "stdout",
          "text": [
            "              precision    recall  f1-score   support\n",
            "\n",
            "           0       0.94      0.93      0.94      2738\n",
            "           1       0.92      0.93      0.92      2233\n",
            "\n",
            "    accuracy                           0.93      4971\n",
            "   macro avg       0.93      0.93      0.93      4971\n",
            "weighted avg       0.93      0.93      0.93      4971\n",
            "\n",
            "\n",
            "Confusion Matrix - Naive Bayes:\n",
            "[[2553  185]\n",
            " [ 159 2074]]\n"
          ]
        }
      ]
    },
    {
      "cell_type": "code",
      "source": [
        "from sklearn.svm import SVC\n",
        "\n",
        "model = SVC(kernel='linear')\n",
        "model.fit(X_train_tfidf, y_train)\n",
        "\n",
        "# Predict on the test set\n",
        "y_pred_svc = model.predict(X_test_tfidf)\n",
        "\n",
        "# Evaluate the model\n",
        "# accuracy = accuracy_score(y_test, y_pred_svc)\n",
        "# print(f'Accuracy: {accuracy:.2f}')\n",
        "print(classification_report(y_test, y_pred_svc))\n",
        "\n",
        "print(\"\\nConfusion Matrix - SVC:\")\n",
        "print(confusion_matrix(y_test, y_pred_svc))\n"
      ],
      "metadata": {
        "colab": {
          "base_uri": "https://localhost:8080/"
        },
        "id": "ofqxLy20WgQ8",
        "outputId": "b3485081-477f-435c-9e31-0e5fb66137d2"
      },
      "execution_count": 65,
      "outputs": [
        {
          "output_type": "stream",
          "name": "stdout",
          "text": [
            "              precision    recall  f1-score   support\n",
            "\n",
            "           0       0.99      0.99      0.99      2738\n",
            "           1       0.99      0.99      0.99      2233\n",
            "\n",
            "    accuracy                           0.99      4971\n",
            "   macro avg       0.99      0.99      0.99      4971\n",
            "weighted avg       0.99      0.99      0.99      4971\n",
            "\n",
            "\n",
            "Confusion Matrix - SVC:\n",
            "[[2706   32]\n",
            " [  21 2212]]\n"
          ]
        }
      ]
    },
    {
      "cell_type": "code",
      "source": [
        "# def output_lable(n):\n",
        "#     if n == 0:\n",
        "#         return \"Fake News\"\n",
        "#     elif n == 1:\n",
        "#         return \"Not A Fake News\"\n",
        "\n",
        "# def manual_testing(news):\n",
        "#     testing_news = {\"text\":[news]}\n",
        "#     new_def_test = pd.DataFrame(testing_news)\n",
        "#     new_def_test[\"text\"] = new_def_test[\"text\"].apply(wp1)\n",
        "#     new_x_test = new_def_test[\"text\"]\n",
        "#     new_xv_test = tfidf.transform(new_x_test)\n",
        "#     pred_LR = logreg.predict(new_xv_test)\n",
        "#     pred_NB = nb.predict(new_xv_test)\n",
        "#     pred_SVC = model.predict(new_xv_test)\n",
        "\n",
        "\n",
        "#     return print(\"\\n\\nlogreg Prediction: {} \\nnb Prediction: {} \\nSVC Prediction: {}\".format(output_lable(pred_LR[0]), output_lable(pred_NB[0]), output_lable(pred_SVC[0])))"
      ],
      "metadata": {
        "id": "b_BZKFl4gl5J"
      },
      "execution_count": 74,
      "outputs": []
    },
    {
      "cell_type": "code",
      "source": [
        "# news = str(input())\n",
        "# manual_testing(news)"
      ],
      "metadata": {
        "colab": {
          "base_uri": "https://localhost:8080/"
        },
        "id": "F09Cvc_2gle7",
        "outputId": "8653dc4c-9194-4f36-fe87-2fae8b22d844"
      },
      "execution_count": 77,
      "outputs": [
        {
          "output_type": "stream",
          "name": "stdout",
          "text": [
            "WASHINGTON (Reuters) - The head of a conservative Republican faction in the U.S. Congress, who voted this month for a huge expansion of the national debt to pay for tax cuts, called himself a â€œfiscal conservativeâ€ on Sunday and urged budget restraint in 2018. In keeping with a sharp pivot under way among Republicans, U.S. Representative Mark Meadows, speaking on CBSâ€™ â€œFace the Nation,â€ drew a hard line on federal spending, which lawmakers are bracing to do battle over in January. When they return from the holidays on Wednesday, lawmakers will begin trying to pass a federal budget in a fight likely to be linked to other issues, such as immigration policy, even as the November congressional election campaigns approach in which Republicans will seek to keep control of Congress. President Donald Trump and his Republicans want a big budget increase in military spending, while Democrats also want proportional increases for non-defense â€œdiscretionaryâ€ spending on programs that support education, scientific research, infrastructure, public health and environmental protection. â€œThe (Trump) administration has already been willing to say: â€˜Weâ€™re going to increase non-defense discretionary spending ... by about 7 percent,â€™â€ Meadows, chairman of the small but influential House Freedom Caucus, said on the program. â€œNow, Democrats are saying thatâ€™s not enough, we need to give the government a pay raise of 10 to 11 percent. For a fiscal conservative, I donâ€™t see where the rationale is. ... Eventually you run out of other peopleâ€™s money,â€ he said. Meadows was among Republicans who voted in late December for their partyâ€™s debt-financed tax overhaul, which is expected to balloon the federal budget deficit and add about $1.5 trillion over 10 years to the $20 trillion national debt. â€œItâ€™s interesting to hear Mark talk about fiscal responsibility,â€ Democratic U.S. Representative Joseph Crowley said on CBS. Crowley said the Republican tax bill would require the  United States to borrow $1.5 trillion, to be paid off by future generations, to finance tax cuts for corporations and the rich. â€œThis is one of the least ... fiscally responsible bills weâ€™ve ever seen passed in the history of the House of Representatives. I think weâ€™re going to be paying for this for many, many years to come,â€ Crowley said. Republicans insist the tax package, the biggest U.S. tax overhaul in more than 30 years,  will boost the economy and job growth. House Speaker Paul Ryan, who also supported the tax bill, recently went further than Meadows, making clear in a radio interview that welfare or â€œentitlement reform,â€ as the party often calls it, would be a top Republican priority in 2018. In Republican parlance, â€œentitlementâ€ programs mean food stamps, housing assistance, Medicare and Medicaid health insurance for the elderly, poor and disabled, as well as other programs created by Washington to assist the needy. Democrats seized on Ryanâ€™s early December remarks, saying they showed Republicans would try to pay for their tax overhaul by seeking spending cuts for social programs. But the goals of House Republicans may have to take a back seat to the Senate, where the votes of some Democrats will be needed to approve a budget and prevent a government shutdown. Democrats will use their leverage in the Senate, which Republicans narrowly control, to defend both discretionary non-defense programs and social spending, while tackling the issue of the â€œDreamers,â€ people brought illegally to the country as children. Trump in September put a March 2018 expiration date on the Deferred Action for Childhood Arrivals, or DACA, program, which protects the young immigrants from deportation and provides them with work permits. The president has said in recent Twitter messages he wants funding for his proposed Mexican border wall and other immigration law changes in exchange for agreeing to help the Dreamers. Representative Debbie Dingell told CBS she did not favor linking that issue to other policy objectives, such as wall funding. â€œWe need to do DACA clean,â€ she said.  On Wednesday, Trump aides will meet with congressional leaders to discuss those issues. That will be followed by a weekend of strategy sessions for Trump and Republican leaders on Jan. 6 and 7, the White House said. Trump was also scheduled to meet on Sunday with Florida Republican Governor Rick Scott, who wants more emergency aid. The House has passed an $81 billion aid package after hurricanes in Florida, Texas and Puerto Rico, and wildfires in California. The package far exceeded the $44 billion requested by the Trump administration. The Senate has not yet voted on the aid. \n",
            "\n",
            "\n",
            "logreg Prediction: Not A Fake News \n",
            "nb Prediction: Not A Fake News \n",
            "SVC Prediction: Not A Fake News\n"
          ]
        }
      ]
    },
    {
      "cell_type": "markdown",
      "source": [
        "# **LSTM**\n"
      ],
      "metadata": {
        "id": "VD0FoM-mxFfT"
      }
    },
    {
      "cell_type": "code",
      "source": [
        "# Parameters\n",
        "max_words = 10000  # Vocabulary size\n",
        "max_len = 100      # Maximum length of sequences\n",
        "\n",
        "# Tokenization on the original text data\n",
        "tokenizer = Tokenizer(num_words=max_words)\n",
        "tokenizer.fit_on_texts(X_train)  # Use original text data here\n",
        "X_train_seq = tokenizer.texts_to_sequences(X_train)\n",
        "X_test_seq = tokenizer.texts_to_sequences(X_test)\n",
        "\n",
        "# Padding sequences\n",
        "X_train_pad = pad_sequences(X_train_seq, maxlen=max_len)\n",
        "X_test_pad = pad_sequences(X_test_seq, maxlen=max_len)"
      ],
      "metadata": {
        "id": "f6nJCACN3L4S"
      },
      "execution_count": 78,
      "outputs": []
    },
    {
      "cell_type": "code",
      "source": [
        "# Build the LSTM model\n",
        "model_lstm = Sequential()\n",
        "model_lstm.add(Embedding(input_dim=max_words, output_dim=128, input_length=max_len))\n",
        "model_lstm.add(LSTM(64, return_sequences=True))\n",
        "model_lstm.add(Dropout(0.5))\n",
        "model_lstm.add(LSTM(32))\n",
        "model_lstm.add(Dropout(0.5))\n",
        "model_lstm.add(Dense(1, activation='sigmoid'))  # Binary classification"
      ],
      "metadata": {
        "colab": {
          "base_uri": "https://localhost:8080/"
        },
        "id": "pf6yQTOD3M3p",
        "outputId": "74ed7d80-3e63-46c7-8212-7fc4a61b23a5"
      },
      "execution_count": 79,
      "outputs": [
        {
          "output_type": "stream",
          "name": "stderr",
          "text": [
            "/usr/local/lib/python3.10/dist-packages/keras/src/layers/core/embedding.py:90: UserWarning: Argument `input_length` is deprecated. Just remove it.\n",
            "  warnings.warn(\n"
          ]
        }
      ]
    },
    {
      "cell_type": "code",
      "source": [
        "# Compile the model\n",
        "model_lstm.compile(optimizer='adam', loss='binary_crossentropy', metrics=['accuracy'])"
      ],
      "metadata": {
        "id": "m5GdfVw53MmN"
      },
      "execution_count": 80,
      "outputs": []
    },
    {
      "cell_type": "code",
      "source": [
        "# Fit the model\n",
        "model_lstm.fit(X_train_pad, y_train, batch_size=32, epochs=5, validation_data=(X_test_pad, y_test))\n",
        "\n"
      ],
      "metadata": {
        "colab": {
          "base_uri": "https://localhost:8080/"
        },
        "collapsed": true,
        "id": "_UhGx8lh3MzW",
        "outputId": "71245b66-21e7-4e2d-b39d-27fac9f50690"
      },
      "execution_count": 81,
      "outputs": [
        {
          "output_type": "stream",
          "name": "stdout",
          "text": [
            "Epoch 1/5\n",
            "\u001b[1m622/622\u001b[0m \u001b[32m━━━━━━━━━━━━━━━━━━━━\u001b[0m\u001b[37m\u001b[0m \u001b[1m100s\u001b[0m 152ms/step - accuracy: 0.9145 - loss: 0.2242 - val_accuracy: 0.9755 - val_loss: 0.0716\n",
            "Epoch 2/5\n",
            "\u001b[1m622/622\u001b[0m \u001b[32m━━━━━━━━━━━━━━━━━━━━\u001b[0m\u001b[37m\u001b[0m \u001b[1m138s\u001b[0m 146ms/step - accuracy: 0.9877 - loss: 0.0437 - val_accuracy: 0.9732 - val_loss: 0.0790\n",
            "Epoch 3/5\n",
            "\u001b[1m622/622\u001b[0m \u001b[32m━━━━━━━━━━━━━━━━━━━━\u001b[0m\u001b[37m\u001b[0m \u001b[1m106s\u001b[0m 170ms/step - accuracy: 0.9938 - loss: 0.0229 - val_accuracy: 0.9722 - val_loss: 0.0990\n",
            "Epoch 4/5\n",
            "\u001b[1m622/622\u001b[0m \u001b[32m━━━━━━━━━━━━━━━━━━━━\u001b[0m\u001b[37m\u001b[0m \u001b[1m105s\u001b[0m 169ms/step - accuracy: 0.9958 - loss: 0.0153 - val_accuracy: 0.9728 - val_loss: 0.1032\n",
            "Epoch 5/5\n",
            "\u001b[1m622/622\u001b[0m \u001b[32m━━━━━━━━━━━━━━━━━━━━\u001b[0m\u001b[37m\u001b[0m \u001b[1m127s\u001b[0m 145ms/step - accuracy: 0.9973 - loss: 0.0102 - val_accuracy: 0.9736 - val_loss: 0.1118\n"
          ]
        },
        {
          "output_type": "execute_result",
          "data": {
            "text/plain": [
              "<keras.src.callbacks.history.History at 0x7e04cc0c6ec0>"
            ]
          },
          "metadata": {},
          "execution_count": 81
        }
      ]
    },
    {
      "cell_type": "code",
      "source": [
        "# Evaluate the LSTM model\n",
        "loss, accuracy = model_lstm.evaluate(X_test_pad, y_test)\n",
        "print(f\"LSTM Model Accuracy: {accuracy * 100:.2f}%\")"
      ],
      "metadata": {
        "colab": {
          "base_uri": "https://localhost:8080/"
        },
        "id": "Jd-OrXYO8wMT",
        "outputId": "e4dd3a99-13c1-477a-c494-0ca826a48000"
      },
      "execution_count": 82,
      "outputs": [
        {
          "output_type": "stream",
          "name": "stdout",
          "text": [
            "\u001b[1m156/156\u001b[0m \u001b[32m━━━━━━━━━━━━━━━━━━━━\u001b[0m\u001b[37m\u001b[0m \u001b[1m5s\u001b[0m 33ms/step - accuracy: 0.9729 - loss: 0.1108\n",
            "LSTM Model Accuracy: 97.36%\n"
          ]
        }
      ]
    },
    {
      "cell_type": "markdown",
      "source": [
        "## Manual Testing"
      ],
      "metadata": {
        "id": "t1HjRAF0pNLx"
      }
    },
    {
      "cell_type": "code",
      "source": [
        "def output_lable(n):\n",
        "    if n == 0:\n",
        "        return \"Fake News\"\n",
        "    elif n == 1:\n",
        "        return \"Not A Fake News\"\n",
        "\n",
        "def manual_testing(news):\n",
        "    testing_news = {\"text\": [news]}\n",
        "    new_def_test = pd.DataFrame(testing_news)\n",
        "    new_def_test[\"text\"] = new_def_test[\"text\"].apply(wp1)  # Apply pre-processing (wp1)\n",
        "\n",
        "    # Transform for traditional ML models (LogReg, NB, SVC)\n",
        "    new_x_test = new_def_test[\"text\"]\n",
        "    new_xv_test = tfidf.transform(new_x_test)\n",
        "    pred_LR = logreg.predict(new_xv_test)\n",
        "    pred_NB = nb.predict(new_xv_test)\n",
        "    pred_SVC = model.predict(new_xv_test)\n",
        "\n",
        "    # Transform for LSTM model\n",
        "    new_x_test_seq = tokenizer.texts_to_sequences(new_x_test)  # Tokenize the input\n",
        "    new_x_test_pad = pad_sequences(new_x_test_seq, maxlen=max_len)  # Pad the sequence\n",
        "\n",
        "    # LSTM prediction (output will be a probability, so round to get binary output)\n",
        "    pred_LSTM = model_lstm.predict(new_x_test_pad)\n",
        "    pred_LSTM_label = int(round(pred_LSTM[0][0]))  # Convert probability to binary label (0 or 1)\n",
        "\n",
        "    # Print the predictions from all models\n",
        "    return print(\"\\n\\nlogistic reg Prediction: {} \\nnb Prediction: {} \\nSVC Prediction: {} \\nLSTM Prediction: {}\".format(\n",
        "        output_lable(pred_LR[0]),\n",
        "        output_lable(pred_NB[0]),\n",
        "        output_lable(pred_SVC[0]),\n",
        "        output_lable(pred_LSTM_label)\n",
        "    ))\n"
      ],
      "metadata": {
        "id": "_diYxk5tnZqS"
      },
      "execution_count": 85,
      "outputs": []
    },
    {
      "cell_type": "code",
      "source": [
        "news = str(input())\n",
        "manual_testing(news)"
      ],
      "metadata": {
        "colab": {
          "base_uri": "https://localhost:8080/"
        },
        "id": "tNrNlUfcnmwZ",
        "outputId": "f8c3582f-b351-4e0d-d03a-d6feb5128d75"
      },
      "execution_count": 86,
      "outputs": [
        {
          "output_type": "stream",
          "name": "stdout",
          "text": [
            "On Christmas day, Donald Trump announced that he would  be back to work  the following day, but he is golfing for the fourth day in a row. The former reality show star blasted former President Barack Obama for playing golf and now Trump is on track to outpace the number of golf games his predecessor played.Updated my tracker of Trump s appearances at Trump properties.71 rounds of golf including today s. At this pace, he ll pass Obama s first-term total by July 24 next year. https://t.co/Fg7VacxRtJ pic.twitter.com/5gEMcjQTbH  Philip Bump (@pbump) December 29, 2017 That makes what a Washington Post reporter discovered on Trump s website really weird, but everything about this administration is bizarre AF. The coding contained a reference to Obama and golf:  Unlike Obama, we are working to fix the problem   and not on the golf course.  However, the coding wasn t done correctly.The website of Donald Trump, who has spent several days in a row at the golf course, is coded to serve up the following message in the event of an internal server error: https://t.co/zrWpyMXRcz pic.twitter.com/wiQSQNNzw0  Christopher Ingraham (@_cingraham) December 28, 2017That snippet of code appears to be on all https://t.co/dkhw0AlHB4 pages, which the footer says is paid for by the RNC? pic.twitter.com/oaZDT126B3  Christopher Ingraham (@_cingraham) December 28, 2017It s also all over https://t.co/ayBlGmk65Z. As others have noted in this thread, this is weird code and it s not clear it would ever actually display, but who knows.  Christopher Ingraham (@_cingraham) December 28, 2017After the coding was called out, the reference to Obama was deleted.UPDATE: The golf error message has been removed from the Trump and GOP websites. They also fixed the javascript  =  vs  ==  problem. Still not clear when these messages would actually display, since the actual 404 (and presumably 500) page displays a different message pic.twitter.com/Z7dmyQ5smy  Christopher Ingraham (@_cingraham) December 29, 2017That suggests someone at either RNC or the Trump admin is sensitive enough to Trump s golf problem to make this issue go away quickly once people noticed. You have no idea how much I d love to see the email exchange that led us here.  Christopher Ingraham (@_cingraham) December 29, 2017 The code was f-cked up.The best part about this is that they are using the  =  (assignment) operator which means that bit of code will never get run. If you look a few lines up  errorCode  will always be  404          (@tw1trsux) December 28, 2017trump s coders can t code. Nobody is surprised.  Tim Peterson (@timrpeterson) December 28, 2017Donald Trump is obsessed with Obama that his name was even in the coding of his website while he played golf again.Photo by Joe Raedle/Getty Images.\n",
            "\u001b[1m1/1\u001b[0m \u001b[32m━━━━━━━━━━━━━━━━━━━━\u001b[0m\u001b[37m\u001b[0m \u001b[1m0s\u001b[0m 36ms/step\n",
            "\n",
            "\n",
            "logistic reg Prediction: Fake News \n",
            "nb Prediction: Fake News \n",
            "SVC Prediction: Fake News \n",
            "LSTM Prediction: Fake News\n"
          ]
        }
      ]
    },
    {
      "cell_type": "markdown",
      "source": [
        "# Deployment"
      ],
      "metadata": {
        "id": "kFLdAGn5BftM"
      }
    },
    {
      "cell_type": "code",
      "source": [
        "#steps -\n",
        "#1) save our trained model using pickle or joblib file -- i.e., dump the file & load the model.\n",
        "#2) create web app using Flask \\ FastAPI \\ streamlit \\ Django -- that loads the model(pickle or joblib) and vectorizer, accepts incoming news articles, and returns predictions.\n",
        "# eg:- consider flask app -- steps - create Flask app(initialize), load the model file(pickle or joblib) & vectorize file to read it,"
      ],
      "metadata": {
        "id": "Z8EUtv78BfQf"
      },
      "execution_count": null,
      "outputs": []
    },
    {
      "cell_type": "code",
      "source": [
        "import pickle\n",
        "\n",
        "# Save the model to a file\n",
        "with open('logistic_model.pkl', 'wb') as file:\n",
        "    pickle.dump(logreg, file)\n",
        "\n",
        "print(\"Model saved successfully as 'logistic_model.pkl'\")"
      ],
      "metadata": {
        "colab": {
          "base_uri": "https://localhost:8080/"
        },
        "id": "B15e5r2BFuAI",
        "outputId": "33b6dba4-5a4b-4688-e82e-f607107a9370"
      },
      "execution_count": null,
      "outputs": [
        {
          "output_type": "stream",
          "name": "stdout",
          "text": [
            "Model saved successfully as 'logistic_model.pkl'\n"
          ]
        }
      ]
    },
    {
      "cell_type": "code",
      "source": [
        "# Load the model from the pickle file\n",
        "with open('logistic_model.pkl', 'rb') as file:\n",
        "    loaded_model = pickle.load(file)\n",
        "\n",
        "# Example prediction\n",
        "y_pred1 = loaded_model.predict(X_test_tfidf)\n",
        "print(y_pred1)\n"
      ],
      "metadata": {
        "colab": {
          "base_uri": "https://localhost:8080/"
        },
        "id": "ktcWU4X7qWCW",
        "outputId": "5af9a353-9d31-4832-f54b-37a23f12669e"
      },
      "execution_count": null,
      "outputs": [
        {
          "output_type": "stream",
          "name": "stdout",
          "text": [
            "[1 1 0 ... 0 1 1]\n"
          ]
        }
      ]
    },
    {
      "cell_type": "code",
      "source": [
        "# from flask import Flask, request, jsonify\n",
        "# import pickle\n",
        "\n",
        "# # Load the saved model\n",
        "# with open('logistic_model.pkl', 'rb') as file:\n",
        "#     model = pickle.load(file)\n",
        "\n",
        "# app = Flask(__name__)\n",
        "\n",
        "# @app.route('/predict', methods=['POST'])\n",
        "# def predict():\n",
        "#     # Get data from POST request\n",
        "#     data = request.json\n",
        "#     # Assuming the input is a list of features\n",
        "#     prediction = model.predict([data['features']])\n",
        "#     return jsonify({'prediction': int(prediction[0])})\n",
        "\n",
        "# if __name__ == '__main__':\n",
        "#     app.run(debug=True)\n"
      ],
      "metadata": {
        "collapsed": true,
        "id": "fzPmuWjSrETd"
      },
      "execution_count": null,
      "outputs": []
    },
    {
      "cell_type": "markdown",
      "source": [
        "**Conclusion**\n",
        "\n",
        "This project focused on identifying true and fake news using natural language processing techniques. The text data was cleaned and prepared for analysis using extreme preprocessing techniques such tokenization, stop word removal, and lemmatization. Exploratory data analysis showed patterns like the frequency of political news and variations in text characteristics between true and fake news articles. During modelling stage, performed evaluation metrics such as accuracy, precision, recall, and F1-score. Based on the results, Support Vector Classifier (SVC) and Logistic Regression achieved the highest accuracies, with 99% and 98% respectively. These findings demonstrate that machine learning and deep learning models can effectively leverage such insights to enhance fake news detection systems."
      ],
      "metadata": {
        "id": "QT54_PXMwHp2"
      }
    }
  ]
}
